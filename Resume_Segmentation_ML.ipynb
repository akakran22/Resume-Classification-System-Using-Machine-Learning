{
  "nbformat": 4,
  "nbformat_minor": 0,
  "metadata": {
    "colab": {
      "provenance": [],
      "gpuType": "T4"
    },
    "kernelspec": {
      "name": "python3",
      "display_name": "Python 3"
    },
    "language_info": {
      "name": "python"
    },
    "accelerator": "GPU",
    "widgets": {
      "application/vnd.jupyter.widget-state+json": {
        "a7b445c4bb0241919007b48dd6c86f8e": {
          "model_module": "@jupyter-widgets/controls",
          "model_name": "HBoxModel",
          "model_module_version": "1.5.0",
          "state": {
            "_dom_classes": [],
            "_model_module": "@jupyter-widgets/controls",
            "_model_module_version": "1.5.0",
            "_model_name": "HBoxModel",
            "_view_count": null,
            "_view_module": "@jupyter-widgets/controls",
            "_view_module_version": "1.5.0",
            "_view_name": "HBoxView",
            "box_style": "",
            "children": [
              "IPY_MODEL_4393d1d4e18d4ba68d23b119a42d4607",
              "IPY_MODEL_a018df4387374d48bc074e8500daab49",
              "IPY_MODEL_b9110b4616b84fc28586c2a3e7d0c34a"
            ],
            "layout": "IPY_MODEL_9bed58aa25fd432ea26571a2ff156e73"
          }
        },
        "4393d1d4e18d4ba68d23b119a42d4607": {
          "model_module": "@jupyter-widgets/controls",
          "model_name": "HTMLModel",
          "model_module_version": "1.5.0",
          "state": {
            "_dom_classes": [],
            "_model_module": "@jupyter-widgets/controls",
            "_model_module_version": "1.5.0",
            "_model_name": "HTMLModel",
            "_view_count": null,
            "_view_module": "@jupyter-widgets/controls",
            "_view_module_version": "1.5.0",
            "_view_name": "HTMLView",
            "description": "",
            "description_tooltip": null,
            "layout": "IPY_MODEL_7fa123f801be45bbb3301a6873c41422",
            "placeholder": "​",
            "style": "IPY_MODEL_97de5eda3479453997224e3d4e1801cc",
            "value": "modules.json: 100%"
          }
        },
        "a018df4387374d48bc074e8500daab49": {
          "model_module": "@jupyter-widgets/controls",
          "model_name": "FloatProgressModel",
          "model_module_version": "1.5.0",
          "state": {
            "_dom_classes": [],
            "_model_module": "@jupyter-widgets/controls",
            "_model_module_version": "1.5.0",
            "_model_name": "FloatProgressModel",
            "_view_count": null,
            "_view_module": "@jupyter-widgets/controls",
            "_view_module_version": "1.5.0",
            "_view_name": "ProgressView",
            "bar_style": "success",
            "description": "",
            "description_tooltip": null,
            "layout": "IPY_MODEL_97e9fa752c3444d68f87f902b255d93d",
            "max": 349,
            "min": 0,
            "orientation": "horizontal",
            "style": "IPY_MODEL_d560ebd668054954b0c7cbede7f0733a",
            "value": 349
          }
        },
        "b9110b4616b84fc28586c2a3e7d0c34a": {
          "model_module": "@jupyter-widgets/controls",
          "model_name": "HTMLModel",
          "model_module_version": "1.5.0",
          "state": {
            "_dom_classes": [],
            "_model_module": "@jupyter-widgets/controls",
            "_model_module_version": "1.5.0",
            "_model_name": "HTMLModel",
            "_view_count": null,
            "_view_module": "@jupyter-widgets/controls",
            "_view_module_version": "1.5.0",
            "_view_name": "HTMLView",
            "description": "",
            "description_tooltip": null,
            "layout": "IPY_MODEL_db61b642e30a41f8bded103a620639ee",
            "placeholder": "​",
            "style": "IPY_MODEL_7c35f649115f4e5a9ade85a2546d0abf",
            "value": " 349/349 [00:00&lt;00:00, 36.8kB/s]"
          }
        },
        "9bed58aa25fd432ea26571a2ff156e73": {
          "model_module": "@jupyter-widgets/base",
          "model_name": "LayoutModel",
          "model_module_version": "1.2.0",
          "state": {
            "_model_module": "@jupyter-widgets/base",
            "_model_module_version": "1.2.0",
            "_model_name": "LayoutModel",
            "_view_count": null,
            "_view_module": "@jupyter-widgets/base",
            "_view_module_version": "1.2.0",
            "_view_name": "LayoutView",
            "align_content": null,
            "align_items": null,
            "align_self": null,
            "border": null,
            "bottom": null,
            "display": null,
            "flex": null,
            "flex_flow": null,
            "grid_area": null,
            "grid_auto_columns": null,
            "grid_auto_flow": null,
            "grid_auto_rows": null,
            "grid_column": null,
            "grid_gap": null,
            "grid_row": null,
            "grid_template_areas": null,
            "grid_template_columns": null,
            "grid_template_rows": null,
            "height": null,
            "justify_content": null,
            "justify_items": null,
            "left": null,
            "margin": null,
            "max_height": null,
            "max_width": null,
            "min_height": null,
            "min_width": null,
            "object_fit": null,
            "object_position": null,
            "order": null,
            "overflow": null,
            "overflow_x": null,
            "overflow_y": null,
            "padding": null,
            "right": null,
            "top": null,
            "visibility": null,
            "width": null
          }
        },
        "7fa123f801be45bbb3301a6873c41422": {
          "model_module": "@jupyter-widgets/base",
          "model_name": "LayoutModel",
          "model_module_version": "1.2.0",
          "state": {
            "_model_module": "@jupyter-widgets/base",
            "_model_module_version": "1.2.0",
            "_model_name": "LayoutModel",
            "_view_count": null,
            "_view_module": "@jupyter-widgets/base",
            "_view_module_version": "1.2.0",
            "_view_name": "LayoutView",
            "align_content": null,
            "align_items": null,
            "align_self": null,
            "border": null,
            "bottom": null,
            "display": null,
            "flex": null,
            "flex_flow": null,
            "grid_area": null,
            "grid_auto_columns": null,
            "grid_auto_flow": null,
            "grid_auto_rows": null,
            "grid_column": null,
            "grid_gap": null,
            "grid_row": null,
            "grid_template_areas": null,
            "grid_template_columns": null,
            "grid_template_rows": null,
            "height": null,
            "justify_content": null,
            "justify_items": null,
            "left": null,
            "margin": null,
            "max_height": null,
            "max_width": null,
            "min_height": null,
            "min_width": null,
            "object_fit": null,
            "object_position": null,
            "order": null,
            "overflow": null,
            "overflow_x": null,
            "overflow_y": null,
            "padding": null,
            "right": null,
            "top": null,
            "visibility": null,
            "width": null
          }
        },
        "97de5eda3479453997224e3d4e1801cc": {
          "model_module": "@jupyter-widgets/controls",
          "model_name": "DescriptionStyleModel",
          "model_module_version": "1.5.0",
          "state": {
            "_model_module": "@jupyter-widgets/controls",
            "_model_module_version": "1.5.0",
            "_model_name": "DescriptionStyleModel",
            "_view_count": null,
            "_view_module": "@jupyter-widgets/base",
            "_view_module_version": "1.2.0",
            "_view_name": "StyleView",
            "description_width": ""
          }
        },
        "97e9fa752c3444d68f87f902b255d93d": {
          "model_module": "@jupyter-widgets/base",
          "model_name": "LayoutModel",
          "model_module_version": "1.2.0",
          "state": {
            "_model_module": "@jupyter-widgets/base",
            "_model_module_version": "1.2.0",
            "_model_name": "LayoutModel",
            "_view_count": null,
            "_view_module": "@jupyter-widgets/base",
            "_view_module_version": "1.2.0",
            "_view_name": "LayoutView",
            "align_content": null,
            "align_items": null,
            "align_self": null,
            "border": null,
            "bottom": null,
            "display": null,
            "flex": null,
            "flex_flow": null,
            "grid_area": null,
            "grid_auto_columns": null,
            "grid_auto_flow": null,
            "grid_auto_rows": null,
            "grid_column": null,
            "grid_gap": null,
            "grid_row": null,
            "grid_template_areas": null,
            "grid_template_columns": null,
            "grid_template_rows": null,
            "height": null,
            "justify_content": null,
            "justify_items": null,
            "left": null,
            "margin": null,
            "max_height": null,
            "max_width": null,
            "min_height": null,
            "min_width": null,
            "object_fit": null,
            "object_position": null,
            "order": null,
            "overflow": null,
            "overflow_x": null,
            "overflow_y": null,
            "padding": null,
            "right": null,
            "top": null,
            "visibility": null,
            "width": null
          }
        },
        "d560ebd668054954b0c7cbede7f0733a": {
          "model_module": "@jupyter-widgets/controls",
          "model_name": "ProgressStyleModel",
          "model_module_version": "1.5.0",
          "state": {
            "_model_module": "@jupyter-widgets/controls",
            "_model_module_version": "1.5.0",
            "_model_name": "ProgressStyleModel",
            "_view_count": null,
            "_view_module": "@jupyter-widgets/base",
            "_view_module_version": "1.2.0",
            "_view_name": "StyleView",
            "bar_color": null,
            "description_width": ""
          }
        },
        "db61b642e30a41f8bded103a620639ee": {
          "model_module": "@jupyter-widgets/base",
          "model_name": "LayoutModel",
          "model_module_version": "1.2.0",
          "state": {
            "_model_module": "@jupyter-widgets/base",
            "_model_module_version": "1.2.0",
            "_model_name": "LayoutModel",
            "_view_count": null,
            "_view_module": "@jupyter-widgets/base",
            "_view_module_version": "1.2.0",
            "_view_name": "LayoutView",
            "align_content": null,
            "align_items": null,
            "align_self": null,
            "border": null,
            "bottom": null,
            "display": null,
            "flex": null,
            "flex_flow": null,
            "grid_area": null,
            "grid_auto_columns": null,
            "grid_auto_flow": null,
            "grid_auto_rows": null,
            "grid_column": null,
            "grid_gap": null,
            "grid_row": null,
            "grid_template_areas": null,
            "grid_template_columns": null,
            "grid_template_rows": null,
            "height": null,
            "justify_content": null,
            "justify_items": null,
            "left": null,
            "margin": null,
            "max_height": null,
            "max_width": null,
            "min_height": null,
            "min_width": null,
            "object_fit": null,
            "object_position": null,
            "order": null,
            "overflow": null,
            "overflow_x": null,
            "overflow_y": null,
            "padding": null,
            "right": null,
            "top": null,
            "visibility": null,
            "width": null
          }
        },
        "7c35f649115f4e5a9ade85a2546d0abf": {
          "model_module": "@jupyter-widgets/controls",
          "model_name": "DescriptionStyleModel",
          "model_module_version": "1.5.0",
          "state": {
            "_model_module": "@jupyter-widgets/controls",
            "_model_module_version": "1.5.0",
            "_model_name": "DescriptionStyleModel",
            "_view_count": null,
            "_view_module": "@jupyter-widgets/base",
            "_view_module_version": "1.2.0",
            "_view_name": "StyleView",
            "description_width": ""
          }
        },
        "4f386ddaa19a40c0ab179927fb18369d": {
          "model_module": "@jupyter-widgets/controls",
          "model_name": "HBoxModel",
          "model_module_version": "1.5.0",
          "state": {
            "_dom_classes": [],
            "_model_module": "@jupyter-widgets/controls",
            "_model_module_version": "1.5.0",
            "_model_name": "HBoxModel",
            "_view_count": null,
            "_view_module": "@jupyter-widgets/controls",
            "_view_module_version": "1.5.0",
            "_view_name": "HBoxView",
            "box_style": "",
            "children": [
              "IPY_MODEL_481c0f8ced074c88824d7239216432f8",
              "IPY_MODEL_8f5a54e2baf0403e88d48ed639fd88cc",
              "IPY_MODEL_e65eda6878ee41e2a7e08089ea174d4a"
            ],
            "layout": "IPY_MODEL_c103e62986834ce6ab49f09e4d2208df"
          }
        },
        "481c0f8ced074c88824d7239216432f8": {
          "model_module": "@jupyter-widgets/controls",
          "model_name": "HTMLModel",
          "model_module_version": "1.5.0",
          "state": {
            "_dom_classes": [],
            "_model_module": "@jupyter-widgets/controls",
            "_model_module_version": "1.5.0",
            "_model_name": "HTMLModel",
            "_view_count": null,
            "_view_module": "@jupyter-widgets/controls",
            "_view_module_version": "1.5.0",
            "_view_name": "HTMLView",
            "description": "",
            "description_tooltip": null,
            "layout": "IPY_MODEL_903fa675da4e4a13863efcf29f40acee",
            "placeholder": "​",
            "style": "IPY_MODEL_550389aa95b246dfacdb8a8dc8d28846",
            "value": "config_sentence_transformers.json: 100%"
          }
        },
        "8f5a54e2baf0403e88d48ed639fd88cc": {
          "model_module": "@jupyter-widgets/controls",
          "model_name": "FloatProgressModel",
          "model_module_version": "1.5.0",
          "state": {
            "_dom_classes": [],
            "_model_module": "@jupyter-widgets/controls",
            "_model_module_version": "1.5.0",
            "_model_name": "FloatProgressModel",
            "_view_count": null,
            "_view_module": "@jupyter-widgets/controls",
            "_view_module_version": "1.5.0",
            "_view_name": "ProgressView",
            "bar_style": "success",
            "description": "",
            "description_tooltip": null,
            "layout": "IPY_MODEL_91c413c94a4b45759844191c0186f94e",
            "max": 116,
            "min": 0,
            "orientation": "horizontal",
            "style": "IPY_MODEL_f9fc54a7951c41708d194aac763ffbd9",
            "value": 116
          }
        },
        "e65eda6878ee41e2a7e08089ea174d4a": {
          "model_module": "@jupyter-widgets/controls",
          "model_name": "HTMLModel",
          "model_module_version": "1.5.0",
          "state": {
            "_dom_classes": [],
            "_model_module": "@jupyter-widgets/controls",
            "_model_module_version": "1.5.0",
            "_model_name": "HTMLModel",
            "_view_count": null,
            "_view_module": "@jupyter-widgets/controls",
            "_view_module_version": "1.5.0",
            "_view_name": "HTMLView",
            "description": "",
            "description_tooltip": null,
            "layout": "IPY_MODEL_734f292dc7a64abaa955be8fea0d2e67",
            "placeholder": "​",
            "style": "IPY_MODEL_0635f1d5c2ae48d48ff3a9feb9a82852",
            "value": " 116/116 [00:00&lt;00:00, 8.96kB/s]"
          }
        },
        "c103e62986834ce6ab49f09e4d2208df": {
          "model_module": "@jupyter-widgets/base",
          "model_name": "LayoutModel",
          "model_module_version": "1.2.0",
          "state": {
            "_model_module": "@jupyter-widgets/base",
            "_model_module_version": "1.2.0",
            "_model_name": "LayoutModel",
            "_view_count": null,
            "_view_module": "@jupyter-widgets/base",
            "_view_module_version": "1.2.0",
            "_view_name": "LayoutView",
            "align_content": null,
            "align_items": null,
            "align_self": null,
            "border": null,
            "bottom": null,
            "display": null,
            "flex": null,
            "flex_flow": null,
            "grid_area": null,
            "grid_auto_columns": null,
            "grid_auto_flow": null,
            "grid_auto_rows": null,
            "grid_column": null,
            "grid_gap": null,
            "grid_row": null,
            "grid_template_areas": null,
            "grid_template_columns": null,
            "grid_template_rows": null,
            "height": null,
            "justify_content": null,
            "justify_items": null,
            "left": null,
            "margin": null,
            "max_height": null,
            "max_width": null,
            "min_height": null,
            "min_width": null,
            "object_fit": null,
            "object_position": null,
            "order": null,
            "overflow": null,
            "overflow_x": null,
            "overflow_y": null,
            "padding": null,
            "right": null,
            "top": null,
            "visibility": null,
            "width": null
          }
        },
        "903fa675da4e4a13863efcf29f40acee": {
          "model_module": "@jupyter-widgets/base",
          "model_name": "LayoutModel",
          "model_module_version": "1.2.0",
          "state": {
            "_model_module": "@jupyter-widgets/base",
            "_model_module_version": "1.2.0",
            "_model_name": "LayoutModel",
            "_view_count": null,
            "_view_module": "@jupyter-widgets/base",
            "_view_module_version": "1.2.0",
            "_view_name": "LayoutView",
            "align_content": null,
            "align_items": null,
            "align_self": null,
            "border": null,
            "bottom": null,
            "display": null,
            "flex": null,
            "flex_flow": null,
            "grid_area": null,
            "grid_auto_columns": null,
            "grid_auto_flow": null,
            "grid_auto_rows": null,
            "grid_column": null,
            "grid_gap": null,
            "grid_row": null,
            "grid_template_areas": null,
            "grid_template_columns": null,
            "grid_template_rows": null,
            "height": null,
            "justify_content": null,
            "justify_items": null,
            "left": null,
            "margin": null,
            "max_height": null,
            "max_width": null,
            "min_height": null,
            "min_width": null,
            "object_fit": null,
            "object_position": null,
            "order": null,
            "overflow": null,
            "overflow_x": null,
            "overflow_y": null,
            "padding": null,
            "right": null,
            "top": null,
            "visibility": null,
            "width": null
          }
        },
        "550389aa95b246dfacdb8a8dc8d28846": {
          "model_module": "@jupyter-widgets/controls",
          "model_name": "DescriptionStyleModel",
          "model_module_version": "1.5.0",
          "state": {
            "_model_module": "@jupyter-widgets/controls",
            "_model_module_version": "1.5.0",
            "_model_name": "DescriptionStyleModel",
            "_view_count": null,
            "_view_module": "@jupyter-widgets/base",
            "_view_module_version": "1.2.0",
            "_view_name": "StyleView",
            "description_width": ""
          }
        },
        "91c413c94a4b45759844191c0186f94e": {
          "model_module": "@jupyter-widgets/base",
          "model_name": "LayoutModel",
          "model_module_version": "1.2.0",
          "state": {
            "_model_module": "@jupyter-widgets/base",
            "_model_module_version": "1.2.0",
            "_model_name": "LayoutModel",
            "_view_count": null,
            "_view_module": "@jupyter-widgets/base",
            "_view_module_version": "1.2.0",
            "_view_name": "LayoutView",
            "align_content": null,
            "align_items": null,
            "align_self": null,
            "border": null,
            "bottom": null,
            "display": null,
            "flex": null,
            "flex_flow": null,
            "grid_area": null,
            "grid_auto_columns": null,
            "grid_auto_flow": null,
            "grid_auto_rows": null,
            "grid_column": null,
            "grid_gap": null,
            "grid_row": null,
            "grid_template_areas": null,
            "grid_template_columns": null,
            "grid_template_rows": null,
            "height": null,
            "justify_content": null,
            "justify_items": null,
            "left": null,
            "margin": null,
            "max_height": null,
            "max_width": null,
            "min_height": null,
            "min_width": null,
            "object_fit": null,
            "object_position": null,
            "order": null,
            "overflow": null,
            "overflow_x": null,
            "overflow_y": null,
            "padding": null,
            "right": null,
            "top": null,
            "visibility": null,
            "width": null
          }
        },
        "f9fc54a7951c41708d194aac763ffbd9": {
          "model_module": "@jupyter-widgets/controls",
          "model_name": "ProgressStyleModel",
          "model_module_version": "1.5.0",
          "state": {
            "_model_module": "@jupyter-widgets/controls",
            "_model_module_version": "1.5.0",
            "_model_name": "ProgressStyleModel",
            "_view_count": null,
            "_view_module": "@jupyter-widgets/base",
            "_view_module_version": "1.2.0",
            "_view_name": "StyleView",
            "bar_color": null,
            "description_width": ""
          }
        },
        "734f292dc7a64abaa955be8fea0d2e67": {
          "model_module": "@jupyter-widgets/base",
          "model_name": "LayoutModel",
          "model_module_version": "1.2.0",
          "state": {
            "_model_module": "@jupyter-widgets/base",
            "_model_module_version": "1.2.0",
            "_model_name": "LayoutModel",
            "_view_count": null,
            "_view_module": "@jupyter-widgets/base",
            "_view_module_version": "1.2.0",
            "_view_name": "LayoutView",
            "align_content": null,
            "align_items": null,
            "align_self": null,
            "border": null,
            "bottom": null,
            "display": null,
            "flex": null,
            "flex_flow": null,
            "grid_area": null,
            "grid_auto_columns": null,
            "grid_auto_flow": null,
            "grid_auto_rows": null,
            "grid_column": null,
            "grid_gap": null,
            "grid_row": null,
            "grid_template_areas": null,
            "grid_template_columns": null,
            "grid_template_rows": null,
            "height": null,
            "justify_content": null,
            "justify_items": null,
            "left": null,
            "margin": null,
            "max_height": null,
            "max_width": null,
            "min_height": null,
            "min_width": null,
            "object_fit": null,
            "object_position": null,
            "order": null,
            "overflow": null,
            "overflow_x": null,
            "overflow_y": null,
            "padding": null,
            "right": null,
            "top": null,
            "visibility": null,
            "width": null
          }
        },
        "0635f1d5c2ae48d48ff3a9feb9a82852": {
          "model_module": "@jupyter-widgets/controls",
          "model_name": "DescriptionStyleModel",
          "model_module_version": "1.5.0",
          "state": {
            "_model_module": "@jupyter-widgets/controls",
            "_model_module_version": "1.5.0",
            "_model_name": "DescriptionStyleModel",
            "_view_count": null,
            "_view_module": "@jupyter-widgets/base",
            "_view_module_version": "1.2.0",
            "_view_name": "StyleView",
            "description_width": ""
          }
        },
        "6f70acf3dbc242f694b6484afc261633": {
          "model_module": "@jupyter-widgets/controls",
          "model_name": "HBoxModel",
          "model_module_version": "1.5.0",
          "state": {
            "_dom_classes": [],
            "_model_module": "@jupyter-widgets/controls",
            "_model_module_version": "1.5.0",
            "_model_name": "HBoxModel",
            "_view_count": null,
            "_view_module": "@jupyter-widgets/controls",
            "_view_module_version": "1.5.0",
            "_view_name": "HBoxView",
            "box_style": "",
            "children": [
              "IPY_MODEL_8efef31802624ec1b39a3dfa612aa6ea",
              "IPY_MODEL_8e022b8b6cae4907bca6de7dfc827a8a",
              "IPY_MODEL_1e16c451a3874df0a17a658ea617e652"
            ],
            "layout": "IPY_MODEL_73d70aa2a8a7494fa2fe6c6e7d18617e"
          }
        },
        "8efef31802624ec1b39a3dfa612aa6ea": {
          "model_module": "@jupyter-widgets/controls",
          "model_name": "HTMLModel",
          "model_module_version": "1.5.0",
          "state": {
            "_dom_classes": [],
            "_model_module": "@jupyter-widgets/controls",
            "_model_module_version": "1.5.0",
            "_model_name": "HTMLModel",
            "_view_count": null,
            "_view_module": "@jupyter-widgets/controls",
            "_view_module_version": "1.5.0",
            "_view_name": "HTMLView",
            "description": "",
            "description_tooltip": null,
            "layout": "IPY_MODEL_ff94dc3b43ea48e49a081e404805ad47",
            "placeholder": "​",
            "style": "IPY_MODEL_78985aa10af840799111aec8dae12813",
            "value": "README.md: "
          }
        },
        "8e022b8b6cae4907bca6de7dfc827a8a": {
          "model_module": "@jupyter-widgets/controls",
          "model_name": "FloatProgressModel",
          "model_module_version": "1.5.0",
          "state": {
            "_dom_classes": [],
            "_model_module": "@jupyter-widgets/controls",
            "_model_module_version": "1.5.0",
            "_model_name": "FloatProgressModel",
            "_view_count": null,
            "_view_module": "@jupyter-widgets/controls",
            "_view_module_version": "1.5.0",
            "_view_name": "ProgressView",
            "bar_style": "success",
            "description": "",
            "description_tooltip": null,
            "layout": "IPY_MODEL_6d9567f4ab7344c59ac24995a5f7cd79",
            "max": 1,
            "min": 0,
            "orientation": "horizontal",
            "style": "IPY_MODEL_78b8e66bd7464c7cb7d760788d569624",
            "value": 1
          }
        },
        "1e16c451a3874df0a17a658ea617e652": {
          "model_module": "@jupyter-widgets/controls",
          "model_name": "HTMLModel",
          "model_module_version": "1.5.0",
          "state": {
            "_dom_classes": [],
            "_model_module": "@jupyter-widgets/controls",
            "_model_module_version": "1.5.0",
            "_model_name": "HTMLModel",
            "_view_count": null,
            "_view_module": "@jupyter-widgets/controls",
            "_view_module_version": "1.5.0",
            "_view_name": "HTMLView",
            "description": "",
            "description_tooltip": null,
            "layout": "IPY_MODEL_843e3c95a0bc46148e8f89d9b8cb5a23",
            "placeholder": "​",
            "style": "IPY_MODEL_ac526a85d5fc486b9d904029232d425f",
            "value": " 10.5k/? [00:00&lt;00:00, 978kB/s]"
          }
        },
        "73d70aa2a8a7494fa2fe6c6e7d18617e": {
          "model_module": "@jupyter-widgets/base",
          "model_name": "LayoutModel",
          "model_module_version": "1.2.0",
          "state": {
            "_model_module": "@jupyter-widgets/base",
            "_model_module_version": "1.2.0",
            "_model_name": "LayoutModel",
            "_view_count": null,
            "_view_module": "@jupyter-widgets/base",
            "_view_module_version": "1.2.0",
            "_view_name": "LayoutView",
            "align_content": null,
            "align_items": null,
            "align_self": null,
            "border": null,
            "bottom": null,
            "display": null,
            "flex": null,
            "flex_flow": null,
            "grid_area": null,
            "grid_auto_columns": null,
            "grid_auto_flow": null,
            "grid_auto_rows": null,
            "grid_column": null,
            "grid_gap": null,
            "grid_row": null,
            "grid_template_areas": null,
            "grid_template_columns": null,
            "grid_template_rows": null,
            "height": null,
            "justify_content": null,
            "justify_items": null,
            "left": null,
            "margin": null,
            "max_height": null,
            "max_width": null,
            "min_height": null,
            "min_width": null,
            "object_fit": null,
            "object_position": null,
            "order": null,
            "overflow": null,
            "overflow_x": null,
            "overflow_y": null,
            "padding": null,
            "right": null,
            "top": null,
            "visibility": null,
            "width": null
          }
        },
        "ff94dc3b43ea48e49a081e404805ad47": {
          "model_module": "@jupyter-widgets/base",
          "model_name": "LayoutModel",
          "model_module_version": "1.2.0",
          "state": {
            "_model_module": "@jupyter-widgets/base",
            "_model_module_version": "1.2.0",
            "_model_name": "LayoutModel",
            "_view_count": null,
            "_view_module": "@jupyter-widgets/base",
            "_view_module_version": "1.2.0",
            "_view_name": "LayoutView",
            "align_content": null,
            "align_items": null,
            "align_self": null,
            "border": null,
            "bottom": null,
            "display": null,
            "flex": null,
            "flex_flow": null,
            "grid_area": null,
            "grid_auto_columns": null,
            "grid_auto_flow": null,
            "grid_auto_rows": null,
            "grid_column": null,
            "grid_gap": null,
            "grid_row": null,
            "grid_template_areas": null,
            "grid_template_columns": null,
            "grid_template_rows": null,
            "height": null,
            "justify_content": null,
            "justify_items": null,
            "left": null,
            "margin": null,
            "max_height": null,
            "max_width": null,
            "min_height": null,
            "min_width": null,
            "object_fit": null,
            "object_position": null,
            "order": null,
            "overflow": null,
            "overflow_x": null,
            "overflow_y": null,
            "padding": null,
            "right": null,
            "top": null,
            "visibility": null,
            "width": null
          }
        },
        "78985aa10af840799111aec8dae12813": {
          "model_module": "@jupyter-widgets/controls",
          "model_name": "DescriptionStyleModel",
          "model_module_version": "1.5.0",
          "state": {
            "_model_module": "@jupyter-widgets/controls",
            "_model_module_version": "1.5.0",
            "_model_name": "DescriptionStyleModel",
            "_view_count": null,
            "_view_module": "@jupyter-widgets/base",
            "_view_module_version": "1.2.0",
            "_view_name": "StyleView",
            "description_width": ""
          }
        },
        "6d9567f4ab7344c59ac24995a5f7cd79": {
          "model_module": "@jupyter-widgets/base",
          "model_name": "LayoutModel",
          "model_module_version": "1.2.0",
          "state": {
            "_model_module": "@jupyter-widgets/base",
            "_model_module_version": "1.2.0",
            "_model_name": "LayoutModel",
            "_view_count": null,
            "_view_module": "@jupyter-widgets/base",
            "_view_module_version": "1.2.0",
            "_view_name": "LayoutView",
            "align_content": null,
            "align_items": null,
            "align_self": null,
            "border": null,
            "bottom": null,
            "display": null,
            "flex": null,
            "flex_flow": null,
            "grid_area": null,
            "grid_auto_columns": null,
            "grid_auto_flow": null,
            "grid_auto_rows": null,
            "grid_column": null,
            "grid_gap": null,
            "grid_row": null,
            "grid_template_areas": null,
            "grid_template_columns": null,
            "grid_template_rows": null,
            "height": null,
            "justify_content": null,
            "justify_items": null,
            "left": null,
            "margin": null,
            "max_height": null,
            "max_width": null,
            "min_height": null,
            "min_width": null,
            "object_fit": null,
            "object_position": null,
            "order": null,
            "overflow": null,
            "overflow_x": null,
            "overflow_y": null,
            "padding": null,
            "right": null,
            "top": null,
            "visibility": null,
            "width": "20px"
          }
        },
        "78b8e66bd7464c7cb7d760788d569624": {
          "model_module": "@jupyter-widgets/controls",
          "model_name": "ProgressStyleModel",
          "model_module_version": "1.5.0",
          "state": {
            "_model_module": "@jupyter-widgets/controls",
            "_model_module_version": "1.5.0",
            "_model_name": "ProgressStyleModel",
            "_view_count": null,
            "_view_module": "@jupyter-widgets/base",
            "_view_module_version": "1.2.0",
            "_view_name": "StyleView",
            "bar_color": null,
            "description_width": ""
          }
        },
        "843e3c95a0bc46148e8f89d9b8cb5a23": {
          "model_module": "@jupyter-widgets/base",
          "model_name": "LayoutModel",
          "model_module_version": "1.2.0",
          "state": {
            "_model_module": "@jupyter-widgets/base",
            "_model_module_version": "1.2.0",
            "_model_name": "LayoutModel",
            "_view_count": null,
            "_view_module": "@jupyter-widgets/base",
            "_view_module_version": "1.2.0",
            "_view_name": "LayoutView",
            "align_content": null,
            "align_items": null,
            "align_self": null,
            "border": null,
            "bottom": null,
            "display": null,
            "flex": null,
            "flex_flow": null,
            "grid_area": null,
            "grid_auto_columns": null,
            "grid_auto_flow": null,
            "grid_auto_rows": null,
            "grid_column": null,
            "grid_gap": null,
            "grid_row": null,
            "grid_template_areas": null,
            "grid_template_columns": null,
            "grid_template_rows": null,
            "height": null,
            "justify_content": null,
            "justify_items": null,
            "left": null,
            "margin": null,
            "max_height": null,
            "max_width": null,
            "min_height": null,
            "min_width": null,
            "object_fit": null,
            "object_position": null,
            "order": null,
            "overflow": null,
            "overflow_x": null,
            "overflow_y": null,
            "padding": null,
            "right": null,
            "top": null,
            "visibility": null,
            "width": null
          }
        },
        "ac526a85d5fc486b9d904029232d425f": {
          "model_module": "@jupyter-widgets/controls",
          "model_name": "DescriptionStyleModel",
          "model_module_version": "1.5.0",
          "state": {
            "_model_module": "@jupyter-widgets/controls",
            "_model_module_version": "1.5.0",
            "_model_name": "DescriptionStyleModel",
            "_view_count": null,
            "_view_module": "@jupyter-widgets/base",
            "_view_module_version": "1.2.0",
            "_view_name": "StyleView",
            "description_width": ""
          }
        },
        "45acd84c4964457b9bcd19a95a266848": {
          "model_module": "@jupyter-widgets/controls",
          "model_name": "HBoxModel",
          "model_module_version": "1.5.0",
          "state": {
            "_dom_classes": [],
            "_model_module": "@jupyter-widgets/controls",
            "_model_module_version": "1.5.0",
            "_model_name": "HBoxModel",
            "_view_count": null,
            "_view_module": "@jupyter-widgets/controls",
            "_view_module_version": "1.5.0",
            "_view_name": "HBoxView",
            "box_style": "",
            "children": [
              "IPY_MODEL_d41a88eb517247c7bcc75a17334a5028",
              "IPY_MODEL_d85f735a843644b9bc65019ec21993fe",
              "IPY_MODEL_bdb822004b3c4180ade4c558d23d1b44"
            ],
            "layout": "IPY_MODEL_bfc117b9bbf0418c90d3129df76e40f2"
          }
        },
        "d41a88eb517247c7bcc75a17334a5028": {
          "model_module": "@jupyter-widgets/controls",
          "model_name": "HTMLModel",
          "model_module_version": "1.5.0",
          "state": {
            "_dom_classes": [],
            "_model_module": "@jupyter-widgets/controls",
            "_model_module_version": "1.5.0",
            "_model_name": "HTMLModel",
            "_view_count": null,
            "_view_module": "@jupyter-widgets/controls",
            "_view_module_version": "1.5.0",
            "_view_name": "HTMLView",
            "description": "",
            "description_tooltip": null,
            "layout": "IPY_MODEL_e631b7a37fcd42a9ace5dd35d5878a0a",
            "placeholder": "​",
            "style": "IPY_MODEL_fc7c67adaef24c49b31705bc3a07cff8",
            "value": "sentence_bert_config.json: 100%"
          }
        },
        "d85f735a843644b9bc65019ec21993fe": {
          "model_module": "@jupyter-widgets/controls",
          "model_name": "FloatProgressModel",
          "model_module_version": "1.5.0",
          "state": {
            "_dom_classes": [],
            "_model_module": "@jupyter-widgets/controls",
            "_model_module_version": "1.5.0",
            "_model_name": "FloatProgressModel",
            "_view_count": null,
            "_view_module": "@jupyter-widgets/controls",
            "_view_module_version": "1.5.0",
            "_view_name": "ProgressView",
            "bar_style": "success",
            "description": "",
            "description_tooltip": null,
            "layout": "IPY_MODEL_acdd0cef2e87432fb3f37c8809e56c71",
            "max": 53,
            "min": 0,
            "orientation": "horizontal",
            "style": "IPY_MODEL_328209ad6fa54527b5b5aaae799a5ea5",
            "value": 53
          }
        },
        "bdb822004b3c4180ade4c558d23d1b44": {
          "model_module": "@jupyter-widgets/controls",
          "model_name": "HTMLModel",
          "model_module_version": "1.5.0",
          "state": {
            "_dom_classes": [],
            "_model_module": "@jupyter-widgets/controls",
            "_model_module_version": "1.5.0",
            "_model_name": "HTMLModel",
            "_view_count": null,
            "_view_module": "@jupyter-widgets/controls",
            "_view_module_version": "1.5.0",
            "_view_name": "HTMLView",
            "description": "",
            "description_tooltip": null,
            "layout": "IPY_MODEL_2f880d29823543f0b1c4dda0fe7e2719",
            "placeholder": "​",
            "style": "IPY_MODEL_eb29b96d93124d438551d8547dfb91b8",
            "value": " 53.0/53.0 [00:00&lt;00:00, 5.11kB/s]"
          }
        },
        "bfc117b9bbf0418c90d3129df76e40f2": {
          "model_module": "@jupyter-widgets/base",
          "model_name": "LayoutModel",
          "model_module_version": "1.2.0",
          "state": {
            "_model_module": "@jupyter-widgets/base",
            "_model_module_version": "1.2.0",
            "_model_name": "LayoutModel",
            "_view_count": null,
            "_view_module": "@jupyter-widgets/base",
            "_view_module_version": "1.2.0",
            "_view_name": "LayoutView",
            "align_content": null,
            "align_items": null,
            "align_self": null,
            "border": null,
            "bottom": null,
            "display": null,
            "flex": null,
            "flex_flow": null,
            "grid_area": null,
            "grid_auto_columns": null,
            "grid_auto_flow": null,
            "grid_auto_rows": null,
            "grid_column": null,
            "grid_gap": null,
            "grid_row": null,
            "grid_template_areas": null,
            "grid_template_columns": null,
            "grid_template_rows": null,
            "height": null,
            "justify_content": null,
            "justify_items": null,
            "left": null,
            "margin": null,
            "max_height": null,
            "max_width": null,
            "min_height": null,
            "min_width": null,
            "object_fit": null,
            "object_position": null,
            "order": null,
            "overflow": null,
            "overflow_x": null,
            "overflow_y": null,
            "padding": null,
            "right": null,
            "top": null,
            "visibility": null,
            "width": null
          }
        },
        "e631b7a37fcd42a9ace5dd35d5878a0a": {
          "model_module": "@jupyter-widgets/base",
          "model_name": "LayoutModel",
          "model_module_version": "1.2.0",
          "state": {
            "_model_module": "@jupyter-widgets/base",
            "_model_module_version": "1.2.0",
            "_model_name": "LayoutModel",
            "_view_count": null,
            "_view_module": "@jupyter-widgets/base",
            "_view_module_version": "1.2.0",
            "_view_name": "LayoutView",
            "align_content": null,
            "align_items": null,
            "align_self": null,
            "border": null,
            "bottom": null,
            "display": null,
            "flex": null,
            "flex_flow": null,
            "grid_area": null,
            "grid_auto_columns": null,
            "grid_auto_flow": null,
            "grid_auto_rows": null,
            "grid_column": null,
            "grid_gap": null,
            "grid_row": null,
            "grid_template_areas": null,
            "grid_template_columns": null,
            "grid_template_rows": null,
            "height": null,
            "justify_content": null,
            "justify_items": null,
            "left": null,
            "margin": null,
            "max_height": null,
            "max_width": null,
            "min_height": null,
            "min_width": null,
            "object_fit": null,
            "object_position": null,
            "order": null,
            "overflow": null,
            "overflow_x": null,
            "overflow_y": null,
            "padding": null,
            "right": null,
            "top": null,
            "visibility": null,
            "width": null
          }
        },
        "fc7c67adaef24c49b31705bc3a07cff8": {
          "model_module": "@jupyter-widgets/controls",
          "model_name": "DescriptionStyleModel",
          "model_module_version": "1.5.0",
          "state": {
            "_model_module": "@jupyter-widgets/controls",
            "_model_module_version": "1.5.0",
            "_model_name": "DescriptionStyleModel",
            "_view_count": null,
            "_view_module": "@jupyter-widgets/base",
            "_view_module_version": "1.2.0",
            "_view_name": "StyleView",
            "description_width": ""
          }
        },
        "acdd0cef2e87432fb3f37c8809e56c71": {
          "model_module": "@jupyter-widgets/base",
          "model_name": "LayoutModel",
          "model_module_version": "1.2.0",
          "state": {
            "_model_module": "@jupyter-widgets/base",
            "_model_module_version": "1.2.0",
            "_model_name": "LayoutModel",
            "_view_count": null,
            "_view_module": "@jupyter-widgets/base",
            "_view_module_version": "1.2.0",
            "_view_name": "LayoutView",
            "align_content": null,
            "align_items": null,
            "align_self": null,
            "border": null,
            "bottom": null,
            "display": null,
            "flex": null,
            "flex_flow": null,
            "grid_area": null,
            "grid_auto_columns": null,
            "grid_auto_flow": null,
            "grid_auto_rows": null,
            "grid_column": null,
            "grid_gap": null,
            "grid_row": null,
            "grid_template_areas": null,
            "grid_template_columns": null,
            "grid_template_rows": null,
            "height": null,
            "justify_content": null,
            "justify_items": null,
            "left": null,
            "margin": null,
            "max_height": null,
            "max_width": null,
            "min_height": null,
            "min_width": null,
            "object_fit": null,
            "object_position": null,
            "order": null,
            "overflow": null,
            "overflow_x": null,
            "overflow_y": null,
            "padding": null,
            "right": null,
            "top": null,
            "visibility": null,
            "width": null
          }
        },
        "328209ad6fa54527b5b5aaae799a5ea5": {
          "model_module": "@jupyter-widgets/controls",
          "model_name": "ProgressStyleModel",
          "model_module_version": "1.5.0",
          "state": {
            "_model_module": "@jupyter-widgets/controls",
            "_model_module_version": "1.5.0",
            "_model_name": "ProgressStyleModel",
            "_view_count": null,
            "_view_module": "@jupyter-widgets/base",
            "_view_module_version": "1.2.0",
            "_view_name": "StyleView",
            "bar_color": null,
            "description_width": ""
          }
        },
        "2f880d29823543f0b1c4dda0fe7e2719": {
          "model_module": "@jupyter-widgets/base",
          "model_name": "LayoutModel",
          "model_module_version": "1.2.0",
          "state": {
            "_model_module": "@jupyter-widgets/base",
            "_model_module_version": "1.2.0",
            "_model_name": "LayoutModel",
            "_view_count": null,
            "_view_module": "@jupyter-widgets/base",
            "_view_module_version": "1.2.0",
            "_view_name": "LayoutView",
            "align_content": null,
            "align_items": null,
            "align_self": null,
            "border": null,
            "bottom": null,
            "display": null,
            "flex": null,
            "flex_flow": null,
            "grid_area": null,
            "grid_auto_columns": null,
            "grid_auto_flow": null,
            "grid_auto_rows": null,
            "grid_column": null,
            "grid_gap": null,
            "grid_row": null,
            "grid_template_areas": null,
            "grid_template_columns": null,
            "grid_template_rows": null,
            "height": null,
            "justify_content": null,
            "justify_items": null,
            "left": null,
            "margin": null,
            "max_height": null,
            "max_width": null,
            "min_height": null,
            "min_width": null,
            "object_fit": null,
            "object_position": null,
            "order": null,
            "overflow": null,
            "overflow_x": null,
            "overflow_y": null,
            "padding": null,
            "right": null,
            "top": null,
            "visibility": null,
            "width": null
          }
        },
        "eb29b96d93124d438551d8547dfb91b8": {
          "model_module": "@jupyter-widgets/controls",
          "model_name": "DescriptionStyleModel",
          "model_module_version": "1.5.0",
          "state": {
            "_model_module": "@jupyter-widgets/controls",
            "_model_module_version": "1.5.0",
            "_model_name": "DescriptionStyleModel",
            "_view_count": null,
            "_view_module": "@jupyter-widgets/base",
            "_view_module_version": "1.2.0",
            "_view_name": "StyleView",
            "description_width": ""
          }
        },
        "1fcd648781694f7180518e878394e950": {
          "model_module": "@jupyter-widgets/controls",
          "model_name": "HBoxModel",
          "model_module_version": "1.5.0",
          "state": {
            "_dom_classes": [],
            "_model_module": "@jupyter-widgets/controls",
            "_model_module_version": "1.5.0",
            "_model_name": "HBoxModel",
            "_view_count": null,
            "_view_module": "@jupyter-widgets/controls",
            "_view_module_version": "1.5.0",
            "_view_name": "HBoxView",
            "box_style": "",
            "children": [
              "IPY_MODEL_116a9f9b8bc1498abe7ef553c464433d",
              "IPY_MODEL_8464003e84eb4a2896fc5e7649db9f74",
              "IPY_MODEL_d56c05e1de3c4575bfa4c27df0259f09"
            ],
            "layout": "IPY_MODEL_3385fb1301134cfdaf2118557243e256"
          }
        },
        "116a9f9b8bc1498abe7ef553c464433d": {
          "model_module": "@jupyter-widgets/controls",
          "model_name": "HTMLModel",
          "model_module_version": "1.5.0",
          "state": {
            "_dom_classes": [],
            "_model_module": "@jupyter-widgets/controls",
            "_model_module_version": "1.5.0",
            "_model_name": "HTMLModel",
            "_view_count": null,
            "_view_module": "@jupyter-widgets/controls",
            "_view_module_version": "1.5.0",
            "_view_name": "HTMLView",
            "description": "",
            "description_tooltip": null,
            "layout": "IPY_MODEL_026175cd19664fcf9af9ed1335a93053",
            "placeholder": "​",
            "style": "IPY_MODEL_33e4186985ad4137a5727805be1721ab",
            "value": "config.json: 100%"
          }
        },
        "8464003e84eb4a2896fc5e7649db9f74": {
          "model_module": "@jupyter-widgets/controls",
          "model_name": "FloatProgressModel",
          "model_module_version": "1.5.0",
          "state": {
            "_dom_classes": [],
            "_model_module": "@jupyter-widgets/controls",
            "_model_module_version": "1.5.0",
            "_model_name": "FloatProgressModel",
            "_view_count": null,
            "_view_module": "@jupyter-widgets/controls",
            "_view_module_version": "1.5.0",
            "_view_name": "ProgressView",
            "bar_style": "success",
            "description": "",
            "description_tooltip": null,
            "layout": "IPY_MODEL_497fdd5198bf4a9790c9e1d94d78e677",
            "max": 612,
            "min": 0,
            "orientation": "horizontal",
            "style": "IPY_MODEL_fc857f7541c84827b917ff48797a4bf9",
            "value": 612
          }
        },
        "d56c05e1de3c4575bfa4c27df0259f09": {
          "model_module": "@jupyter-widgets/controls",
          "model_name": "HTMLModel",
          "model_module_version": "1.5.0",
          "state": {
            "_dom_classes": [],
            "_model_module": "@jupyter-widgets/controls",
            "_model_module_version": "1.5.0",
            "_model_name": "HTMLModel",
            "_view_count": null,
            "_view_module": "@jupyter-widgets/controls",
            "_view_module_version": "1.5.0",
            "_view_name": "HTMLView",
            "description": "",
            "description_tooltip": null,
            "layout": "IPY_MODEL_cc8a3705f2fc4bafa74486258b36aff4",
            "placeholder": "​",
            "style": "IPY_MODEL_05a0aa0c8f2044028689a64926d785be",
            "value": " 612/612 [00:00&lt;00:00, 66.2kB/s]"
          }
        },
        "3385fb1301134cfdaf2118557243e256": {
          "model_module": "@jupyter-widgets/base",
          "model_name": "LayoutModel",
          "model_module_version": "1.2.0",
          "state": {
            "_model_module": "@jupyter-widgets/base",
            "_model_module_version": "1.2.0",
            "_model_name": "LayoutModel",
            "_view_count": null,
            "_view_module": "@jupyter-widgets/base",
            "_view_module_version": "1.2.0",
            "_view_name": "LayoutView",
            "align_content": null,
            "align_items": null,
            "align_self": null,
            "border": null,
            "bottom": null,
            "display": null,
            "flex": null,
            "flex_flow": null,
            "grid_area": null,
            "grid_auto_columns": null,
            "grid_auto_flow": null,
            "grid_auto_rows": null,
            "grid_column": null,
            "grid_gap": null,
            "grid_row": null,
            "grid_template_areas": null,
            "grid_template_columns": null,
            "grid_template_rows": null,
            "height": null,
            "justify_content": null,
            "justify_items": null,
            "left": null,
            "margin": null,
            "max_height": null,
            "max_width": null,
            "min_height": null,
            "min_width": null,
            "object_fit": null,
            "object_position": null,
            "order": null,
            "overflow": null,
            "overflow_x": null,
            "overflow_y": null,
            "padding": null,
            "right": null,
            "top": null,
            "visibility": null,
            "width": null
          }
        },
        "026175cd19664fcf9af9ed1335a93053": {
          "model_module": "@jupyter-widgets/base",
          "model_name": "LayoutModel",
          "model_module_version": "1.2.0",
          "state": {
            "_model_module": "@jupyter-widgets/base",
            "_model_module_version": "1.2.0",
            "_model_name": "LayoutModel",
            "_view_count": null,
            "_view_module": "@jupyter-widgets/base",
            "_view_module_version": "1.2.0",
            "_view_name": "LayoutView",
            "align_content": null,
            "align_items": null,
            "align_self": null,
            "border": null,
            "bottom": null,
            "display": null,
            "flex": null,
            "flex_flow": null,
            "grid_area": null,
            "grid_auto_columns": null,
            "grid_auto_flow": null,
            "grid_auto_rows": null,
            "grid_column": null,
            "grid_gap": null,
            "grid_row": null,
            "grid_template_areas": null,
            "grid_template_columns": null,
            "grid_template_rows": null,
            "height": null,
            "justify_content": null,
            "justify_items": null,
            "left": null,
            "margin": null,
            "max_height": null,
            "max_width": null,
            "min_height": null,
            "min_width": null,
            "object_fit": null,
            "object_position": null,
            "order": null,
            "overflow": null,
            "overflow_x": null,
            "overflow_y": null,
            "padding": null,
            "right": null,
            "top": null,
            "visibility": null,
            "width": null
          }
        },
        "33e4186985ad4137a5727805be1721ab": {
          "model_module": "@jupyter-widgets/controls",
          "model_name": "DescriptionStyleModel",
          "model_module_version": "1.5.0",
          "state": {
            "_model_module": "@jupyter-widgets/controls",
            "_model_module_version": "1.5.0",
            "_model_name": "DescriptionStyleModel",
            "_view_count": null,
            "_view_module": "@jupyter-widgets/base",
            "_view_module_version": "1.2.0",
            "_view_name": "StyleView",
            "description_width": ""
          }
        },
        "497fdd5198bf4a9790c9e1d94d78e677": {
          "model_module": "@jupyter-widgets/base",
          "model_name": "LayoutModel",
          "model_module_version": "1.2.0",
          "state": {
            "_model_module": "@jupyter-widgets/base",
            "_model_module_version": "1.2.0",
            "_model_name": "LayoutModel",
            "_view_count": null,
            "_view_module": "@jupyter-widgets/base",
            "_view_module_version": "1.2.0",
            "_view_name": "LayoutView",
            "align_content": null,
            "align_items": null,
            "align_self": null,
            "border": null,
            "bottom": null,
            "display": null,
            "flex": null,
            "flex_flow": null,
            "grid_area": null,
            "grid_auto_columns": null,
            "grid_auto_flow": null,
            "grid_auto_rows": null,
            "grid_column": null,
            "grid_gap": null,
            "grid_row": null,
            "grid_template_areas": null,
            "grid_template_columns": null,
            "grid_template_rows": null,
            "height": null,
            "justify_content": null,
            "justify_items": null,
            "left": null,
            "margin": null,
            "max_height": null,
            "max_width": null,
            "min_height": null,
            "min_width": null,
            "object_fit": null,
            "object_position": null,
            "order": null,
            "overflow": null,
            "overflow_x": null,
            "overflow_y": null,
            "padding": null,
            "right": null,
            "top": null,
            "visibility": null,
            "width": null
          }
        },
        "fc857f7541c84827b917ff48797a4bf9": {
          "model_module": "@jupyter-widgets/controls",
          "model_name": "ProgressStyleModel",
          "model_module_version": "1.5.0",
          "state": {
            "_model_module": "@jupyter-widgets/controls",
            "_model_module_version": "1.5.0",
            "_model_name": "ProgressStyleModel",
            "_view_count": null,
            "_view_module": "@jupyter-widgets/base",
            "_view_module_version": "1.2.0",
            "_view_name": "StyleView",
            "bar_color": null,
            "description_width": ""
          }
        },
        "cc8a3705f2fc4bafa74486258b36aff4": {
          "model_module": "@jupyter-widgets/base",
          "model_name": "LayoutModel",
          "model_module_version": "1.2.0",
          "state": {
            "_model_module": "@jupyter-widgets/base",
            "_model_module_version": "1.2.0",
            "_model_name": "LayoutModel",
            "_view_count": null,
            "_view_module": "@jupyter-widgets/base",
            "_view_module_version": "1.2.0",
            "_view_name": "LayoutView",
            "align_content": null,
            "align_items": null,
            "align_self": null,
            "border": null,
            "bottom": null,
            "display": null,
            "flex": null,
            "flex_flow": null,
            "grid_area": null,
            "grid_auto_columns": null,
            "grid_auto_flow": null,
            "grid_auto_rows": null,
            "grid_column": null,
            "grid_gap": null,
            "grid_row": null,
            "grid_template_areas": null,
            "grid_template_columns": null,
            "grid_template_rows": null,
            "height": null,
            "justify_content": null,
            "justify_items": null,
            "left": null,
            "margin": null,
            "max_height": null,
            "max_width": null,
            "min_height": null,
            "min_width": null,
            "object_fit": null,
            "object_position": null,
            "order": null,
            "overflow": null,
            "overflow_x": null,
            "overflow_y": null,
            "padding": null,
            "right": null,
            "top": null,
            "visibility": null,
            "width": null
          }
        },
        "05a0aa0c8f2044028689a64926d785be": {
          "model_module": "@jupyter-widgets/controls",
          "model_name": "DescriptionStyleModel",
          "model_module_version": "1.5.0",
          "state": {
            "_model_module": "@jupyter-widgets/controls",
            "_model_module_version": "1.5.0",
            "_model_name": "DescriptionStyleModel",
            "_view_count": null,
            "_view_module": "@jupyter-widgets/base",
            "_view_module_version": "1.2.0",
            "_view_name": "StyleView",
            "description_width": ""
          }
        },
        "c9ae033fcec44c3780879654ffec81d4": {
          "model_module": "@jupyter-widgets/controls",
          "model_name": "HBoxModel",
          "model_module_version": "1.5.0",
          "state": {
            "_dom_classes": [],
            "_model_module": "@jupyter-widgets/controls",
            "_model_module_version": "1.5.0",
            "_model_name": "HBoxModel",
            "_view_count": null,
            "_view_module": "@jupyter-widgets/controls",
            "_view_module_version": "1.5.0",
            "_view_name": "HBoxView",
            "box_style": "",
            "children": [
              "IPY_MODEL_6c5ebc80310d4bb3a36b0934e4959bad",
              "IPY_MODEL_ea47777324e04b159d1568019f0bf671",
              "IPY_MODEL_00b55ac3f8134d92b8d737022fce1af4"
            ],
            "layout": "IPY_MODEL_2e1b19c820e641aeaac6cdac5fd9e982"
          }
        },
        "6c5ebc80310d4bb3a36b0934e4959bad": {
          "model_module": "@jupyter-widgets/controls",
          "model_name": "HTMLModel",
          "model_module_version": "1.5.0",
          "state": {
            "_dom_classes": [],
            "_model_module": "@jupyter-widgets/controls",
            "_model_module_version": "1.5.0",
            "_model_name": "HTMLModel",
            "_view_count": null,
            "_view_module": "@jupyter-widgets/controls",
            "_view_module_version": "1.5.0",
            "_view_name": "HTMLView",
            "description": "",
            "description_tooltip": null,
            "layout": "IPY_MODEL_a65734d829f44d329a5c9581a082c49b",
            "placeholder": "​",
            "style": "IPY_MODEL_d00af76be89d4756ba3732963b1e90ac",
            "value": "model.safetensors: 100%"
          }
        },
        "ea47777324e04b159d1568019f0bf671": {
          "model_module": "@jupyter-widgets/controls",
          "model_name": "FloatProgressModel",
          "model_module_version": "1.5.0",
          "state": {
            "_dom_classes": [],
            "_model_module": "@jupyter-widgets/controls",
            "_model_module_version": "1.5.0",
            "_model_name": "FloatProgressModel",
            "_view_count": null,
            "_view_module": "@jupyter-widgets/controls",
            "_view_module_version": "1.5.0",
            "_view_name": "ProgressView",
            "bar_style": "success",
            "description": "",
            "description_tooltip": null,
            "layout": "IPY_MODEL_a77df4772c9a473b91ee52d758ea3cb7",
            "max": 90868376,
            "min": 0,
            "orientation": "horizontal",
            "style": "IPY_MODEL_76e107380d5040d5b0970f8e4b6b8d98",
            "value": 90868376
          }
        },
        "00b55ac3f8134d92b8d737022fce1af4": {
          "model_module": "@jupyter-widgets/controls",
          "model_name": "HTMLModel",
          "model_module_version": "1.5.0",
          "state": {
            "_dom_classes": [],
            "_model_module": "@jupyter-widgets/controls",
            "_model_module_version": "1.5.0",
            "_model_name": "HTMLModel",
            "_view_count": null,
            "_view_module": "@jupyter-widgets/controls",
            "_view_module_version": "1.5.0",
            "_view_name": "HTMLView",
            "description": "",
            "description_tooltip": null,
            "layout": "IPY_MODEL_57758db016fd486186209b37b3ed63b3",
            "placeholder": "​",
            "style": "IPY_MODEL_fe4f023c089c4897a9dec24ae2c3da5d",
            "value": " 90.9M/90.9M [00:01&lt;00:00, 69.1MB/s]"
          }
        },
        "2e1b19c820e641aeaac6cdac5fd9e982": {
          "model_module": "@jupyter-widgets/base",
          "model_name": "LayoutModel",
          "model_module_version": "1.2.0",
          "state": {
            "_model_module": "@jupyter-widgets/base",
            "_model_module_version": "1.2.0",
            "_model_name": "LayoutModel",
            "_view_count": null,
            "_view_module": "@jupyter-widgets/base",
            "_view_module_version": "1.2.0",
            "_view_name": "LayoutView",
            "align_content": null,
            "align_items": null,
            "align_self": null,
            "border": null,
            "bottom": null,
            "display": null,
            "flex": null,
            "flex_flow": null,
            "grid_area": null,
            "grid_auto_columns": null,
            "grid_auto_flow": null,
            "grid_auto_rows": null,
            "grid_column": null,
            "grid_gap": null,
            "grid_row": null,
            "grid_template_areas": null,
            "grid_template_columns": null,
            "grid_template_rows": null,
            "height": null,
            "justify_content": null,
            "justify_items": null,
            "left": null,
            "margin": null,
            "max_height": null,
            "max_width": null,
            "min_height": null,
            "min_width": null,
            "object_fit": null,
            "object_position": null,
            "order": null,
            "overflow": null,
            "overflow_x": null,
            "overflow_y": null,
            "padding": null,
            "right": null,
            "top": null,
            "visibility": null,
            "width": null
          }
        },
        "a65734d829f44d329a5c9581a082c49b": {
          "model_module": "@jupyter-widgets/base",
          "model_name": "LayoutModel",
          "model_module_version": "1.2.0",
          "state": {
            "_model_module": "@jupyter-widgets/base",
            "_model_module_version": "1.2.0",
            "_model_name": "LayoutModel",
            "_view_count": null,
            "_view_module": "@jupyter-widgets/base",
            "_view_module_version": "1.2.0",
            "_view_name": "LayoutView",
            "align_content": null,
            "align_items": null,
            "align_self": null,
            "border": null,
            "bottom": null,
            "display": null,
            "flex": null,
            "flex_flow": null,
            "grid_area": null,
            "grid_auto_columns": null,
            "grid_auto_flow": null,
            "grid_auto_rows": null,
            "grid_column": null,
            "grid_gap": null,
            "grid_row": null,
            "grid_template_areas": null,
            "grid_template_columns": null,
            "grid_template_rows": null,
            "height": null,
            "justify_content": null,
            "justify_items": null,
            "left": null,
            "margin": null,
            "max_height": null,
            "max_width": null,
            "min_height": null,
            "min_width": null,
            "object_fit": null,
            "object_position": null,
            "order": null,
            "overflow": null,
            "overflow_x": null,
            "overflow_y": null,
            "padding": null,
            "right": null,
            "top": null,
            "visibility": null,
            "width": null
          }
        },
        "d00af76be89d4756ba3732963b1e90ac": {
          "model_module": "@jupyter-widgets/controls",
          "model_name": "DescriptionStyleModel",
          "model_module_version": "1.5.0",
          "state": {
            "_model_module": "@jupyter-widgets/controls",
            "_model_module_version": "1.5.0",
            "_model_name": "DescriptionStyleModel",
            "_view_count": null,
            "_view_module": "@jupyter-widgets/base",
            "_view_module_version": "1.2.0",
            "_view_name": "StyleView",
            "description_width": ""
          }
        },
        "a77df4772c9a473b91ee52d758ea3cb7": {
          "model_module": "@jupyter-widgets/base",
          "model_name": "LayoutModel",
          "model_module_version": "1.2.0",
          "state": {
            "_model_module": "@jupyter-widgets/base",
            "_model_module_version": "1.2.0",
            "_model_name": "LayoutModel",
            "_view_count": null,
            "_view_module": "@jupyter-widgets/base",
            "_view_module_version": "1.2.0",
            "_view_name": "LayoutView",
            "align_content": null,
            "align_items": null,
            "align_self": null,
            "border": null,
            "bottom": null,
            "display": null,
            "flex": null,
            "flex_flow": null,
            "grid_area": null,
            "grid_auto_columns": null,
            "grid_auto_flow": null,
            "grid_auto_rows": null,
            "grid_column": null,
            "grid_gap": null,
            "grid_row": null,
            "grid_template_areas": null,
            "grid_template_columns": null,
            "grid_template_rows": null,
            "height": null,
            "justify_content": null,
            "justify_items": null,
            "left": null,
            "margin": null,
            "max_height": null,
            "max_width": null,
            "min_height": null,
            "min_width": null,
            "object_fit": null,
            "object_position": null,
            "order": null,
            "overflow": null,
            "overflow_x": null,
            "overflow_y": null,
            "padding": null,
            "right": null,
            "top": null,
            "visibility": null,
            "width": null
          }
        },
        "76e107380d5040d5b0970f8e4b6b8d98": {
          "model_module": "@jupyter-widgets/controls",
          "model_name": "ProgressStyleModel",
          "model_module_version": "1.5.0",
          "state": {
            "_model_module": "@jupyter-widgets/controls",
            "_model_module_version": "1.5.0",
            "_model_name": "ProgressStyleModel",
            "_view_count": null,
            "_view_module": "@jupyter-widgets/base",
            "_view_module_version": "1.2.0",
            "_view_name": "StyleView",
            "bar_color": null,
            "description_width": ""
          }
        },
        "57758db016fd486186209b37b3ed63b3": {
          "model_module": "@jupyter-widgets/base",
          "model_name": "LayoutModel",
          "model_module_version": "1.2.0",
          "state": {
            "_model_module": "@jupyter-widgets/base",
            "_model_module_version": "1.2.0",
            "_model_name": "LayoutModel",
            "_view_count": null,
            "_view_module": "@jupyter-widgets/base",
            "_view_module_version": "1.2.0",
            "_view_name": "LayoutView",
            "align_content": null,
            "align_items": null,
            "align_self": null,
            "border": null,
            "bottom": null,
            "display": null,
            "flex": null,
            "flex_flow": null,
            "grid_area": null,
            "grid_auto_columns": null,
            "grid_auto_flow": null,
            "grid_auto_rows": null,
            "grid_column": null,
            "grid_gap": null,
            "grid_row": null,
            "grid_template_areas": null,
            "grid_template_columns": null,
            "grid_template_rows": null,
            "height": null,
            "justify_content": null,
            "justify_items": null,
            "left": null,
            "margin": null,
            "max_height": null,
            "max_width": null,
            "min_height": null,
            "min_width": null,
            "object_fit": null,
            "object_position": null,
            "order": null,
            "overflow": null,
            "overflow_x": null,
            "overflow_y": null,
            "padding": null,
            "right": null,
            "top": null,
            "visibility": null,
            "width": null
          }
        },
        "fe4f023c089c4897a9dec24ae2c3da5d": {
          "model_module": "@jupyter-widgets/controls",
          "model_name": "DescriptionStyleModel",
          "model_module_version": "1.5.0",
          "state": {
            "_model_module": "@jupyter-widgets/controls",
            "_model_module_version": "1.5.0",
            "_model_name": "DescriptionStyleModel",
            "_view_count": null,
            "_view_module": "@jupyter-widgets/base",
            "_view_module_version": "1.2.0",
            "_view_name": "StyleView",
            "description_width": ""
          }
        },
        "ee494ec7b5ef4aa48db1a8ea759364d5": {
          "model_module": "@jupyter-widgets/controls",
          "model_name": "HBoxModel",
          "model_module_version": "1.5.0",
          "state": {
            "_dom_classes": [],
            "_model_module": "@jupyter-widgets/controls",
            "_model_module_version": "1.5.0",
            "_model_name": "HBoxModel",
            "_view_count": null,
            "_view_module": "@jupyter-widgets/controls",
            "_view_module_version": "1.5.0",
            "_view_name": "HBoxView",
            "box_style": "",
            "children": [
              "IPY_MODEL_2ab02e4c73b1465d88b6d8507c4a1512",
              "IPY_MODEL_6e7efa9a9c884a2ca462ae6cf39a5404",
              "IPY_MODEL_3b805f5d1bb145b29e8cdcee74f97d0a"
            ],
            "layout": "IPY_MODEL_da4b09d9af8c4f5b963cfce8542ed817"
          }
        },
        "2ab02e4c73b1465d88b6d8507c4a1512": {
          "model_module": "@jupyter-widgets/controls",
          "model_name": "HTMLModel",
          "model_module_version": "1.5.0",
          "state": {
            "_dom_classes": [],
            "_model_module": "@jupyter-widgets/controls",
            "_model_module_version": "1.5.0",
            "_model_name": "HTMLModel",
            "_view_count": null,
            "_view_module": "@jupyter-widgets/controls",
            "_view_module_version": "1.5.0",
            "_view_name": "HTMLView",
            "description": "",
            "description_tooltip": null,
            "layout": "IPY_MODEL_4cb01c83eed54a38b00f8e53fd381d5b",
            "placeholder": "​",
            "style": "IPY_MODEL_56db8fa086a1457f872d18918222c9d5",
            "value": "tokenizer_config.json: 100%"
          }
        },
        "6e7efa9a9c884a2ca462ae6cf39a5404": {
          "model_module": "@jupyter-widgets/controls",
          "model_name": "FloatProgressModel",
          "model_module_version": "1.5.0",
          "state": {
            "_dom_classes": [],
            "_model_module": "@jupyter-widgets/controls",
            "_model_module_version": "1.5.0",
            "_model_name": "FloatProgressModel",
            "_view_count": null,
            "_view_module": "@jupyter-widgets/controls",
            "_view_module_version": "1.5.0",
            "_view_name": "ProgressView",
            "bar_style": "success",
            "description": "",
            "description_tooltip": null,
            "layout": "IPY_MODEL_e3113b9fdc934f57a453ddae80234d83",
            "max": 350,
            "min": 0,
            "orientation": "horizontal",
            "style": "IPY_MODEL_c7b8baccf19a4f0090d720ba8cc7c92c",
            "value": 350
          }
        },
        "3b805f5d1bb145b29e8cdcee74f97d0a": {
          "model_module": "@jupyter-widgets/controls",
          "model_name": "HTMLModel",
          "model_module_version": "1.5.0",
          "state": {
            "_dom_classes": [],
            "_model_module": "@jupyter-widgets/controls",
            "_model_module_version": "1.5.0",
            "_model_name": "HTMLModel",
            "_view_count": null,
            "_view_module": "@jupyter-widgets/controls",
            "_view_module_version": "1.5.0",
            "_view_name": "HTMLView",
            "description": "",
            "description_tooltip": null,
            "layout": "IPY_MODEL_9d4c95d04a374f6683629dc12d398e37",
            "placeholder": "​",
            "style": "IPY_MODEL_534abf7808ff4779b410882370eecc89",
            "value": " 350/350 [00:00&lt;00:00, 18.1kB/s]"
          }
        },
        "da4b09d9af8c4f5b963cfce8542ed817": {
          "model_module": "@jupyter-widgets/base",
          "model_name": "LayoutModel",
          "model_module_version": "1.2.0",
          "state": {
            "_model_module": "@jupyter-widgets/base",
            "_model_module_version": "1.2.0",
            "_model_name": "LayoutModel",
            "_view_count": null,
            "_view_module": "@jupyter-widgets/base",
            "_view_module_version": "1.2.0",
            "_view_name": "LayoutView",
            "align_content": null,
            "align_items": null,
            "align_self": null,
            "border": null,
            "bottom": null,
            "display": null,
            "flex": null,
            "flex_flow": null,
            "grid_area": null,
            "grid_auto_columns": null,
            "grid_auto_flow": null,
            "grid_auto_rows": null,
            "grid_column": null,
            "grid_gap": null,
            "grid_row": null,
            "grid_template_areas": null,
            "grid_template_columns": null,
            "grid_template_rows": null,
            "height": null,
            "justify_content": null,
            "justify_items": null,
            "left": null,
            "margin": null,
            "max_height": null,
            "max_width": null,
            "min_height": null,
            "min_width": null,
            "object_fit": null,
            "object_position": null,
            "order": null,
            "overflow": null,
            "overflow_x": null,
            "overflow_y": null,
            "padding": null,
            "right": null,
            "top": null,
            "visibility": null,
            "width": null
          }
        },
        "4cb01c83eed54a38b00f8e53fd381d5b": {
          "model_module": "@jupyter-widgets/base",
          "model_name": "LayoutModel",
          "model_module_version": "1.2.0",
          "state": {
            "_model_module": "@jupyter-widgets/base",
            "_model_module_version": "1.2.0",
            "_model_name": "LayoutModel",
            "_view_count": null,
            "_view_module": "@jupyter-widgets/base",
            "_view_module_version": "1.2.0",
            "_view_name": "LayoutView",
            "align_content": null,
            "align_items": null,
            "align_self": null,
            "border": null,
            "bottom": null,
            "display": null,
            "flex": null,
            "flex_flow": null,
            "grid_area": null,
            "grid_auto_columns": null,
            "grid_auto_flow": null,
            "grid_auto_rows": null,
            "grid_column": null,
            "grid_gap": null,
            "grid_row": null,
            "grid_template_areas": null,
            "grid_template_columns": null,
            "grid_template_rows": null,
            "height": null,
            "justify_content": null,
            "justify_items": null,
            "left": null,
            "margin": null,
            "max_height": null,
            "max_width": null,
            "min_height": null,
            "min_width": null,
            "object_fit": null,
            "object_position": null,
            "order": null,
            "overflow": null,
            "overflow_x": null,
            "overflow_y": null,
            "padding": null,
            "right": null,
            "top": null,
            "visibility": null,
            "width": null
          }
        },
        "56db8fa086a1457f872d18918222c9d5": {
          "model_module": "@jupyter-widgets/controls",
          "model_name": "DescriptionStyleModel",
          "model_module_version": "1.5.0",
          "state": {
            "_model_module": "@jupyter-widgets/controls",
            "_model_module_version": "1.5.0",
            "_model_name": "DescriptionStyleModel",
            "_view_count": null,
            "_view_module": "@jupyter-widgets/base",
            "_view_module_version": "1.2.0",
            "_view_name": "StyleView",
            "description_width": ""
          }
        },
        "e3113b9fdc934f57a453ddae80234d83": {
          "model_module": "@jupyter-widgets/base",
          "model_name": "LayoutModel",
          "model_module_version": "1.2.0",
          "state": {
            "_model_module": "@jupyter-widgets/base",
            "_model_module_version": "1.2.0",
            "_model_name": "LayoutModel",
            "_view_count": null,
            "_view_module": "@jupyter-widgets/base",
            "_view_module_version": "1.2.0",
            "_view_name": "LayoutView",
            "align_content": null,
            "align_items": null,
            "align_self": null,
            "border": null,
            "bottom": null,
            "display": null,
            "flex": null,
            "flex_flow": null,
            "grid_area": null,
            "grid_auto_columns": null,
            "grid_auto_flow": null,
            "grid_auto_rows": null,
            "grid_column": null,
            "grid_gap": null,
            "grid_row": null,
            "grid_template_areas": null,
            "grid_template_columns": null,
            "grid_template_rows": null,
            "height": null,
            "justify_content": null,
            "justify_items": null,
            "left": null,
            "margin": null,
            "max_height": null,
            "max_width": null,
            "min_height": null,
            "min_width": null,
            "object_fit": null,
            "object_position": null,
            "order": null,
            "overflow": null,
            "overflow_x": null,
            "overflow_y": null,
            "padding": null,
            "right": null,
            "top": null,
            "visibility": null,
            "width": null
          }
        },
        "c7b8baccf19a4f0090d720ba8cc7c92c": {
          "model_module": "@jupyter-widgets/controls",
          "model_name": "ProgressStyleModel",
          "model_module_version": "1.5.0",
          "state": {
            "_model_module": "@jupyter-widgets/controls",
            "_model_module_version": "1.5.0",
            "_model_name": "ProgressStyleModel",
            "_view_count": null,
            "_view_module": "@jupyter-widgets/base",
            "_view_module_version": "1.2.0",
            "_view_name": "StyleView",
            "bar_color": null,
            "description_width": ""
          }
        },
        "9d4c95d04a374f6683629dc12d398e37": {
          "model_module": "@jupyter-widgets/base",
          "model_name": "LayoutModel",
          "model_module_version": "1.2.0",
          "state": {
            "_model_module": "@jupyter-widgets/base",
            "_model_module_version": "1.2.0",
            "_model_name": "LayoutModel",
            "_view_count": null,
            "_view_module": "@jupyter-widgets/base",
            "_view_module_version": "1.2.0",
            "_view_name": "LayoutView",
            "align_content": null,
            "align_items": null,
            "align_self": null,
            "border": null,
            "bottom": null,
            "display": null,
            "flex": null,
            "flex_flow": null,
            "grid_area": null,
            "grid_auto_columns": null,
            "grid_auto_flow": null,
            "grid_auto_rows": null,
            "grid_column": null,
            "grid_gap": null,
            "grid_row": null,
            "grid_template_areas": null,
            "grid_template_columns": null,
            "grid_template_rows": null,
            "height": null,
            "justify_content": null,
            "justify_items": null,
            "left": null,
            "margin": null,
            "max_height": null,
            "max_width": null,
            "min_height": null,
            "min_width": null,
            "object_fit": null,
            "object_position": null,
            "order": null,
            "overflow": null,
            "overflow_x": null,
            "overflow_y": null,
            "padding": null,
            "right": null,
            "top": null,
            "visibility": null,
            "width": null
          }
        },
        "534abf7808ff4779b410882370eecc89": {
          "model_module": "@jupyter-widgets/controls",
          "model_name": "DescriptionStyleModel",
          "model_module_version": "1.5.0",
          "state": {
            "_model_module": "@jupyter-widgets/controls",
            "_model_module_version": "1.5.0",
            "_model_name": "DescriptionStyleModel",
            "_view_count": null,
            "_view_module": "@jupyter-widgets/base",
            "_view_module_version": "1.2.0",
            "_view_name": "StyleView",
            "description_width": ""
          }
        },
        "ac3149dc7bcc47639b30d0bbbefb5280": {
          "model_module": "@jupyter-widgets/controls",
          "model_name": "HBoxModel",
          "model_module_version": "1.5.0",
          "state": {
            "_dom_classes": [],
            "_model_module": "@jupyter-widgets/controls",
            "_model_module_version": "1.5.0",
            "_model_name": "HBoxModel",
            "_view_count": null,
            "_view_module": "@jupyter-widgets/controls",
            "_view_module_version": "1.5.0",
            "_view_name": "HBoxView",
            "box_style": "",
            "children": [
              "IPY_MODEL_6fdb18f3b5004e06ac97689af7da84f1",
              "IPY_MODEL_a71ffc51b0514e1c9ccebab374535a01",
              "IPY_MODEL_72571ed23fd445aba9c122132c38a5cc"
            ],
            "layout": "IPY_MODEL_2e6d33b2fa9c42f28535eb46091897c8"
          }
        },
        "6fdb18f3b5004e06ac97689af7da84f1": {
          "model_module": "@jupyter-widgets/controls",
          "model_name": "HTMLModel",
          "model_module_version": "1.5.0",
          "state": {
            "_dom_classes": [],
            "_model_module": "@jupyter-widgets/controls",
            "_model_module_version": "1.5.0",
            "_model_name": "HTMLModel",
            "_view_count": null,
            "_view_module": "@jupyter-widgets/controls",
            "_view_module_version": "1.5.0",
            "_view_name": "HTMLView",
            "description": "",
            "description_tooltip": null,
            "layout": "IPY_MODEL_292c8b0def274238a6ed79a5a45fdc6a",
            "placeholder": "​",
            "style": "IPY_MODEL_4f83f674770a4803959a80ed74cd875c",
            "value": "vocab.txt: "
          }
        },
        "a71ffc51b0514e1c9ccebab374535a01": {
          "model_module": "@jupyter-widgets/controls",
          "model_name": "FloatProgressModel",
          "model_module_version": "1.5.0",
          "state": {
            "_dom_classes": [],
            "_model_module": "@jupyter-widgets/controls",
            "_model_module_version": "1.5.0",
            "_model_name": "FloatProgressModel",
            "_view_count": null,
            "_view_module": "@jupyter-widgets/controls",
            "_view_module_version": "1.5.0",
            "_view_name": "ProgressView",
            "bar_style": "success",
            "description": "",
            "description_tooltip": null,
            "layout": "IPY_MODEL_0a10b111805948e6a4245d8d61d6fe9c",
            "max": 1,
            "min": 0,
            "orientation": "horizontal",
            "style": "IPY_MODEL_b292c143a9ef4ea7aafe8687a3811939",
            "value": 1
          }
        },
        "72571ed23fd445aba9c122132c38a5cc": {
          "model_module": "@jupyter-widgets/controls",
          "model_name": "HTMLModel",
          "model_module_version": "1.5.0",
          "state": {
            "_dom_classes": [],
            "_model_module": "@jupyter-widgets/controls",
            "_model_module_version": "1.5.0",
            "_model_name": "HTMLModel",
            "_view_count": null,
            "_view_module": "@jupyter-widgets/controls",
            "_view_module_version": "1.5.0",
            "_view_name": "HTMLView",
            "description": "",
            "description_tooltip": null,
            "layout": "IPY_MODEL_06735e562ef94653af1629f5c6f5a998",
            "placeholder": "​",
            "style": "IPY_MODEL_3459521c56124343b983bab4a5595097",
            "value": " 232k/? [00:00&lt;00:00, 7.10MB/s]"
          }
        },
        "2e6d33b2fa9c42f28535eb46091897c8": {
          "model_module": "@jupyter-widgets/base",
          "model_name": "LayoutModel",
          "model_module_version": "1.2.0",
          "state": {
            "_model_module": "@jupyter-widgets/base",
            "_model_module_version": "1.2.0",
            "_model_name": "LayoutModel",
            "_view_count": null,
            "_view_module": "@jupyter-widgets/base",
            "_view_module_version": "1.2.0",
            "_view_name": "LayoutView",
            "align_content": null,
            "align_items": null,
            "align_self": null,
            "border": null,
            "bottom": null,
            "display": null,
            "flex": null,
            "flex_flow": null,
            "grid_area": null,
            "grid_auto_columns": null,
            "grid_auto_flow": null,
            "grid_auto_rows": null,
            "grid_column": null,
            "grid_gap": null,
            "grid_row": null,
            "grid_template_areas": null,
            "grid_template_columns": null,
            "grid_template_rows": null,
            "height": null,
            "justify_content": null,
            "justify_items": null,
            "left": null,
            "margin": null,
            "max_height": null,
            "max_width": null,
            "min_height": null,
            "min_width": null,
            "object_fit": null,
            "object_position": null,
            "order": null,
            "overflow": null,
            "overflow_x": null,
            "overflow_y": null,
            "padding": null,
            "right": null,
            "top": null,
            "visibility": null,
            "width": null
          }
        },
        "292c8b0def274238a6ed79a5a45fdc6a": {
          "model_module": "@jupyter-widgets/base",
          "model_name": "LayoutModel",
          "model_module_version": "1.2.0",
          "state": {
            "_model_module": "@jupyter-widgets/base",
            "_model_module_version": "1.2.0",
            "_model_name": "LayoutModel",
            "_view_count": null,
            "_view_module": "@jupyter-widgets/base",
            "_view_module_version": "1.2.0",
            "_view_name": "LayoutView",
            "align_content": null,
            "align_items": null,
            "align_self": null,
            "border": null,
            "bottom": null,
            "display": null,
            "flex": null,
            "flex_flow": null,
            "grid_area": null,
            "grid_auto_columns": null,
            "grid_auto_flow": null,
            "grid_auto_rows": null,
            "grid_column": null,
            "grid_gap": null,
            "grid_row": null,
            "grid_template_areas": null,
            "grid_template_columns": null,
            "grid_template_rows": null,
            "height": null,
            "justify_content": null,
            "justify_items": null,
            "left": null,
            "margin": null,
            "max_height": null,
            "max_width": null,
            "min_height": null,
            "min_width": null,
            "object_fit": null,
            "object_position": null,
            "order": null,
            "overflow": null,
            "overflow_x": null,
            "overflow_y": null,
            "padding": null,
            "right": null,
            "top": null,
            "visibility": null,
            "width": null
          }
        },
        "4f83f674770a4803959a80ed74cd875c": {
          "model_module": "@jupyter-widgets/controls",
          "model_name": "DescriptionStyleModel",
          "model_module_version": "1.5.0",
          "state": {
            "_model_module": "@jupyter-widgets/controls",
            "_model_module_version": "1.5.0",
            "_model_name": "DescriptionStyleModel",
            "_view_count": null,
            "_view_module": "@jupyter-widgets/base",
            "_view_module_version": "1.2.0",
            "_view_name": "StyleView",
            "description_width": ""
          }
        },
        "0a10b111805948e6a4245d8d61d6fe9c": {
          "model_module": "@jupyter-widgets/base",
          "model_name": "LayoutModel",
          "model_module_version": "1.2.0",
          "state": {
            "_model_module": "@jupyter-widgets/base",
            "_model_module_version": "1.2.0",
            "_model_name": "LayoutModel",
            "_view_count": null,
            "_view_module": "@jupyter-widgets/base",
            "_view_module_version": "1.2.0",
            "_view_name": "LayoutView",
            "align_content": null,
            "align_items": null,
            "align_self": null,
            "border": null,
            "bottom": null,
            "display": null,
            "flex": null,
            "flex_flow": null,
            "grid_area": null,
            "grid_auto_columns": null,
            "grid_auto_flow": null,
            "grid_auto_rows": null,
            "grid_column": null,
            "grid_gap": null,
            "grid_row": null,
            "grid_template_areas": null,
            "grid_template_columns": null,
            "grid_template_rows": null,
            "height": null,
            "justify_content": null,
            "justify_items": null,
            "left": null,
            "margin": null,
            "max_height": null,
            "max_width": null,
            "min_height": null,
            "min_width": null,
            "object_fit": null,
            "object_position": null,
            "order": null,
            "overflow": null,
            "overflow_x": null,
            "overflow_y": null,
            "padding": null,
            "right": null,
            "top": null,
            "visibility": null,
            "width": "20px"
          }
        },
        "b292c143a9ef4ea7aafe8687a3811939": {
          "model_module": "@jupyter-widgets/controls",
          "model_name": "ProgressStyleModel",
          "model_module_version": "1.5.0",
          "state": {
            "_model_module": "@jupyter-widgets/controls",
            "_model_module_version": "1.5.0",
            "_model_name": "ProgressStyleModel",
            "_view_count": null,
            "_view_module": "@jupyter-widgets/base",
            "_view_module_version": "1.2.0",
            "_view_name": "StyleView",
            "bar_color": null,
            "description_width": ""
          }
        },
        "06735e562ef94653af1629f5c6f5a998": {
          "model_module": "@jupyter-widgets/base",
          "model_name": "LayoutModel",
          "model_module_version": "1.2.0",
          "state": {
            "_model_module": "@jupyter-widgets/base",
            "_model_module_version": "1.2.0",
            "_model_name": "LayoutModel",
            "_view_count": null,
            "_view_module": "@jupyter-widgets/base",
            "_view_module_version": "1.2.0",
            "_view_name": "LayoutView",
            "align_content": null,
            "align_items": null,
            "align_self": null,
            "border": null,
            "bottom": null,
            "display": null,
            "flex": null,
            "flex_flow": null,
            "grid_area": null,
            "grid_auto_columns": null,
            "grid_auto_flow": null,
            "grid_auto_rows": null,
            "grid_column": null,
            "grid_gap": null,
            "grid_row": null,
            "grid_template_areas": null,
            "grid_template_columns": null,
            "grid_template_rows": null,
            "height": null,
            "justify_content": null,
            "justify_items": null,
            "left": null,
            "margin": null,
            "max_height": null,
            "max_width": null,
            "min_height": null,
            "min_width": null,
            "object_fit": null,
            "object_position": null,
            "order": null,
            "overflow": null,
            "overflow_x": null,
            "overflow_y": null,
            "padding": null,
            "right": null,
            "top": null,
            "visibility": null,
            "width": null
          }
        },
        "3459521c56124343b983bab4a5595097": {
          "model_module": "@jupyter-widgets/controls",
          "model_name": "DescriptionStyleModel",
          "model_module_version": "1.5.0",
          "state": {
            "_model_module": "@jupyter-widgets/controls",
            "_model_module_version": "1.5.0",
            "_model_name": "DescriptionStyleModel",
            "_view_count": null,
            "_view_module": "@jupyter-widgets/base",
            "_view_module_version": "1.2.0",
            "_view_name": "StyleView",
            "description_width": ""
          }
        },
        "7943a1f70c4d44dc84a5226b8c6d7eb0": {
          "model_module": "@jupyter-widgets/controls",
          "model_name": "HBoxModel",
          "model_module_version": "1.5.0",
          "state": {
            "_dom_classes": [],
            "_model_module": "@jupyter-widgets/controls",
            "_model_module_version": "1.5.0",
            "_model_name": "HBoxModel",
            "_view_count": null,
            "_view_module": "@jupyter-widgets/controls",
            "_view_module_version": "1.5.0",
            "_view_name": "HBoxView",
            "box_style": "",
            "children": [
              "IPY_MODEL_15a433bbdfb34a3e8dc09c347f6d840c",
              "IPY_MODEL_1bca1e79e50f4e1e8f0f33e8c12f8ff7",
              "IPY_MODEL_6b2faaad24a84a05b4c3f17415157567"
            ],
            "layout": "IPY_MODEL_f578bd07f584428b8e9f7bb645f402b8"
          }
        },
        "15a433bbdfb34a3e8dc09c347f6d840c": {
          "model_module": "@jupyter-widgets/controls",
          "model_name": "HTMLModel",
          "model_module_version": "1.5.0",
          "state": {
            "_dom_classes": [],
            "_model_module": "@jupyter-widgets/controls",
            "_model_module_version": "1.5.0",
            "_model_name": "HTMLModel",
            "_view_count": null,
            "_view_module": "@jupyter-widgets/controls",
            "_view_module_version": "1.5.0",
            "_view_name": "HTMLView",
            "description": "",
            "description_tooltip": null,
            "layout": "IPY_MODEL_10a78e7cd69c46c3b1fca06b460be586",
            "placeholder": "​",
            "style": "IPY_MODEL_970c47229ff34f51bb26cc78d65d33c4",
            "value": "tokenizer.json: "
          }
        },
        "1bca1e79e50f4e1e8f0f33e8c12f8ff7": {
          "model_module": "@jupyter-widgets/controls",
          "model_name": "FloatProgressModel",
          "model_module_version": "1.5.0",
          "state": {
            "_dom_classes": [],
            "_model_module": "@jupyter-widgets/controls",
            "_model_module_version": "1.5.0",
            "_model_name": "FloatProgressModel",
            "_view_count": null,
            "_view_module": "@jupyter-widgets/controls",
            "_view_module_version": "1.5.0",
            "_view_name": "ProgressView",
            "bar_style": "success",
            "description": "",
            "description_tooltip": null,
            "layout": "IPY_MODEL_f8b3a43eac9a4455bfc9a4d7e98f68f4",
            "max": 1,
            "min": 0,
            "orientation": "horizontal",
            "style": "IPY_MODEL_db7fe11075e841e0b2645cb11c68109f",
            "value": 1
          }
        },
        "6b2faaad24a84a05b4c3f17415157567": {
          "model_module": "@jupyter-widgets/controls",
          "model_name": "HTMLModel",
          "model_module_version": "1.5.0",
          "state": {
            "_dom_classes": [],
            "_model_module": "@jupyter-widgets/controls",
            "_model_module_version": "1.5.0",
            "_model_name": "HTMLModel",
            "_view_count": null,
            "_view_module": "@jupyter-widgets/controls",
            "_view_module_version": "1.5.0",
            "_view_name": "HTMLView",
            "description": "",
            "description_tooltip": null,
            "layout": "IPY_MODEL_da1130e2bb154d89bb3f7746b27e6335",
            "placeholder": "​",
            "style": "IPY_MODEL_0233b2bf26d54184ab6f16c8c15c1b25",
            "value": " 466k/? [00:00&lt;00:00, 11.8MB/s]"
          }
        },
        "f578bd07f584428b8e9f7bb645f402b8": {
          "model_module": "@jupyter-widgets/base",
          "model_name": "LayoutModel",
          "model_module_version": "1.2.0",
          "state": {
            "_model_module": "@jupyter-widgets/base",
            "_model_module_version": "1.2.0",
            "_model_name": "LayoutModel",
            "_view_count": null,
            "_view_module": "@jupyter-widgets/base",
            "_view_module_version": "1.2.0",
            "_view_name": "LayoutView",
            "align_content": null,
            "align_items": null,
            "align_self": null,
            "border": null,
            "bottom": null,
            "display": null,
            "flex": null,
            "flex_flow": null,
            "grid_area": null,
            "grid_auto_columns": null,
            "grid_auto_flow": null,
            "grid_auto_rows": null,
            "grid_column": null,
            "grid_gap": null,
            "grid_row": null,
            "grid_template_areas": null,
            "grid_template_columns": null,
            "grid_template_rows": null,
            "height": null,
            "justify_content": null,
            "justify_items": null,
            "left": null,
            "margin": null,
            "max_height": null,
            "max_width": null,
            "min_height": null,
            "min_width": null,
            "object_fit": null,
            "object_position": null,
            "order": null,
            "overflow": null,
            "overflow_x": null,
            "overflow_y": null,
            "padding": null,
            "right": null,
            "top": null,
            "visibility": null,
            "width": null
          }
        },
        "10a78e7cd69c46c3b1fca06b460be586": {
          "model_module": "@jupyter-widgets/base",
          "model_name": "LayoutModel",
          "model_module_version": "1.2.0",
          "state": {
            "_model_module": "@jupyter-widgets/base",
            "_model_module_version": "1.2.0",
            "_model_name": "LayoutModel",
            "_view_count": null,
            "_view_module": "@jupyter-widgets/base",
            "_view_module_version": "1.2.0",
            "_view_name": "LayoutView",
            "align_content": null,
            "align_items": null,
            "align_self": null,
            "border": null,
            "bottom": null,
            "display": null,
            "flex": null,
            "flex_flow": null,
            "grid_area": null,
            "grid_auto_columns": null,
            "grid_auto_flow": null,
            "grid_auto_rows": null,
            "grid_column": null,
            "grid_gap": null,
            "grid_row": null,
            "grid_template_areas": null,
            "grid_template_columns": null,
            "grid_template_rows": null,
            "height": null,
            "justify_content": null,
            "justify_items": null,
            "left": null,
            "margin": null,
            "max_height": null,
            "max_width": null,
            "min_height": null,
            "min_width": null,
            "object_fit": null,
            "object_position": null,
            "order": null,
            "overflow": null,
            "overflow_x": null,
            "overflow_y": null,
            "padding": null,
            "right": null,
            "top": null,
            "visibility": null,
            "width": null
          }
        },
        "970c47229ff34f51bb26cc78d65d33c4": {
          "model_module": "@jupyter-widgets/controls",
          "model_name": "DescriptionStyleModel",
          "model_module_version": "1.5.0",
          "state": {
            "_model_module": "@jupyter-widgets/controls",
            "_model_module_version": "1.5.0",
            "_model_name": "DescriptionStyleModel",
            "_view_count": null,
            "_view_module": "@jupyter-widgets/base",
            "_view_module_version": "1.2.0",
            "_view_name": "StyleView",
            "description_width": ""
          }
        },
        "f8b3a43eac9a4455bfc9a4d7e98f68f4": {
          "model_module": "@jupyter-widgets/base",
          "model_name": "LayoutModel",
          "model_module_version": "1.2.0",
          "state": {
            "_model_module": "@jupyter-widgets/base",
            "_model_module_version": "1.2.0",
            "_model_name": "LayoutModel",
            "_view_count": null,
            "_view_module": "@jupyter-widgets/base",
            "_view_module_version": "1.2.0",
            "_view_name": "LayoutView",
            "align_content": null,
            "align_items": null,
            "align_self": null,
            "border": null,
            "bottom": null,
            "display": null,
            "flex": null,
            "flex_flow": null,
            "grid_area": null,
            "grid_auto_columns": null,
            "grid_auto_flow": null,
            "grid_auto_rows": null,
            "grid_column": null,
            "grid_gap": null,
            "grid_row": null,
            "grid_template_areas": null,
            "grid_template_columns": null,
            "grid_template_rows": null,
            "height": null,
            "justify_content": null,
            "justify_items": null,
            "left": null,
            "margin": null,
            "max_height": null,
            "max_width": null,
            "min_height": null,
            "min_width": null,
            "object_fit": null,
            "object_position": null,
            "order": null,
            "overflow": null,
            "overflow_x": null,
            "overflow_y": null,
            "padding": null,
            "right": null,
            "top": null,
            "visibility": null,
            "width": "20px"
          }
        },
        "db7fe11075e841e0b2645cb11c68109f": {
          "model_module": "@jupyter-widgets/controls",
          "model_name": "ProgressStyleModel",
          "model_module_version": "1.5.0",
          "state": {
            "_model_module": "@jupyter-widgets/controls",
            "_model_module_version": "1.5.0",
            "_model_name": "ProgressStyleModel",
            "_view_count": null,
            "_view_module": "@jupyter-widgets/base",
            "_view_module_version": "1.2.0",
            "_view_name": "StyleView",
            "bar_color": null,
            "description_width": ""
          }
        },
        "da1130e2bb154d89bb3f7746b27e6335": {
          "model_module": "@jupyter-widgets/base",
          "model_name": "LayoutModel",
          "model_module_version": "1.2.0",
          "state": {
            "_model_module": "@jupyter-widgets/base",
            "_model_module_version": "1.2.0",
            "_model_name": "LayoutModel",
            "_view_count": null,
            "_view_module": "@jupyter-widgets/base",
            "_view_module_version": "1.2.0",
            "_view_name": "LayoutView",
            "align_content": null,
            "align_items": null,
            "align_self": null,
            "border": null,
            "bottom": null,
            "display": null,
            "flex": null,
            "flex_flow": null,
            "grid_area": null,
            "grid_auto_columns": null,
            "grid_auto_flow": null,
            "grid_auto_rows": null,
            "grid_column": null,
            "grid_gap": null,
            "grid_row": null,
            "grid_template_areas": null,
            "grid_template_columns": null,
            "grid_template_rows": null,
            "height": null,
            "justify_content": null,
            "justify_items": null,
            "left": null,
            "margin": null,
            "max_height": null,
            "max_width": null,
            "min_height": null,
            "min_width": null,
            "object_fit": null,
            "object_position": null,
            "order": null,
            "overflow": null,
            "overflow_x": null,
            "overflow_y": null,
            "padding": null,
            "right": null,
            "top": null,
            "visibility": null,
            "width": null
          }
        },
        "0233b2bf26d54184ab6f16c8c15c1b25": {
          "model_module": "@jupyter-widgets/controls",
          "model_name": "DescriptionStyleModel",
          "model_module_version": "1.5.0",
          "state": {
            "_model_module": "@jupyter-widgets/controls",
            "_model_module_version": "1.5.0",
            "_model_name": "DescriptionStyleModel",
            "_view_count": null,
            "_view_module": "@jupyter-widgets/base",
            "_view_module_version": "1.2.0",
            "_view_name": "StyleView",
            "description_width": ""
          }
        },
        "b5a834527c2e4b49ac1048b151d10c9d": {
          "model_module": "@jupyter-widgets/controls",
          "model_name": "HBoxModel",
          "model_module_version": "1.5.0",
          "state": {
            "_dom_classes": [],
            "_model_module": "@jupyter-widgets/controls",
            "_model_module_version": "1.5.0",
            "_model_name": "HBoxModel",
            "_view_count": null,
            "_view_module": "@jupyter-widgets/controls",
            "_view_module_version": "1.5.0",
            "_view_name": "HBoxView",
            "box_style": "",
            "children": [
              "IPY_MODEL_cfb7b1d38b3f41b98140db8409d1fea1",
              "IPY_MODEL_98f608ac53dd4af8b9268ba3605aba91",
              "IPY_MODEL_2a1a68f1bfd8484d8a7249d9221e5465"
            ],
            "layout": "IPY_MODEL_d4513d3f5abc432da0621f6d771472e7"
          }
        },
        "cfb7b1d38b3f41b98140db8409d1fea1": {
          "model_module": "@jupyter-widgets/controls",
          "model_name": "HTMLModel",
          "model_module_version": "1.5.0",
          "state": {
            "_dom_classes": [],
            "_model_module": "@jupyter-widgets/controls",
            "_model_module_version": "1.5.0",
            "_model_name": "HTMLModel",
            "_view_count": null,
            "_view_module": "@jupyter-widgets/controls",
            "_view_module_version": "1.5.0",
            "_view_name": "HTMLView",
            "description": "",
            "description_tooltip": null,
            "layout": "IPY_MODEL_2b505446b40043a68bb97f4eaaa24721",
            "placeholder": "​",
            "style": "IPY_MODEL_d37eda69683a4a1388a406ee7b745c1b",
            "value": "special_tokens_map.json: 100%"
          }
        },
        "98f608ac53dd4af8b9268ba3605aba91": {
          "model_module": "@jupyter-widgets/controls",
          "model_name": "FloatProgressModel",
          "model_module_version": "1.5.0",
          "state": {
            "_dom_classes": [],
            "_model_module": "@jupyter-widgets/controls",
            "_model_module_version": "1.5.0",
            "_model_name": "FloatProgressModel",
            "_view_count": null,
            "_view_module": "@jupyter-widgets/controls",
            "_view_module_version": "1.5.0",
            "_view_name": "ProgressView",
            "bar_style": "success",
            "description": "",
            "description_tooltip": null,
            "layout": "IPY_MODEL_c884f30201c54f1b923059ca2b27ce59",
            "max": 112,
            "min": 0,
            "orientation": "horizontal",
            "style": "IPY_MODEL_b9075168dde144158ca9d538bed79fbd",
            "value": 112
          }
        },
        "2a1a68f1bfd8484d8a7249d9221e5465": {
          "model_module": "@jupyter-widgets/controls",
          "model_name": "HTMLModel",
          "model_module_version": "1.5.0",
          "state": {
            "_dom_classes": [],
            "_model_module": "@jupyter-widgets/controls",
            "_model_module_version": "1.5.0",
            "_model_name": "HTMLModel",
            "_view_count": null,
            "_view_module": "@jupyter-widgets/controls",
            "_view_module_version": "1.5.0",
            "_view_name": "HTMLView",
            "description": "",
            "description_tooltip": null,
            "layout": "IPY_MODEL_ebf9db3a527a4e2fa0957572d0fc628d",
            "placeholder": "​",
            "style": "IPY_MODEL_1e820bfcd3944a4a81715a366821cb44",
            "value": " 112/112 [00:00&lt;00:00, 8.00kB/s]"
          }
        },
        "d4513d3f5abc432da0621f6d771472e7": {
          "model_module": "@jupyter-widgets/base",
          "model_name": "LayoutModel",
          "model_module_version": "1.2.0",
          "state": {
            "_model_module": "@jupyter-widgets/base",
            "_model_module_version": "1.2.0",
            "_model_name": "LayoutModel",
            "_view_count": null,
            "_view_module": "@jupyter-widgets/base",
            "_view_module_version": "1.2.0",
            "_view_name": "LayoutView",
            "align_content": null,
            "align_items": null,
            "align_self": null,
            "border": null,
            "bottom": null,
            "display": null,
            "flex": null,
            "flex_flow": null,
            "grid_area": null,
            "grid_auto_columns": null,
            "grid_auto_flow": null,
            "grid_auto_rows": null,
            "grid_column": null,
            "grid_gap": null,
            "grid_row": null,
            "grid_template_areas": null,
            "grid_template_columns": null,
            "grid_template_rows": null,
            "height": null,
            "justify_content": null,
            "justify_items": null,
            "left": null,
            "margin": null,
            "max_height": null,
            "max_width": null,
            "min_height": null,
            "min_width": null,
            "object_fit": null,
            "object_position": null,
            "order": null,
            "overflow": null,
            "overflow_x": null,
            "overflow_y": null,
            "padding": null,
            "right": null,
            "top": null,
            "visibility": null,
            "width": null
          }
        },
        "2b505446b40043a68bb97f4eaaa24721": {
          "model_module": "@jupyter-widgets/base",
          "model_name": "LayoutModel",
          "model_module_version": "1.2.0",
          "state": {
            "_model_module": "@jupyter-widgets/base",
            "_model_module_version": "1.2.0",
            "_model_name": "LayoutModel",
            "_view_count": null,
            "_view_module": "@jupyter-widgets/base",
            "_view_module_version": "1.2.0",
            "_view_name": "LayoutView",
            "align_content": null,
            "align_items": null,
            "align_self": null,
            "border": null,
            "bottom": null,
            "display": null,
            "flex": null,
            "flex_flow": null,
            "grid_area": null,
            "grid_auto_columns": null,
            "grid_auto_flow": null,
            "grid_auto_rows": null,
            "grid_column": null,
            "grid_gap": null,
            "grid_row": null,
            "grid_template_areas": null,
            "grid_template_columns": null,
            "grid_template_rows": null,
            "height": null,
            "justify_content": null,
            "justify_items": null,
            "left": null,
            "margin": null,
            "max_height": null,
            "max_width": null,
            "min_height": null,
            "min_width": null,
            "object_fit": null,
            "object_position": null,
            "order": null,
            "overflow": null,
            "overflow_x": null,
            "overflow_y": null,
            "padding": null,
            "right": null,
            "top": null,
            "visibility": null,
            "width": null
          }
        },
        "d37eda69683a4a1388a406ee7b745c1b": {
          "model_module": "@jupyter-widgets/controls",
          "model_name": "DescriptionStyleModel",
          "model_module_version": "1.5.0",
          "state": {
            "_model_module": "@jupyter-widgets/controls",
            "_model_module_version": "1.5.0",
            "_model_name": "DescriptionStyleModel",
            "_view_count": null,
            "_view_module": "@jupyter-widgets/base",
            "_view_module_version": "1.2.0",
            "_view_name": "StyleView",
            "description_width": ""
          }
        },
        "c884f30201c54f1b923059ca2b27ce59": {
          "model_module": "@jupyter-widgets/base",
          "model_name": "LayoutModel",
          "model_module_version": "1.2.0",
          "state": {
            "_model_module": "@jupyter-widgets/base",
            "_model_module_version": "1.2.0",
            "_model_name": "LayoutModel",
            "_view_count": null,
            "_view_module": "@jupyter-widgets/base",
            "_view_module_version": "1.2.0",
            "_view_name": "LayoutView",
            "align_content": null,
            "align_items": null,
            "align_self": null,
            "border": null,
            "bottom": null,
            "display": null,
            "flex": null,
            "flex_flow": null,
            "grid_area": null,
            "grid_auto_columns": null,
            "grid_auto_flow": null,
            "grid_auto_rows": null,
            "grid_column": null,
            "grid_gap": null,
            "grid_row": null,
            "grid_template_areas": null,
            "grid_template_columns": null,
            "grid_template_rows": null,
            "height": null,
            "justify_content": null,
            "justify_items": null,
            "left": null,
            "margin": null,
            "max_height": null,
            "max_width": null,
            "min_height": null,
            "min_width": null,
            "object_fit": null,
            "object_position": null,
            "order": null,
            "overflow": null,
            "overflow_x": null,
            "overflow_y": null,
            "padding": null,
            "right": null,
            "top": null,
            "visibility": null,
            "width": null
          }
        },
        "b9075168dde144158ca9d538bed79fbd": {
          "model_module": "@jupyter-widgets/controls",
          "model_name": "ProgressStyleModel",
          "model_module_version": "1.5.0",
          "state": {
            "_model_module": "@jupyter-widgets/controls",
            "_model_module_version": "1.5.0",
            "_model_name": "ProgressStyleModel",
            "_view_count": null,
            "_view_module": "@jupyter-widgets/base",
            "_view_module_version": "1.2.0",
            "_view_name": "StyleView",
            "bar_color": null,
            "description_width": ""
          }
        },
        "ebf9db3a527a4e2fa0957572d0fc628d": {
          "model_module": "@jupyter-widgets/base",
          "model_name": "LayoutModel",
          "model_module_version": "1.2.0",
          "state": {
            "_model_module": "@jupyter-widgets/base",
            "_model_module_version": "1.2.0",
            "_model_name": "LayoutModel",
            "_view_count": null,
            "_view_module": "@jupyter-widgets/base",
            "_view_module_version": "1.2.0",
            "_view_name": "LayoutView",
            "align_content": null,
            "align_items": null,
            "align_self": null,
            "border": null,
            "bottom": null,
            "display": null,
            "flex": null,
            "flex_flow": null,
            "grid_area": null,
            "grid_auto_columns": null,
            "grid_auto_flow": null,
            "grid_auto_rows": null,
            "grid_column": null,
            "grid_gap": null,
            "grid_row": null,
            "grid_template_areas": null,
            "grid_template_columns": null,
            "grid_template_rows": null,
            "height": null,
            "justify_content": null,
            "justify_items": null,
            "left": null,
            "margin": null,
            "max_height": null,
            "max_width": null,
            "min_height": null,
            "min_width": null,
            "object_fit": null,
            "object_position": null,
            "order": null,
            "overflow": null,
            "overflow_x": null,
            "overflow_y": null,
            "padding": null,
            "right": null,
            "top": null,
            "visibility": null,
            "width": null
          }
        },
        "1e820bfcd3944a4a81715a366821cb44": {
          "model_module": "@jupyter-widgets/controls",
          "model_name": "DescriptionStyleModel",
          "model_module_version": "1.5.0",
          "state": {
            "_model_module": "@jupyter-widgets/controls",
            "_model_module_version": "1.5.0",
            "_model_name": "DescriptionStyleModel",
            "_view_count": null,
            "_view_module": "@jupyter-widgets/base",
            "_view_module_version": "1.2.0",
            "_view_name": "StyleView",
            "description_width": ""
          }
        },
        "e6b65bd2936343fcb5bb5dfef81f8c4a": {
          "model_module": "@jupyter-widgets/controls",
          "model_name": "HBoxModel",
          "model_module_version": "1.5.0",
          "state": {
            "_dom_classes": [],
            "_model_module": "@jupyter-widgets/controls",
            "_model_module_version": "1.5.0",
            "_model_name": "HBoxModel",
            "_view_count": null,
            "_view_module": "@jupyter-widgets/controls",
            "_view_module_version": "1.5.0",
            "_view_name": "HBoxView",
            "box_style": "",
            "children": [
              "IPY_MODEL_2e42dec6b0c0489a80efe28316552a4e",
              "IPY_MODEL_dd27092c2e8a4c16b8e3c80b63a8671d",
              "IPY_MODEL_b32e326901ec4551908d7107b3e85c38"
            ],
            "layout": "IPY_MODEL_836ff0f11c99449ebad5da17735f42e5"
          }
        },
        "2e42dec6b0c0489a80efe28316552a4e": {
          "model_module": "@jupyter-widgets/controls",
          "model_name": "HTMLModel",
          "model_module_version": "1.5.0",
          "state": {
            "_dom_classes": [],
            "_model_module": "@jupyter-widgets/controls",
            "_model_module_version": "1.5.0",
            "_model_name": "HTMLModel",
            "_view_count": null,
            "_view_module": "@jupyter-widgets/controls",
            "_view_module_version": "1.5.0",
            "_view_name": "HTMLView",
            "description": "",
            "description_tooltip": null,
            "layout": "IPY_MODEL_1f012c88764049daa10bc08bac9cc256",
            "placeholder": "​",
            "style": "IPY_MODEL_8d323015daf14133858b02df417d9417",
            "value": "config.json: 100%"
          }
        },
        "dd27092c2e8a4c16b8e3c80b63a8671d": {
          "model_module": "@jupyter-widgets/controls",
          "model_name": "FloatProgressModel",
          "model_module_version": "1.5.0",
          "state": {
            "_dom_classes": [],
            "_model_module": "@jupyter-widgets/controls",
            "_model_module_version": "1.5.0",
            "_model_name": "FloatProgressModel",
            "_view_count": null,
            "_view_module": "@jupyter-widgets/controls",
            "_view_module_version": "1.5.0",
            "_view_name": "ProgressView",
            "bar_style": "success",
            "description": "",
            "description_tooltip": null,
            "layout": "IPY_MODEL_4dde8577d3314a448da85eb272f2b508",
            "max": 190,
            "min": 0,
            "orientation": "horizontal",
            "style": "IPY_MODEL_598ac1662cbb4244bc056ad094cd2709",
            "value": 190
          }
        },
        "b32e326901ec4551908d7107b3e85c38": {
          "model_module": "@jupyter-widgets/controls",
          "model_name": "HTMLModel",
          "model_module_version": "1.5.0",
          "state": {
            "_dom_classes": [],
            "_model_module": "@jupyter-widgets/controls",
            "_model_module_version": "1.5.0",
            "_model_name": "HTMLModel",
            "_view_count": null,
            "_view_module": "@jupyter-widgets/controls",
            "_view_module_version": "1.5.0",
            "_view_name": "HTMLView",
            "description": "",
            "description_tooltip": null,
            "layout": "IPY_MODEL_b94c79f5468e46a0be3243ccf3692ca7",
            "placeholder": "​",
            "style": "IPY_MODEL_b421ef79c103433b9b4b57d257de6094",
            "value": " 190/190 [00:00&lt;00:00, 15.8kB/s]"
          }
        },
        "836ff0f11c99449ebad5da17735f42e5": {
          "model_module": "@jupyter-widgets/base",
          "model_name": "LayoutModel",
          "model_module_version": "1.2.0",
          "state": {
            "_model_module": "@jupyter-widgets/base",
            "_model_module_version": "1.2.0",
            "_model_name": "LayoutModel",
            "_view_count": null,
            "_view_module": "@jupyter-widgets/base",
            "_view_module_version": "1.2.0",
            "_view_name": "LayoutView",
            "align_content": null,
            "align_items": null,
            "align_self": null,
            "border": null,
            "bottom": null,
            "display": null,
            "flex": null,
            "flex_flow": null,
            "grid_area": null,
            "grid_auto_columns": null,
            "grid_auto_flow": null,
            "grid_auto_rows": null,
            "grid_column": null,
            "grid_gap": null,
            "grid_row": null,
            "grid_template_areas": null,
            "grid_template_columns": null,
            "grid_template_rows": null,
            "height": null,
            "justify_content": null,
            "justify_items": null,
            "left": null,
            "margin": null,
            "max_height": null,
            "max_width": null,
            "min_height": null,
            "min_width": null,
            "object_fit": null,
            "object_position": null,
            "order": null,
            "overflow": null,
            "overflow_x": null,
            "overflow_y": null,
            "padding": null,
            "right": null,
            "top": null,
            "visibility": null,
            "width": null
          }
        },
        "1f012c88764049daa10bc08bac9cc256": {
          "model_module": "@jupyter-widgets/base",
          "model_name": "LayoutModel",
          "model_module_version": "1.2.0",
          "state": {
            "_model_module": "@jupyter-widgets/base",
            "_model_module_version": "1.2.0",
            "_model_name": "LayoutModel",
            "_view_count": null,
            "_view_module": "@jupyter-widgets/base",
            "_view_module_version": "1.2.0",
            "_view_name": "LayoutView",
            "align_content": null,
            "align_items": null,
            "align_self": null,
            "border": null,
            "bottom": null,
            "display": null,
            "flex": null,
            "flex_flow": null,
            "grid_area": null,
            "grid_auto_columns": null,
            "grid_auto_flow": null,
            "grid_auto_rows": null,
            "grid_column": null,
            "grid_gap": null,
            "grid_row": null,
            "grid_template_areas": null,
            "grid_template_columns": null,
            "grid_template_rows": null,
            "height": null,
            "justify_content": null,
            "justify_items": null,
            "left": null,
            "margin": null,
            "max_height": null,
            "max_width": null,
            "min_height": null,
            "min_width": null,
            "object_fit": null,
            "object_position": null,
            "order": null,
            "overflow": null,
            "overflow_x": null,
            "overflow_y": null,
            "padding": null,
            "right": null,
            "top": null,
            "visibility": null,
            "width": null
          }
        },
        "8d323015daf14133858b02df417d9417": {
          "model_module": "@jupyter-widgets/controls",
          "model_name": "DescriptionStyleModel",
          "model_module_version": "1.5.0",
          "state": {
            "_model_module": "@jupyter-widgets/controls",
            "_model_module_version": "1.5.0",
            "_model_name": "DescriptionStyleModel",
            "_view_count": null,
            "_view_module": "@jupyter-widgets/base",
            "_view_module_version": "1.2.0",
            "_view_name": "StyleView",
            "description_width": ""
          }
        },
        "4dde8577d3314a448da85eb272f2b508": {
          "model_module": "@jupyter-widgets/base",
          "model_name": "LayoutModel",
          "model_module_version": "1.2.0",
          "state": {
            "_model_module": "@jupyter-widgets/base",
            "_model_module_version": "1.2.0",
            "_model_name": "LayoutModel",
            "_view_count": null,
            "_view_module": "@jupyter-widgets/base",
            "_view_module_version": "1.2.0",
            "_view_name": "LayoutView",
            "align_content": null,
            "align_items": null,
            "align_self": null,
            "border": null,
            "bottom": null,
            "display": null,
            "flex": null,
            "flex_flow": null,
            "grid_area": null,
            "grid_auto_columns": null,
            "grid_auto_flow": null,
            "grid_auto_rows": null,
            "grid_column": null,
            "grid_gap": null,
            "grid_row": null,
            "grid_template_areas": null,
            "grid_template_columns": null,
            "grid_template_rows": null,
            "height": null,
            "justify_content": null,
            "justify_items": null,
            "left": null,
            "margin": null,
            "max_height": null,
            "max_width": null,
            "min_height": null,
            "min_width": null,
            "object_fit": null,
            "object_position": null,
            "order": null,
            "overflow": null,
            "overflow_x": null,
            "overflow_y": null,
            "padding": null,
            "right": null,
            "top": null,
            "visibility": null,
            "width": null
          }
        },
        "598ac1662cbb4244bc056ad094cd2709": {
          "model_module": "@jupyter-widgets/controls",
          "model_name": "ProgressStyleModel",
          "model_module_version": "1.5.0",
          "state": {
            "_model_module": "@jupyter-widgets/controls",
            "_model_module_version": "1.5.0",
            "_model_name": "ProgressStyleModel",
            "_view_count": null,
            "_view_module": "@jupyter-widgets/base",
            "_view_module_version": "1.2.0",
            "_view_name": "StyleView",
            "bar_color": null,
            "description_width": ""
          }
        },
        "b94c79f5468e46a0be3243ccf3692ca7": {
          "model_module": "@jupyter-widgets/base",
          "model_name": "LayoutModel",
          "model_module_version": "1.2.0",
          "state": {
            "_model_module": "@jupyter-widgets/base",
            "_model_module_version": "1.2.0",
            "_model_name": "LayoutModel",
            "_view_count": null,
            "_view_module": "@jupyter-widgets/base",
            "_view_module_version": "1.2.0",
            "_view_name": "LayoutView",
            "align_content": null,
            "align_items": null,
            "align_self": null,
            "border": null,
            "bottom": null,
            "display": null,
            "flex": null,
            "flex_flow": null,
            "grid_area": null,
            "grid_auto_columns": null,
            "grid_auto_flow": null,
            "grid_auto_rows": null,
            "grid_column": null,
            "grid_gap": null,
            "grid_row": null,
            "grid_template_areas": null,
            "grid_template_columns": null,
            "grid_template_rows": null,
            "height": null,
            "justify_content": null,
            "justify_items": null,
            "left": null,
            "margin": null,
            "max_height": null,
            "max_width": null,
            "min_height": null,
            "min_width": null,
            "object_fit": null,
            "object_position": null,
            "order": null,
            "overflow": null,
            "overflow_x": null,
            "overflow_y": null,
            "padding": null,
            "right": null,
            "top": null,
            "visibility": null,
            "width": null
          }
        },
        "b421ef79c103433b9b4b57d257de6094": {
          "model_module": "@jupyter-widgets/controls",
          "model_name": "DescriptionStyleModel",
          "model_module_version": "1.5.0",
          "state": {
            "_model_module": "@jupyter-widgets/controls",
            "_model_module_version": "1.5.0",
            "_model_name": "DescriptionStyleModel",
            "_view_count": null,
            "_view_module": "@jupyter-widgets/base",
            "_view_module_version": "1.2.0",
            "_view_name": "StyleView",
            "description_width": ""
          }
        },
        "1f02e99884d54a398db575bfebe7a7cb": {
          "model_module": "@jupyter-widgets/controls",
          "model_name": "HBoxModel",
          "model_module_version": "1.5.0",
          "state": {
            "_dom_classes": [],
            "_model_module": "@jupyter-widgets/controls",
            "_model_module_version": "1.5.0",
            "_model_name": "HBoxModel",
            "_view_count": null,
            "_view_module": "@jupyter-widgets/controls",
            "_view_module_version": "1.5.0",
            "_view_name": "HBoxView",
            "box_style": "",
            "children": [
              "IPY_MODEL_a74c4a9767284e35bbfce21f7afe1665",
              "IPY_MODEL_210e684801864bb3bfc56c915b60989f",
              "IPY_MODEL_e0c4efa811eb4929a0f3879bfc64429b"
            ],
            "layout": "IPY_MODEL_2a5686daf8e7474f8ac3a661a59745fb"
          }
        },
        "a74c4a9767284e35bbfce21f7afe1665": {
          "model_module": "@jupyter-widgets/controls",
          "model_name": "HTMLModel",
          "model_module_version": "1.5.0",
          "state": {
            "_dom_classes": [],
            "_model_module": "@jupyter-widgets/controls",
            "_model_module_version": "1.5.0",
            "_model_name": "HTMLModel",
            "_view_count": null,
            "_view_module": "@jupyter-widgets/controls",
            "_view_module_version": "1.5.0",
            "_view_name": "HTMLView",
            "description": "",
            "description_tooltip": null,
            "layout": "IPY_MODEL_9179d4b3d5ae442abacb7644c012785a",
            "placeholder": "​",
            "style": "IPY_MODEL_80350c3203314dc6a2e47b731ca5581a",
            "value": "Batches: 100%"
          }
        },
        "210e684801864bb3bfc56c915b60989f": {
          "model_module": "@jupyter-widgets/controls",
          "model_name": "FloatProgressModel",
          "model_module_version": "1.5.0",
          "state": {
            "_dom_classes": [],
            "_model_module": "@jupyter-widgets/controls",
            "_model_module_version": "1.5.0",
            "_model_name": "FloatProgressModel",
            "_view_count": null,
            "_view_module": "@jupyter-widgets/controls",
            "_view_module_version": "1.5.0",
            "_view_name": "ProgressView",
            "bar_style": "success",
            "description": "",
            "description_tooltip": null,
            "layout": "IPY_MODEL_32a0861e269545c8a359d24732d869db",
            "max": 377,
            "min": 0,
            "orientation": "horizontal",
            "style": "IPY_MODEL_620d209a2ce44726a63a7e982ff0d966",
            "value": 377
          }
        },
        "e0c4efa811eb4929a0f3879bfc64429b": {
          "model_module": "@jupyter-widgets/controls",
          "model_name": "HTMLModel",
          "model_module_version": "1.5.0",
          "state": {
            "_dom_classes": [],
            "_model_module": "@jupyter-widgets/controls",
            "_model_module_version": "1.5.0",
            "_model_name": "HTMLModel",
            "_view_count": null,
            "_view_module": "@jupyter-widgets/controls",
            "_view_module_version": "1.5.0",
            "_view_name": "HTMLView",
            "description": "",
            "description_tooltip": null,
            "layout": "IPY_MODEL_519926b588394e86a80ad16fdf447e49",
            "placeholder": "​",
            "style": "IPY_MODEL_cd53607ccb8346ef918f32a2840a098f",
            "value": " 377/377 [01:08&lt;00:00, 11.55it/s]"
          }
        },
        "2a5686daf8e7474f8ac3a661a59745fb": {
          "model_module": "@jupyter-widgets/base",
          "model_name": "LayoutModel",
          "model_module_version": "1.2.0",
          "state": {
            "_model_module": "@jupyter-widgets/base",
            "_model_module_version": "1.2.0",
            "_model_name": "LayoutModel",
            "_view_count": null,
            "_view_module": "@jupyter-widgets/base",
            "_view_module_version": "1.2.0",
            "_view_name": "LayoutView",
            "align_content": null,
            "align_items": null,
            "align_self": null,
            "border": null,
            "bottom": null,
            "display": null,
            "flex": null,
            "flex_flow": null,
            "grid_area": null,
            "grid_auto_columns": null,
            "grid_auto_flow": null,
            "grid_auto_rows": null,
            "grid_column": null,
            "grid_gap": null,
            "grid_row": null,
            "grid_template_areas": null,
            "grid_template_columns": null,
            "grid_template_rows": null,
            "height": null,
            "justify_content": null,
            "justify_items": null,
            "left": null,
            "margin": null,
            "max_height": null,
            "max_width": null,
            "min_height": null,
            "min_width": null,
            "object_fit": null,
            "object_position": null,
            "order": null,
            "overflow": null,
            "overflow_x": null,
            "overflow_y": null,
            "padding": null,
            "right": null,
            "top": null,
            "visibility": null,
            "width": null
          }
        },
        "9179d4b3d5ae442abacb7644c012785a": {
          "model_module": "@jupyter-widgets/base",
          "model_name": "LayoutModel",
          "model_module_version": "1.2.0",
          "state": {
            "_model_module": "@jupyter-widgets/base",
            "_model_module_version": "1.2.0",
            "_model_name": "LayoutModel",
            "_view_count": null,
            "_view_module": "@jupyter-widgets/base",
            "_view_module_version": "1.2.0",
            "_view_name": "LayoutView",
            "align_content": null,
            "align_items": null,
            "align_self": null,
            "border": null,
            "bottom": null,
            "display": null,
            "flex": null,
            "flex_flow": null,
            "grid_area": null,
            "grid_auto_columns": null,
            "grid_auto_flow": null,
            "grid_auto_rows": null,
            "grid_column": null,
            "grid_gap": null,
            "grid_row": null,
            "grid_template_areas": null,
            "grid_template_columns": null,
            "grid_template_rows": null,
            "height": null,
            "justify_content": null,
            "justify_items": null,
            "left": null,
            "margin": null,
            "max_height": null,
            "max_width": null,
            "min_height": null,
            "min_width": null,
            "object_fit": null,
            "object_position": null,
            "order": null,
            "overflow": null,
            "overflow_x": null,
            "overflow_y": null,
            "padding": null,
            "right": null,
            "top": null,
            "visibility": null,
            "width": null
          }
        },
        "80350c3203314dc6a2e47b731ca5581a": {
          "model_module": "@jupyter-widgets/controls",
          "model_name": "DescriptionStyleModel",
          "model_module_version": "1.5.0",
          "state": {
            "_model_module": "@jupyter-widgets/controls",
            "_model_module_version": "1.5.0",
            "_model_name": "DescriptionStyleModel",
            "_view_count": null,
            "_view_module": "@jupyter-widgets/base",
            "_view_module_version": "1.2.0",
            "_view_name": "StyleView",
            "description_width": ""
          }
        },
        "32a0861e269545c8a359d24732d869db": {
          "model_module": "@jupyter-widgets/base",
          "model_name": "LayoutModel",
          "model_module_version": "1.2.0",
          "state": {
            "_model_module": "@jupyter-widgets/base",
            "_model_module_version": "1.2.0",
            "_model_name": "LayoutModel",
            "_view_count": null,
            "_view_module": "@jupyter-widgets/base",
            "_view_module_version": "1.2.0",
            "_view_name": "LayoutView",
            "align_content": null,
            "align_items": null,
            "align_self": null,
            "border": null,
            "bottom": null,
            "display": null,
            "flex": null,
            "flex_flow": null,
            "grid_area": null,
            "grid_auto_columns": null,
            "grid_auto_flow": null,
            "grid_auto_rows": null,
            "grid_column": null,
            "grid_gap": null,
            "grid_row": null,
            "grid_template_areas": null,
            "grid_template_columns": null,
            "grid_template_rows": null,
            "height": null,
            "justify_content": null,
            "justify_items": null,
            "left": null,
            "margin": null,
            "max_height": null,
            "max_width": null,
            "min_height": null,
            "min_width": null,
            "object_fit": null,
            "object_position": null,
            "order": null,
            "overflow": null,
            "overflow_x": null,
            "overflow_y": null,
            "padding": null,
            "right": null,
            "top": null,
            "visibility": null,
            "width": null
          }
        },
        "620d209a2ce44726a63a7e982ff0d966": {
          "model_module": "@jupyter-widgets/controls",
          "model_name": "ProgressStyleModel",
          "model_module_version": "1.5.0",
          "state": {
            "_model_module": "@jupyter-widgets/controls",
            "_model_module_version": "1.5.0",
            "_model_name": "ProgressStyleModel",
            "_view_count": null,
            "_view_module": "@jupyter-widgets/base",
            "_view_module_version": "1.2.0",
            "_view_name": "StyleView",
            "bar_color": null,
            "description_width": ""
          }
        },
        "519926b588394e86a80ad16fdf447e49": {
          "model_module": "@jupyter-widgets/base",
          "model_name": "LayoutModel",
          "model_module_version": "1.2.0",
          "state": {
            "_model_module": "@jupyter-widgets/base",
            "_model_module_version": "1.2.0",
            "_model_name": "LayoutModel",
            "_view_count": null,
            "_view_module": "@jupyter-widgets/base",
            "_view_module_version": "1.2.0",
            "_view_name": "LayoutView",
            "align_content": null,
            "align_items": null,
            "align_self": null,
            "border": null,
            "bottom": null,
            "display": null,
            "flex": null,
            "flex_flow": null,
            "grid_area": null,
            "grid_auto_columns": null,
            "grid_auto_flow": null,
            "grid_auto_rows": null,
            "grid_column": null,
            "grid_gap": null,
            "grid_row": null,
            "grid_template_areas": null,
            "grid_template_columns": null,
            "grid_template_rows": null,
            "height": null,
            "justify_content": null,
            "justify_items": null,
            "left": null,
            "margin": null,
            "max_height": null,
            "max_width": null,
            "min_height": null,
            "min_width": null,
            "object_fit": null,
            "object_position": null,
            "order": null,
            "overflow": null,
            "overflow_x": null,
            "overflow_y": null,
            "padding": null,
            "right": null,
            "top": null,
            "visibility": null,
            "width": null
          }
        },
        "cd53607ccb8346ef918f32a2840a098f": {
          "model_module": "@jupyter-widgets/controls",
          "model_name": "DescriptionStyleModel",
          "model_module_version": "1.5.0",
          "state": {
            "_model_module": "@jupyter-widgets/controls",
            "_model_module_version": "1.5.0",
            "_model_name": "DescriptionStyleModel",
            "_view_count": null,
            "_view_module": "@jupyter-widgets/base",
            "_view_module_version": "1.2.0",
            "_view_name": "StyleView",
            "description_width": ""
          }
        }
      }
    }
  },
  "cells": [
    {
      "cell_type": "markdown",
      "source": [
        "Install & Import Libraries"
      ],
      "metadata": {
        "id": "2pd83Z68qzzZ"
      }
    },
    {
      "cell_type": "code",
      "source": [
        "# !pip install -q sentence-transformers xgboost\n",
        "\n",
        "import pandas as pd\n",
        "import numpy as np\n",
        "import re\n",
        "import matplotlib.pyplot as plt\n",
        "import seaborn as sns\n",
        "from sklearn.model_selection import train_test_split, RandomizedSearchCV, GridSearchCV\n",
        "from sklearn.preprocessing import LabelEncoder\n",
        "from sklearn.ensemble import RandomForestClassifier\n",
        "from sklearn.linear_model import LogisticRegression\n",
        "from sklearn.metrics import classification_report, confusion_matrix, accuracy_score\n",
        "from sentence_transformers import SentenceTransformer\n",
        "import joblib\n",
        "import json\n",
        "import os\n",
        "import warnings\n",
        "\n",
        "warnings.filterwarnings('ignore')\n",
        "pd.set_option('display.max_columns', None)\n",
        "pd.set_option('display.max_colwidth', 100)\n"
      ],
      "metadata": {
        "id": "Z9khgeCZpYmM"
      },
      "execution_count": null,
      "outputs": []
    },
    {
      "cell_type": "markdown",
      "source": [
        "Load Dataset"
      ],
      "metadata": {
        "id": "26oXoLNoq8pK"
      }
    },
    {
      "cell_type": "code",
      "source": [
        "df = pd.read_csv(\"/content/drive/MyDrive/RESUME_SEG/Dataset (1).txt\")\n",
        "print(df.shape)\n",
        "df.head()\n"
      ],
      "metadata": {
        "colab": {
          "base_uri": "https://localhost:8080/",
          "height": 310
        },
        "id": "7nQACYUrposU",
        "outputId": "80d2a708-50e1-42a5-c66e-878a97ea84f2"
      },
      "execution_count": null,
      "outputs": [
        {
          "output_type": "stream",
          "name": "stdout",
          "text": [
            "(13389, 2)\n"
          ]
        },
        {
          "output_type": "execute_result",
          "data": {
            "text/plain": [
              "     Category  \\\n",
              "0  Accountant   \n",
              "1  Accountant   \n",
              "2  Accountant   \n",
              "3  Accountant   \n",
              "4  Accountant   \n",
              "\n",
              "                                                                                                  Text  \n",
              "0  ﻿________________\\r\\n\\r\\nEDUCATION\\r\\nOMBA - Executive Leadership University of Texas\\r\\n2016-20...  \n",
              "1  ﻿________________\\r\\n\\r\\nHOWARD GERRARD\\r\\nAccountant\\r\\nDeyjob.com, Birmingham\\r\\n0123 456 7890...  \n",
              "2  ﻿________________\\r\\n\\r\\nKevin Frank\\r\\nSENIOR ACCOUNTANT\\r\\ninfo@resumekraft.com\\r\\n202-555-012...  \n",
              "3  ﻿________________\\r\\n\\r\\nPlace of birth\\r\\nNationality\\r\\nOlivia Ogilvy, Accountant\\r\\n1515 Paci...  \n",
              "4  ﻿________________\\r\\n\\r\\nStephen Greet, CPA\\r\\nSenior Accountant\\r\\nThrough my 9+ year of experi...  "
            ],
            "text/html": [
              "\n",
              "  <div id=\"df-ceea52f4-8739-4ccb-bc88-b76c8a1f3250\" class=\"colab-df-container\">\n",
              "    <div>\n",
              "<style scoped>\n",
              "    .dataframe tbody tr th:only-of-type {\n",
              "        vertical-align: middle;\n",
              "    }\n",
              "\n",
              "    .dataframe tbody tr th {\n",
              "        vertical-align: top;\n",
              "    }\n",
              "\n",
              "    .dataframe thead th {\n",
              "        text-align: right;\n",
              "    }\n",
              "</style>\n",
              "<table border=\"1\" class=\"dataframe\">\n",
              "  <thead>\n",
              "    <tr style=\"text-align: right;\">\n",
              "      <th></th>\n",
              "      <th>Category</th>\n",
              "      <th>Text</th>\n",
              "    </tr>\n",
              "  </thead>\n",
              "  <tbody>\n",
              "    <tr>\n",
              "      <th>0</th>\n",
              "      <td>Accountant</td>\n",
              "      <td>﻿________________\\r\\n\\r\\nEDUCATION\\r\\nOMBA - Executive Leadership University of Texas\\r\\n2016-20...</td>\n",
              "    </tr>\n",
              "    <tr>\n",
              "      <th>1</th>\n",
              "      <td>Accountant</td>\n",
              "      <td>﻿________________\\r\\n\\r\\nHOWARD GERRARD\\r\\nAccountant\\r\\nDeyjob.com, Birmingham\\r\\n0123 456 7890...</td>\n",
              "    </tr>\n",
              "    <tr>\n",
              "      <th>2</th>\n",
              "      <td>Accountant</td>\n",
              "      <td>﻿________________\\r\\n\\r\\nKevin Frank\\r\\nSENIOR ACCOUNTANT\\r\\ninfo@resumekraft.com\\r\\n202-555-012...</td>\n",
              "    </tr>\n",
              "    <tr>\n",
              "      <th>3</th>\n",
              "      <td>Accountant</td>\n",
              "      <td>﻿________________\\r\\n\\r\\nPlace of birth\\r\\nNationality\\r\\nOlivia Ogilvy, Accountant\\r\\n1515 Paci...</td>\n",
              "    </tr>\n",
              "    <tr>\n",
              "      <th>4</th>\n",
              "      <td>Accountant</td>\n",
              "      <td>﻿________________\\r\\n\\r\\nStephen Greet, CPA\\r\\nSenior Accountant\\r\\nThrough my 9+ year of experi...</td>\n",
              "    </tr>\n",
              "  </tbody>\n",
              "</table>\n",
              "</div>\n",
              "    <div class=\"colab-df-buttons\">\n",
              "\n",
              "  <div class=\"colab-df-container\">\n",
              "    <button class=\"colab-df-convert\" onclick=\"convertToInteractive('df-ceea52f4-8739-4ccb-bc88-b76c8a1f3250')\"\n",
              "            title=\"Convert this dataframe to an interactive table.\"\n",
              "            style=\"display:none;\">\n",
              "\n",
              "  <svg xmlns=\"http://www.w3.org/2000/svg\" height=\"24px\" viewBox=\"0 -960 960 960\">\n",
              "    <path d=\"M120-120v-720h720v720H120Zm60-500h600v-160H180v160Zm220 220h160v-160H400v160Zm0 220h160v-160H400v160ZM180-400h160v-160H180v160Zm440 0h160v-160H620v160ZM180-180h160v-160H180v160Zm440 0h160v-160H620v160Z\"/>\n",
              "  </svg>\n",
              "    </button>\n",
              "\n",
              "  <style>\n",
              "    .colab-df-container {\n",
              "      display:flex;\n",
              "      gap: 12px;\n",
              "    }\n",
              "\n",
              "    .colab-df-convert {\n",
              "      background-color: #E8F0FE;\n",
              "      border: none;\n",
              "      border-radius: 50%;\n",
              "      cursor: pointer;\n",
              "      display: none;\n",
              "      fill: #1967D2;\n",
              "      height: 32px;\n",
              "      padding: 0 0 0 0;\n",
              "      width: 32px;\n",
              "    }\n",
              "\n",
              "    .colab-df-convert:hover {\n",
              "      background-color: #E2EBFA;\n",
              "      box-shadow: 0px 1px 2px rgba(60, 64, 67, 0.3), 0px 1px 3px 1px rgba(60, 64, 67, 0.15);\n",
              "      fill: #174EA6;\n",
              "    }\n",
              "\n",
              "    .colab-df-buttons div {\n",
              "      margin-bottom: 4px;\n",
              "    }\n",
              "\n",
              "    [theme=dark] .colab-df-convert {\n",
              "      background-color: #3B4455;\n",
              "      fill: #D2E3FC;\n",
              "    }\n",
              "\n",
              "    [theme=dark] .colab-df-convert:hover {\n",
              "      background-color: #434B5C;\n",
              "      box-shadow: 0px 1px 3px 1px rgba(0, 0, 0, 0.15);\n",
              "      filter: drop-shadow(0px 1px 2px rgba(0, 0, 0, 0.3));\n",
              "      fill: #FFFFFF;\n",
              "    }\n",
              "  </style>\n",
              "\n",
              "    <script>\n",
              "      const buttonEl =\n",
              "        document.querySelector('#df-ceea52f4-8739-4ccb-bc88-b76c8a1f3250 button.colab-df-convert');\n",
              "      buttonEl.style.display =\n",
              "        google.colab.kernel.accessAllowed ? 'block' : 'none';\n",
              "\n",
              "      async function convertToInteractive(key) {\n",
              "        const element = document.querySelector('#df-ceea52f4-8739-4ccb-bc88-b76c8a1f3250');\n",
              "        const dataTable =\n",
              "          await google.colab.kernel.invokeFunction('convertToInteractive',\n",
              "                                                    [key], {});\n",
              "        if (!dataTable) return;\n",
              "\n",
              "        const docLinkHtml = 'Like what you see? Visit the ' +\n",
              "          '<a target=\"_blank\" href=https://colab.research.google.com/notebooks/data_table.ipynb>data table notebook</a>'\n",
              "          + ' to learn more about interactive tables.';\n",
              "        element.innerHTML = '';\n",
              "        dataTable['output_type'] = 'display_data';\n",
              "        await google.colab.output.renderOutput(dataTable, element);\n",
              "        const docLink = document.createElement('div');\n",
              "        docLink.innerHTML = docLinkHtml;\n",
              "        element.appendChild(docLink);\n",
              "      }\n",
              "    </script>\n",
              "  </div>\n",
              "\n",
              "\n",
              "    <div id=\"df-553467bf-761c-49c2-97fb-6d990b2e8479\">\n",
              "      <button class=\"colab-df-quickchart\" onclick=\"quickchart('df-553467bf-761c-49c2-97fb-6d990b2e8479')\"\n",
              "                title=\"Suggest charts\"\n",
              "                style=\"display:none;\">\n",
              "\n",
              "<svg xmlns=\"http://www.w3.org/2000/svg\" height=\"24px\"viewBox=\"0 0 24 24\"\n",
              "     width=\"24px\">\n",
              "    <g>\n",
              "        <path d=\"M19 3H5c-1.1 0-2 .9-2 2v14c0 1.1.9 2 2 2h14c1.1 0 2-.9 2-2V5c0-1.1-.9-2-2-2zM9 17H7v-7h2v7zm4 0h-2V7h2v10zm4 0h-2v-4h2v4z\"/>\n",
              "    </g>\n",
              "</svg>\n",
              "      </button>\n",
              "\n",
              "<style>\n",
              "  .colab-df-quickchart {\n",
              "      --bg-color: #E8F0FE;\n",
              "      --fill-color: #1967D2;\n",
              "      --hover-bg-color: #E2EBFA;\n",
              "      --hover-fill-color: #174EA6;\n",
              "      --disabled-fill-color: #AAA;\n",
              "      --disabled-bg-color: #DDD;\n",
              "  }\n",
              "\n",
              "  [theme=dark] .colab-df-quickchart {\n",
              "      --bg-color: #3B4455;\n",
              "      --fill-color: #D2E3FC;\n",
              "      --hover-bg-color: #434B5C;\n",
              "      --hover-fill-color: #FFFFFF;\n",
              "      --disabled-bg-color: #3B4455;\n",
              "      --disabled-fill-color: #666;\n",
              "  }\n",
              "\n",
              "  .colab-df-quickchart {\n",
              "    background-color: var(--bg-color);\n",
              "    border: none;\n",
              "    border-radius: 50%;\n",
              "    cursor: pointer;\n",
              "    display: none;\n",
              "    fill: var(--fill-color);\n",
              "    height: 32px;\n",
              "    padding: 0;\n",
              "    width: 32px;\n",
              "  }\n",
              "\n",
              "  .colab-df-quickchart:hover {\n",
              "    background-color: var(--hover-bg-color);\n",
              "    box-shadow: 0 1px 2px rgba(60, 64, 67, 0.3), 0 1px 3px 1px rgba(60, 64, 67, 0.15);\n",
              "    fill: var(--button-hover-fill-color);\n",
              "  }\n",
              "\n",
              "  .colab-df-quickchart-complete:disabled,\n",
              "  .colab-df-quickchart-complete:disabled:hover {\n",
              "    background-color: var(--disabled-bg-color);\n",
              "    fill: var(--disabled-fill-color);\n",
              "    box-shadow: none;\n",
              "  }\n",
              "\n",
              "  .colab-df-spinner {\n",
              "    border: 2px solid var(--fill-color);\n",
              "    border-color: transparent;\n",
              "    border-bottom-color: var(--fill-color);\n",
              "    animation:\n",
              "      spin 1s steps(1) infinite;\n",
              "  }\n",
              "\n",
              "  @keyframes spin {\n",
              "    0% {\n",
              "      border-color: transparent;\n",
              "      border-bottom-color: var(--fill-color);\n",
              "      border-left-color: var(--fill-color);\n",
              "    }\n",
              "    20% {\n",
              "      border-color: transparent;\n",
              "      border-left-color: var(--fill-color);\n",
              "      border-top-color: var(--fill-color);\n",
              "    }\n",
              "    30% {\n",
              "      border-color: transparent;\n",
              "      border-left-color: var(--fill-color);\n",
              "      border-top-color: var(--fill-color);\n",
              "      border-right-color: var(--fill-color);\n",
              "    }\n",
              "    40% {\n",
              "      border-color: transparent;\n",
              "      border-right-color: var(--fill-color);\n",
              "      border-top-color: var(--fill-color);\n",
              "    }\n",
              "    60% {\n",
              "      border-color: transparent;\n",
              "      border-right-color: var(--fill-color);\n",
              "    }\n",
              "    80% {\n",
              "      border-color: transparent;\n",
              "      border-right-color: var(--fill-color);\n",
              "      border-bottom-color: var(--fill-color);\n",
              "    }\n",
              "    90% {\n",
              "      border-color: transparent;\n",
              "      border-bottom-color: var(--fill-color);\n",
              "    }\n",
              "  }\n",
              "</style>\n",
              "\n",
              "      <script>\n",
              "        async function quickchart(key) {\n",
              "          const quickchartButtonEl =\n",
              "            document.querySelector('#' + key + ' button');\n",
              "          quickchartButtonEl.disabled = true;  // To prevent multiple clicks.\n",
              "          quickchartButtonEl.classList.add('colab-df-spinner');\n",
              "          try {\n",
              "            const charts = await google.colab.kernel.invokeFunction(\n",
              "                'suggestCharts', [key], {});\n",
              "          } catch (error) {\n",
              "            console.error('Error during call to suggestCharts:', error);\n",
              "          }\n",
              "          quickchartButtonEl.classList.remove('colab-df-spinner');\n",
              "          quickchartButtonEl.classList.add('colab-df-quickchart-complete');\n",
              "        }\n",
              "        (() => {\n",
              "          let quickchartButtonEl =\n",
              "            document.querySelector('#df-553467bf-761c-49c2-97fb-6d990b2e8479 button');\n",
              "          quickchartButtonEl.style.display =\n",
              "            google.colab.kernel.accessAllowed ? 'block' : 'none';\n",
              "        })();\n",
              "      </script>\n",
              "    </div>\n",
              "\n",
              "    </div>\n",
              "  </div>\n"
            ],
            "application/vnd.google.colaboratory.intrinsic+json": {
              "type": "dataframe",
              "variable_name": "df",
              "summary": "{\n  \"name\": \"df\",\n  \"rows\": 13389,\n  \"fields\": [\n    {\n      \"column\": \"Category\",\n      \"properties\": {\n        \"dtype\": \"category\",\n        \"num_unique_values\": 43,\n        \"samples\": [\n          \"React Developer\",\n          \"Finance\",\n          \"Food and Beverages\"\n        ],\n        \"semantic_type\": \"\",\n        \"description\": \"\"\n      }\n    },\n    {\n      \"column\": \"Text\",\n      \"properties\": {\n        \"dtype\": \"string\",\n        \"num_unique_values\": 12175,\n        \"samples\": [\n          \"\\ufeff________________\\r\\n\\r\\nAlexander Taylor\\r\\nPython Developer | Data Specialist\\r\\n@help@enhancv.com\\r\\nSan Antonio, Texas\\r\\n\\u2714linkedin.com\\r\\nSUMMARY\\r\\nEnthusiastic Python Developer with over two years' experience in HTML, JavaScript, and web development. Skilled in fetching and cleaning data, building APIs and web crawling. Seeking a challenging opportunity to utilize these skills and grow further in the field of data science.\\r\\nSTRENGTHS\\r\\nCritical Thinking\\r\\nEffectively used critical thinking to troubleshoot and solve challenging development problems while at Accenture.\\r\\nEXPERIENCE\\r\\nJunior Python Developer\\r\\nCognizant\\r\\n2019-2020\\r\\nSan Antonio, Texas\\r\\nWorked on HTML, JavaScript and Python development projects, with a focus on data fetching and cleansing.\\r\\n\\u2022\\r\\n\\u2022\\r\\nDeveloped Python scripts for Web Crawling and Web scraping resulting in 30% increased efficiency.\\r\\nAssisted in building APIs on top of cleaned data sets, which helped to automate data flow from multiple sources.\\r\\n\\u2022 Worked on storing extracted data into SQL/No SQL data store.\\r\\nWeb Developer\\r\\nCommunication\\r\\nAt Cognizant, successfully communicated technical data complications and helped the team to overcome them.\\r\\nTeamwork\\r\\nCollaborated with development team to deliver over 10 successful projects within given deadlines at Accenture.\\r\\nSKILLS\\r\\nAccenture\\r\\n2018-2019\\r\\nSan Antonio, Texas\\r\\nWorked on web development projects using HTML and JavaScript. Gained Python skills on the job.\\r\\n\\u2022 Created dynamic and interactive web pages which improved customer interaction by 40%.\\r\\n\\u2022\\r\\n\\u2022\\r\\nDeveloped complex JavaScript functions to improve web page efficiency. Automated HTML and CSS tasks by implementing preprocessor scripting language, decreasing production time by 25%.\\r\\nPython HTML\\r\\nJavaScript\\r\\nRegular expressions\\r\\nWeb Scraping\\r\\nCrawling SQL/NoSQL\\r\\nData Cleansing\\r\\nAPI Development\\r\\nEDUCATION\\r\\nMaster of Science in Computer Science University of Texas\\r\\n2016-2018\\r\\nSan Antonio, Texas\\r\\nBachelor of Science in Computer Science Texas Tech University\\r\\n2012-2016\\r\\nLubbock, Texas\\r\\nCERTIFICATION\\r\\nPython for Data Science\\r\\nA specialized course conducted by Coursera that focused on Python development for data science applications.\\r\\nData Structures and Algorithms\\r\\nAn intensive course offered by Udacity that targeted understanding of key data structures and algorithms.\\r\\nLANGUAGES\\r\\nEnglish Native\\r\\nSpanish\\r\\nIntermediate\\r\\nPASSIONS\\r\\nCoding\\r\\nLove for coding started in college and continued professionally, always exploring new\\r\\ndevelopment techniques.\",\n          \"\\ufeff________________\\r\\n\\r\\nExecutive Summary\\r\\nJESSICA CLAIRE\\r\\nMontgomery Street, San Francisco, CA 94105 \\u26ab (555) 432-1000\\u26ab resumesample@example.com\\r\\nAn accomplished and collaborative cancer biologist with experience in developing and optimizing biomarker assays within preclinical and clinical programs, as well as evaluating the performance of a novel diagnostic platform. Designed and executed critical experiments assessing validity of biomarkers using clinical biospecimens derived from oncology patients. Deep knowledge of cancer biology and tumor development/progression through use of genetically-engineered mouse models of glioma and colon cancer as well as different cell culture techniques and in vitro assays. Established record of pushing research programs forward through creative experimentation. Stellar communication abilities evidenced by publication record in peer-reviewed journals, numerous successful grant applications, poster competition awards, and presentations across different scientific and executive management groups.\\r\\nCore skills\\r\\nEducation\\r\\nPh.D: Cellular and Molecular Biology, 2005\\r\\nUniversity of Melbourne - Melbourne\\r\\nThesis title: \\\"Convergence of c-Myb and activated beta-catenin signaling in the regulation of colon cancer genes\\\"\\r\\nResearch and Professional Experience\\r\\nExternal R&D Liaison/Science and Medical Writer/Database specialist, 08/2013 to 06/2015\\r\\nChampions Oncology - City, STATE, USA\\r\\n\\u2022 Key contributor in evaluating Champions PDX models as a diagnostic platform for personalizing chemotherapy for cancer patients.\\r\\n\\u2022 Managed and supported 28 different national and international research collaborations spanning from evaluation of tumor heterogeneity in PDX models to contribution of kinome rearrangements to chemotherapy resistance.\\r\\n\\u2022 Primary scientific and medical data manager for the Champions online database.\\r\\n\\u2022 Presented progress reports and program results to Scientific and Executive Management groups.\\r\\nResearch Scholar/Research Associate, 2007 to 05/2012\\r\\nMemorial Sloan-Kettering Cancer Center - City, USA\\r\\n\\u2022 Successfully led multi-disciplinary research team identifying how pharmacological inhibition of CDK4 affects glioma progression.\\r\\n\\u2022 Established the novel role of cyclin D1 and CDK4 in PDGF-mediated glioma using state-of-the-art RCAS-tvA mouse model for somatic cell gene transfer.\\r\\n\\u2022 Collaborated with peers to design in vivo and in vitro experiments to evaluate how cyclin D1-CDK4 impacts the tumor microenvironment and microglial cells.\\r\\n\\u2022 Mentored 3 summer graduate research students.\\r\\n\\u2022 Invited to review for the journal, Cellular and Molecular Biology Letters.\\r\\nSenior Research Officer, 2005 to 2007\\r\\nSienna Cancer Diagnostics Limited - City, Australia\\r\\n\\u2022 Increased ELISA-based biomarker assay sensitivity 2-3-fold by maximizing variability in substrate usage, contributing to the award of a provisional patent on novel biosensor technologies.\\r\\n\\u2022 Validated and optimized clinical performance of biomarker assay using human tissue specimens from oncology patients, showing 93% sensitivity and 100% specificity.\\r\\n\\u2022 Collaborated with nursing and physician staff to optimize work-flow for obtaining and analyzing biological specimens, leading to program time-lines being achieved ahead of schedule.\\r\\n\\u2022 Prepared standard operating procedures (SOPs) and training/technical documents for biomarker assay.\\r\\n\\u2022 Generated and presented program reports and results for Chief Science and Executive Officers of the company.\\r\\n\\u2022 Oversaw outsourcing of biomarker assay to the external CRO, Cancer Trials Australia.\\r\\nFellowships and Awards\\r\\n\\u2022 Voices Against Brain Cancer grant (nationally competitive; $50,000; 2012)\\r\\n\\u2022 American Brain Tumor Association fellowship (nationally competitive; $80,000; 2010-2012)\\r\\n\\u2022 Brain Tumor Center fellowship, inaugural recipient, Memorial Sloan-Kettering Cancer Center ($100,000; 2007-2009)\\r\\n\\u2022 Scientist to CSO: Leadership and Management certificate; New York Academy of Sciences (2012)\\r\\n\\u2022 Winner, poster prize competition, Memorial Sloan-Kettering Cancer Center Postdoctoral Symposium (2010)\\r\\nPublications (of 11 total)\\r\\n\\u26ab TRIM3, a tumor suppressor linked to regulation of p21(Waf1/Cip1.). Liu Y, Raheja R, Yeh N, Ciznadija D, Pedraza AM, Ozawa T, Hukkelhoven E, Erdjument-Bromage H, Tempst P, Gauthier NP, Brennan C, Holland EC, Koff A. Oncogene; 33(3):308-15, 2014 (Impact factor; 8.6)\\r\\n\\u2022 Cyclin D1 and cdk4 mediate development of neurologically destructive oligodendroglioma. Ciznadija, D., Liu, Y., Pyonteck, S.M., Holland, E.C., Koff, A. Cancer Research, 71(19), 6174-6183, 2011 (Impact factor; 9.2) Editor's Pick.\\r\\n\\u2022 Immunohistochemistry as a technique for assessing signal transduction and cell-cycle networks in neural tumors. Ciznadija, D., Barlas, A., Manova., K. in: Signal Transduction Immunohistochemistry: Methods and Protocols edited by Alexander E. Kalyuzhny), Humana Press, 2011 Invited review\\r\\n\\u2022 A novel magnetic bead-based assay with high sensitivity and selectivity for analysis of telomerase in exfoliated cells from patients with bladder and colon cancer Rothacker, J., Ramsay, R.G., Ciznadija, D., Gras, E., Neylon, C.B., Elwood, N.J., Bouchier- Hayes, D., Gibbs,P., Rosenthal, M., Nice, E.C.\",\n          \"\\ufeff________________\\r\\n\\r\\nSUMMARY\\r\\n\\u2022\\r\\nJessica Claire\\r\\n\\u2022\\r\\n\\u2022\\r\\n100 Montgomery St. 10th Floor(555) 432-1000\\r\\nresumesample@example.com\\r\\n14+ years of technology services experience including global clients like Westpac, GE, Suncorp, AIB and NAB\\r\\nLeading release change team for Westpac, St George, Bank of Melbourne & Bank SA catering to more than 5000+ bankers & brokers on the system.\\r\\nExtensive understanding of Oracle Banking Application and third-party integrations Worked as the technical architect for GE OHR development team with a client-facing role for effort estimation of new projects, delivery and RTS changes.\\r\\nDefined DevOps setup for SOA-based integration and WebApp projects. Designed automated code compliance process for SOA and ADF projects.\\r\\nExtensive experience in Oracle Fusion Middleware platforms including Oracle ADF, SOA, OSB, Cloud technologies and JAVA applications including Hibernate Framework, Java Design patterns, SOA, HTML, JavaScript, JSON, XML, Oracle 10g, WebLogic, SVN, Log4J, ANT, OID, OAAM, BIP and PL/SQL Extensively worked on integration with Oracle Access Manager, NetIQ, Oracle Directory Server (LDAP), WebLogic Credential Store, JAZN security policies Designed WebLogic monitoring framework and migration strategy using WLST, ADF, and JAVA.\\r\\nAccomplishments in creative problem-solving and cost-effective improvements in process and quality. Effective communication and interpersonal skills with a proven ability to mentor and lead by example Experience in the Banking and Financial sector which includes Loan process, Internet and Mobile Banking, Loan Account Opening, Repayment, Settlement Pay-out, Partial Payoff, Redraw, EFS, etc.\\r\\nEXPERIENCE\\r\\nCONSULTANT\\r\\nParametric Technology Corporation | Alpharetta, GA\\r\\n10/2020 to CURRENT\\r\\n\\u2022 Formulated and define systems scope and objectives for complex high-impact application enhancements and problem resolution through in-depth analysis and evaluation of complex business processes, systems, and industry standards; documents requirements.\\r\\n\\u2022 Researched relevant technical requirements and ensured that deliverables meet these requirements\\r\\n\\u2022 Built full-stack solutions using Oracle Middleware services, DB, Web Services, and User interface.\\r\\n\\u2022 Identified risks, vulnerabilities, and security issues; communicated impact; proposed risk mitigation options.\\r\\n\\u2022 Solved complex customer issues using methodical troubleshooting based on expert knowledge of OBP applications, functionality, and technology\\r\\n\\u2022 Provided expertise in the area and an advanced level of understanding of the principles of application development.\\r\\n\\u2022 Resolve programming issues by applying problem-solving skills.\\r\\n\\u2022 Embedded and improved an agile and continuous delivery way of working.\\r\\n\\u2022 Worked closely with Product Owners, Business Analysts, and Systems Analysts to determine and document systems impacts and support requirements\\r\\n\\u2022Extensively worked to move legacy applications and services to Cloud using Amazon Web Services, Teradata, Azure & Cloud technologies\\r\\n\\u2022 Set the standard for effective documentation and communication of knowledge, systems, and processes. SCOTWARE DEVELOPMENT ASSOCIATE MANAGER\\r\\nAetna Inc. | Mesa, AZ\\r\\n11/2018 to 10/2020\\r\\n\\u2022 Worked for Westpac project in CSH OBP Release Change (Development Team) as Onshore Manager catering to 5000+ bankers & brokers on the system. Extensive understanding of Oracle Banking Application including third-party integrations\\r\\n\\u2022\\r\\n\\u2022\\r\\nDriven team towards self-sufficiency from ground zero to current state wherein more than 90% of the development work is carried through Agile Methodology and completed in due time\\r\\nEnsured consistent MTTR for complex issue resolutions below 1.5days (Group Tech SLA being 7 days and Buss SLA being 2 days)\\r\\nTechnical lead for Westpac development team with a client-facing role for estimation, RTS changes, deliverables, and project risk-management using agile best practices.\\r\\nProvided thought leadership and championship in process improvement to automate, standardize, and document app development tasks\\r\\nDeveloped health monitoring alerts and dashboards on AppDynamics, Splunk & Aternity for proactive monitoring and assessment & prioritization\\r\\nMaintained effective relationships with core and extended program team members, peers, senior stakeholders, and business managers\\r\\nSCOTWARE DEVELOPMENT ASSOCIATE MANAGER\\r\\nGeneral Electric | City, STATE\\r\\n\\u2022\\r\\n04/2015 to 11/2018\\r\\nWorked as Technical Architect (& Project Lead) for GE OHR development team in a multi-vendor agile development environment.\\r\\nConducted deep dive architectural review of critical HR Data Management application and worked towards short-long term improvement of application thereby improving performance by 30% Worked on multiple quarterly/monthly releases as part of engagement and delivered on various complex use cases.\\r\\nWorked closely with the client's Security compliance team to achieve adherence to ISO Principles and guidelines.\\r\\nCollaborated with Principal Architects to ensure ADF application and architecture alignment with high- quality output conforming to corporate IT standards and roadmaps.\\r\\nLead a team of developers and technical leads across multiple vendors being a single point of contact for client\\r\\nDesigned automated code compliance process for ADF and SOA projects.\\r\\nDesigned WebLogic monitoring framework and migration strategy using WLST, ADF, and JAVA.\\r\\n\\u2022\\r\\nDesigned Jenkins pipelines for continuous integration and DevOps for SOA and OSB.\\r\\nSECIOR APPLICATION DEVELOPER\\r\\n11/2008 to 04/2015\\r\\nOracle Financial Services Software Limited | City, STATE\\r\\n\\u2022 Worked on In-house Banking Product \\\"Oracle Banking Platform\\\" for releases developed and implemented across the globe for NAB, Suncorp, AIB & U-Bank\\r\\n.\\r\\n\\u2022\\r\\nOracle Banking Platform Product Releases (Nov 08 - Apr 15)\\r\\nWas part of OBP Product development during this timeframe. Worked for the most part in the Loans, Origination & Content module. Worked in the delivery of features like Account Configuration, Settlement Pay-out, Loan Serve, Repayment, Partial Payoff, Redraw, EFS, etc.\\r\\nOBP Version 4.0 (R2.3): Worked on Internal Refinance functionality across account configuration & settlement pay-out, any-day reversal and major UX changes across the board were the highlight of this release\\r\\nOBP Version 3.0 (R2.2): Back-Dated transaction support as required for Suncorp bank. Developed Manage Loan Account (Loan Serve) which had the entire loan transactions clubbed into one screen with the handling of authorization & security configured in it.\\r\\nOBP Version 2.0 (R2B): Involved in the development of a fully functional loan module integrated with Origination, e-pricing, LCM, Collections, Asset Classification, and other modules. Designed approach for Complex loan use cases such as integration with Interest module, schedule generation, and calculation, overdraft to term loan creation, arrears and appropriations, settlement pay-out, etc. Designed & developed whole account creation flow (very Complex) and disbursement flow using Oracle ADF.\\r\\nOBP Version 2.0 (R2A): This release involved the addition of CASA, TD modules, and some new features in the Loans Module-specific to NAB. Integration of inter-module communication. Involved in Integration with other modules like Content, Pricing, Interest and accounting, Settlement, Demand deposits, etc. Designed various Task flows, Templates & Declarative Components in Oracle ADF. OBP Version 1.0 (R1): This release involved Further customization of 3.2 Flex Cube to 4.0 (Loans Module) and some new development specific to NAB. Developed API for Redraw and repayment transactions. Developed the UI for both. Exposure to Oracle's ADF framework. Created various Junit test cases.\\r\\nOracle FlexCube 3.2 (AIB): The business logic of the previously present lending module was procedure based. The team worked to rewrite the business logic in JAVA, using hibernate. This change transformed the module into an easily maintainable, database-independent, and less complicated design. This involved integration of newly reengineered loan modules with already existing products.\\r\\nSKILLS O Jackbeatch/Shell Scripts WebSphereJDeveloper Java & J2EE Component Technologies Java (J2SE) & Hibernate Framework, Java Design patterns\\r\\nFront End (UI Development) & Middleware Services\\r\\nOracle ADF, Service Oriented Architecture, Oracle Service Bus & Cloud technologies Web Technologies HTML, Java Script, JSON, XML, Angular JS, HTML5, Jackbe Presto, CSS3\\r\\nACCOMPLISHMENTS\\r\\n\\u2022\\r\\nMultiple Leading Change Awards for FY21/22, Westpac Bank\\r\\nConsecutive Performing Awards for FY20/21/22, Westpac Bank\\r\\n\\u2022\\r\\n\\\"FY19 Q2 Accenture Celebrates Excellence\\\" award for outstanding performance\\r\\nConsecutive 'Distinctive Achievement' recognition, Accenture (General Electric) for Nov2016, Nov2017 Received multiple client appreciations from Westpac End\\r\\n\\u2022\\r\\n\\\"Extra Miler\\\" Award, Accenture (GE) June 2017\\r\\nAwarded with 'Automation and Innovation Expert' for June2017-18 by Accenture.\\r\\nCERTIFICATIONS\\r\\n\\u2022\\r\\nOracle SOA Suite 11g Certified Implementation Specialist Certification Oracle ADF 11g Certified Implementation Specialist Certification\\r\\nEDUCATION AND TRAINING\\r\\nLANGUAGES\\r\\nADDITIONAL O\\r\\nINFORMATION\\r\\nOracle OSB 11g Certified Implementation Specialist Certification Process: Agile Delivery Foundation\\r\\nSun Certified Java Developer Certification (SCJP)\\r\\nITIL Foundation Certification\\r\\nBachelor of Engineering | Electronics And Tele-Communication\\r\\nRTMNU University, India\\r\\nHigh School Diploma\\r\\nKendriya Vidyalaya No.1, Bhopal, India\\r\\nSecondary School Certificate\\r\\nBishop Cotton School, Nagpur, India\\r\\nEnglish: Negotiated:\\r\\nMarathi:\\r\\nNegotiated:\\r\\n\\u2022\\r\\nMarital Status : Married\\r\\nHindi: Negotiated:\\r\\n05/2008\\r\\n04/2004\\r\\n04/2002\\r\\nDate of Birth: 26th May 1986\\r\\nNationality Indian\\r\\nPassport: R7033842\\r\\nVisa : Bridging Visa A For Skilled Nominated 190 Visa (as application is in progress - invite received)\"\n        ],\n        \"semantic_type\": \"\",\n        \"description\": \"\"\n      }\n    }\n  ]\n}"
            }
          },
          "metadata": {},
          "execution_count": 2
        }
      ]
    },
    {
      "cell_type": "markdown",
      "source": [
        "Dataset Summary"
      ],
      "metadata": {
        "id": "_HoTiGZ9q_7D"
      }
    },
    {
      "cell_type": "code",
      "source": [
        "df.info()\n",
        "df.isnull().sum()\n"
      ],
      "metadata": {
        "colab": {
          "base_uri": "https://localhost:8080/",
          "height": 303
        },
        "id": "RGi2gdcUp2Uf",
        "outputId": "5474d824-513d-4581-c951-a5de115cad8b"
      },
      "execution_count": null,
      "outputs": [
        {
          "output_type": "stream",
          "name": "stdout",
          "text": [
            "<class 'pandas.core.frame.DataFrame'>\n",
            "RangeIndex: 13389 entries, 0 to 13388\n",
            "Data columns (total 2 columns):\n",
            " #   Column    Non-Null Count  Dtype \n",
            "---  ------    --------------  ----- \n",
            " 0   Category  13389 non-null  object\n",
            " 1   Text      13389 non-null  object\n",
            "dtypes: object(2)\n",
            "memory usage: 209.3+ KB\n"
          ]
        },
        {
          "output_type": "execute_result",
          "data": {
            "text/plain": [
              "Category    0\n",
              "Text        0\n",
              "dtype: int64"
            ],
            "text/html": [
              "<div>\n",
              "<style scoped>\n",
              "    .dataframe tbody tr th:only-of-type {\n",
              "        vertical-align: middle;\n",
              "    }\n",
              "\n",
              "    .dataframe tbody tr th {\n",
              "        vertical-align: top;\n",
              "    }\n",
              "\n",
              "    .dataframe thead th {\n",
              "        text-align: right;\n",
              "    }\n",
              "</style>\n",
              "<table border=\"1\" class=\"dataframe\">\n",
              "  <thead>\n",
              "    <tr style=\"text-align: right;\">\n",
              "      <th></th>\n",
              "      <th>0</th>\n",
              "    </tr>\n",
              "  </thead>\n",
              "  <tbody>\n",
              "    <tr>\n",
              "      <th>Category</th>\n",
              "      <td>0</td>\n",
              "    </tr>\n",
              "    <tr>\n",
              "      <th>Text</th>\n",
              "      <td>0</td>\n",
              "    </tr>\n",
              "  </tbody>\n",
              "</table>\n",
              "</div><br><label><b>dtype:</b> int64</label>"
            ]
          },
          "metadata": {},
          "execution_count": 3
        }
      ]
    },
    {
      "cell_type": "markdown",
      "source": [
        "Category Distribution"
      ],
      "metadata": {
        "id": "lwnWrZ0GrCn9"
      }
    },
    {
      "cell_type": "code",
      "source": [
        "category_counts = df['Category'].value_counts()\n",
        "print(category_counts)\n",
        "print(\"Unique Categories:\", df['Category'].nunique())\n"
      ],
      "metadata": {
        "colab": {
          "base_uri": "https://localhost:8080/"
        },
        "id": "fFL2yrB0p3mn",
        "outputId": "09fd1d84-81e6-419d-ac16-720c7bcf3efe"
      },
      "execution_count": null,
      "outputs": [
        {
          "output_type": "stream",
          "name": "stdout",
          "text": [
            "Category\n",
            "Education                    410\n",
            "Electrical Engineering       384\n",
            "Mechanical Engineer          384\n",
            "Consultant                   368\n",
            "Sales                        364\n",
            "Civil Engineer               364\n",
            "Management                   361\n",
            "Human Resources              360\n",
            "Digital Media                358\n",
            "Accountant                   350\n",
            "Java Developer               348\n",
            "Operations Manager           345\n",
            "Building and Construction    345\n",
            "Testing                      344\n",
            "Architecture                 344\n",
            "Aviation                     340\n",
            "Business Analyst             340\n",
            "Finance                      339\n",
            "SQL Developer                338\n",
            "Public Relations             337\n",
            "Health and Fitness           332\n",
            "Arts                         332\n",
            "Network Security Engineer    330\n",
            "DotNet Developer             329\n",
            "Apparel                      320\n",
            "Banking                      314\n",
            "Automobile                   313\n",
            "Web Designing                309\n",
            "SAP Developer                304\n",
            "Data Science                 299\n",
            "ETL Developer                294\n",
            "Agriculture                  293\n",
            "Advocate                     291\n",
            "DevOps                       289\n",
            "PMO                          286\n",
            "Information Technology       274\n",
            "Designing                    258\n",
            "Database                     257\n",
            "Python Developer             248\n",
            "BPO                          203\n",
            "React Developer              182\n",
            "Food and Beverages           162\n",
            "Blockchain                    47\n",
            "Name: count, dtype: int64\n",
            "Unique Categories: 43\n"
          ]
        }
      ]
    },
    {
      "cell_type": "markdown",
      "source": [
        "Bar Chart of Categories"
      ],
      "metadata": {
        "id": "jfMnaUisrGeg"
      }
    },
    {
      "cell_type": "code",
      "source": [
        "plt.figure(figsize=(15, 8))\n",
        "category_counts.plot(kind='bar')\n",
        "plt.title('Resume Category Distribution')\n",
        "plt.xlabel('Category')\n",
        "plt.ylabel('Count')\n",
        "plt.xticks(rotation=45)\n",
        "plt.tight_layout()\n",
        "plt.show()\n"
      ],
      "metadata": {
        "colab": {
          "base_uri": "https://localhost:8080/",
          "height": 359
        },
        "id": "xpZ_0bYJp5WR",
        "outputId": "f2f83851-19f6-40c9-9686-cf40cada6e35"
      },
      "execution_count": null,
      "outputs": [
        {
          "output_type": "display_data",
          "data": {
            "text/plain": [
              "<Figure size 1500x800 with 1 Axes>"
            ],
            "image/png": "[encoded data removed]"
          },
          "metadata": {}
        }
      ]
    },
    {
      "cell_type": "markdown",
      "source": [
        "Pie Chart of Categories"
      ],
      "metadata": {
        "id": "UsPvnONNrIxq"
      }
    },
    {
      "cell_type": "code",
      "source": [
        "plt.figure(figsize=(8, 8))\n",
        "plt.pie(category_counts.values, labels=category_counts.index, autopct='%1.1f%%', startangle=90)\n",
        "plt.title('Category Distribution (Pie Chart)')\n",
        "plt.axis('equal')\n",
        "plt.tight_layout()\n",
        "plt.show()\n"
      ],
      "metadata": {
        "colab": {
          "base_uri": "https://localhost:8080/",
          "height": 649
        },
        "id": "2Jrp7CMPp7Yk",
        "outputId": "a66871ce-a8cd-4bf1-be6f-499a327a4fa8"
      },
      "execution_count": null,
      "outputs": [
        {
          "output_type": "display_data",
          "data": {
            "text/plain": [
              "<Figure size 800x800 with 1 Axes>"
            ],
            "image/png": "[encoded data removed]"
          },
          "metadata": {}
        }
      ]
    },
    {
      "cell_type": "markdown",
      "source": [
        "Clean Text"
      ],
      "metadata": {
        "id": "QOdMl33mrMQh"
      }
    },
    {
      "cell_type": "code",
      "source": [
        "def clean_resume_text(text):\n",
        "    if pd.isna(text):\n",
        "        return \"\"\n",
        "    text = str(text).lower()\n",
        "    text = re.sub(r'<[^>]+>', '', text)\n",
        "    text = re.sub(r'http\\S+|www\\S+|https\\S+', '', text)\n",
        "    text = re.sub(r'\\S+@\\S+', '', text)\n",
        "    text = re.sub(r'\\+?\\d[\\d\\s\\-\\(\\)]{8,}\\d', '', text)\n",
        "    text = re.sub(r'[^\\w\\s]', ' ', text)\n",
        "    text = re.sub(r'\\s+', ' ', text).strip()\n",
        "    return text\n",
        "\n",
        "df['resume_length'] = df['Text'].str.len()\n",
        "df['cleaned_resume'] = df['Text'].apply(clean_resume_text)\n",
        "df['cleaned_length'] = df['cleaned_resume'].str.len()\n",
        "df = df[df['cleaned_length'] > 50].drop_duplicates(subset=['cleaned_resume'])\n",
        "\n",
        "print(\"Cleaned dataset shape:\", df.shape)\n"
      ],
      "metadata": {
        "colab": {
          "base_uri": "https://localhost:8080/"
        },
        "id": "-WzH4G50p9bo",
        "outputId": "d2c23e21-3997-4ac1-89e1-0d76be04b2ed"
      },
      "execution_count": null,
      "outputs": [
        {
          "output_type": "stream",
          "name": "stdout",
          "text": [
            "Cleaned dataset shape: (12044, 5)\n"
          ]
        }
      ]
    },
    {
      "cell_type": "markdown",
      "source": [
        "Generate Sentence Embeddings"
      ],
      "metadata": {
        "id": "FCdtPvs-rPpd"
      }
    },
    {
      "cell_type": "code",
      "source": [
        "model = SentenceTransformer('all-MiniLM-L6-v2')\n",
        "resume_embeddings = model.encode(df['cleaned_resume'].tolist(), show_progress_bar=True)\n",
        "\n",
        "np.save('/content/drive/MyDrive/RESUME_SEG/resume_embeddings.npy', resume_embeddings)\n"
      ],
      "metadata": {
        "colab": {
          "base_uri": "https://localhost:8080/",
          "height": 401,
          "referenced_widgets": [
            "a7b445c4bb0241919007b48dd6c86f8e",
            "4393d1d4e18d4ba68d23b119a42d4607",
            "a018df4387374d48bc074e8500daab49",
            "b9110b4616b84fc28586c2a3e7d0c34a",
            "9bed58aa25fd432ea26571a2ff156e73",
            "7fa123f801be45bbb3301a6873c41422",
            "97de5eda3479453997224e3d4e1801cc",
            "97e9fa752c3444d68f87f902b255d93d",
            "d560ebd668054954b0c7cbede7f0733a",
            "db61b642e30a41f8bded103a620639ee",
            "7c35f649115f4e5a9ade85a2546d0abf",
            "4f386ddaa19a40c0ab179927fb18369d",
            "481c0f8ced074c88824d7239216432f8",
            "8f5a54e2baf0403e88d48ed639fd88cc",
            "e65eda6878ee41e2a7e08089ea174d4a",
            "c103e62986834ce6ab49f09e4d2208df",
            "903fa675da4e4a13863efcf29f40acee",
            "550389aa95b246dfacdb8a8dc8d28846",
            "91c413c94a4b45759844191c0186f94e",
            "f9fc54a7951c41708d194aac763ffbd9",
            "734f292dc7a64abaa955be8fea0d2e67",
            "0635f1d5c2ae48d48ff3a9feb9a82852",
            "6f70acf3dbc242f694b6484afc261633",
            "8efef31802624ec1b39a3dfa612aa6ea",
            "8e022b8b6cae4907bca6de7dfc827a8a",
            "1e16c451a3874df0a17a658ea617e652",
            "73d70aa2a8a7494fa2fe6c6e7d18617e",
            "ff94dc3b43ea48e49a081e404805ad47",
            "78985aa10af840799111aec8dae12813",
            "6d9567f4ab7344c59ac24995a5f7cd79",
            "78b8e66bd7464c7cb7d760788d569624",
            "843e3c95a0bc46148e8f89d9b8cb5a23",
            "ac526a85d5fc486b9d904029232d425f",
            "45acd84c4964457b9bcd19a95a266848",
            "d41a88eb517247c7bcc75a17334a5028",
            "d85f735a843644b9bc65019ec21993fe",
            "bdb822004b3c4180ade4c558d23d1b44",
            "bfc117b9bbf0418c90d3129df76e40f2",
            "e631b7a37fcd42a9ace5dd35d5878a0a",
            "fc7c67adaef24c49b31705bc3a07cff8",
            "acdd0cef2e87432fb3f37c8809e56c71",
            "328209ad6fa54527b5b5aaae799a5ea5",
            "2f880d29823543f0b1c4dda0fe7e2719",
            "eb29b96d93124d438551d8547dfb91b8",
            "1fcd648781694f7180518e878394e950",
            "116a9f9b8bc1498abe7ef553c464433d",
            "8464003e84eb4a2896fc5e7649db9f74",
            "d56c05e1de3c4575bfa4c27df0259f09",
            "3385fb1301134cfdaf2118557243e256",
            "026175cd19664fcf9af9ed1335a93053",
            "33e4186985ad4137a5727805be1721ab",
            "497fdd5198bf4a9790c9e1d94d78e677",
            "fc857f7541c84827b917ff48797a4bf9",
            "cc8a3705f2fc4bafa74486258b36aff4",
            "05a0aa0c8f2044028689a64926d785be",
            "c9ae033fcec44c3780879654ffec81d4",
            "6c5ebc80310d4bb3a36b0934e4959bad",
            "ea47777324e04b159d1568019f0bf671",
            "00b55ac3f8134d92b8d737022fce1af4",
            "2e1b19c820e641aeaac6cdac5fd9e982",
            "a65734d829f44d329a5c9581a082c49b",
            "d00af76be89d4756ba3732963b1e90ac",
            "a77df4772c9a473b91ee52d758ea3cb7",
            "76e107380d5040d5b0970f8e4b6b8d98",
            "57758db016fd486186209b37b3ed63b3",
            "fe4f023c089c4897a9dec24ae2c3da5d",
            "ee494ec7b5ef4aa48db1a8ea759364d5",
            "2ab02e4c73b1465d88b6d8507c4a1512",
            "6e7efa9a9c884a2ca462ae6cf39a5404",
            "3b805f5d1bb145b29e8cdcee74f97d0a",
            "da4b09d9af8c4f5b963cfce8542ed817",
            "4cb01c83eed54a38b00f8e53fd381d5b",
            "56db8fa086a1457f872d18918222c9d5",
            "e3113b9fdc934f57a453ddae80234d83",
            "c7b8baccf19a4f0090d720ba8cc7c92c",
            "9d4c95d04a374f6683629dc12d398e37",
            "534abf7808ff4779b410882370eecc89",
            "ac3149dc7bcc47639b30d0bbbefb5280",
            "6fdb18f3b5004e06ac97689af7da84f1",
            "a71ffc51b0514e1c9ccebab374535a01",
            "72571ed23fd445aba9c122132c38a5cc",
            "2e6d33b2fa9c42f28535eb46091897c8",
            "292c8b0def274238a6ed79a5a45fdc6a",
            "4f83f674770a4803959a80ed74cd875c",
            "0a10b111805948e6a4245d8d61d6fe9c",
            "b292c143a9ef4ea7aafe8687a3811939",
            "06735e562ef94653af1629f5c6f5a998",
            "3459521c56124343b983bab4a5595097",
            "7943a1f70c4d44dc84a5226b8c6d7eb0",
            "15a433bbdfb34a3e8dc09c347f6d840c",
            "1bca1e79e50f4e1e8f0f33e8c12f8ff7",
            "6b2faaad24a84a05b4c3f17415157567",
            "f578bd07f584428b8e9f7bb645f402b8",
            "10a78e7cd69c46c3b1fca06b460be586",
            "970c47229ff34f51bb26cc78d65d33c4",
            "f8b3a43eac9a4455bfc9a4d7e98f68f4",
            "db7fe11075e841e0b2645cb11c68109f",
            "da1130e2bb154d89bb3f7746b27e6335",
            "0233b2bf26d54184ab6f16c8c15c1b25",
            "b5a834527c2e4b49ac1048b151d10c9d",
            "cfb7b1d38b3f41b98140db8409d1fea1",
            "98f608ac53dd4af8b9268ba3605aba91",
            "2a1a68f1bfd8484d8a7249d9221e5465",
            "d4513d3f5abc432da0621f6d771472e7",
            "2b505446b40043a68bb97f4eaaa24721",
            "d37eda69683a4a1388a406ee7b745c1b",
            "c884f30201c54f1b923059ca2b27ce59",
            "b9075168dde144158ca9d538bed79fbd",
            "ebf9db3a527a4e2fa0957572d0fc628d",
            "1e820bfcd3944a4a81715a366821cb44",
            "e6b65bd2936343fcb5bb5dfef81f8c4a",
            "2e42dec6b0c0489a80efe28316552a4e",
            "dd27092c2e8a4c16b8e3c80b63a8671d",
            "b32e326901ec4551908d7107b3e85c38",
            "836ff0f11c99449ebad5da17735f42e5",
            "1f012c88764049daa10bc08bac9cc256",
            "8d323015daf14133858b02df417d9417",
            "4dde8577d3314a448da85eb272f2b508",
            "598ac1662cbb4244bc056ad094cd2709",
            "b94c79f5468e46a0be3243ccf3692ca7",
            "b421ef79c103433b9b4b57d257de6094",
            "1f02e99884d54a398db575bfebe7a7cb",
            "a74c4a9767284e35bbfce21f7afe1665",
            "210e684801864bb3bfc56c915b60989f",
            "e0c4efa811eb4929a0f3879bfc64429b",
            "2a5686daf8e7474f8ac3a661a59745fb",
            "9179d4b3d5ae442abacb7644c012785a",
            "80350c3203314dc6a2e47b731ca5581a",
            "32a0861e269545c8a359d24732d869db",
            "620d209a2ce44726a63a7e982ff0d966",
            "519926b588394e86a80ad16fdf447e49",
            "cd53607ccb8346ef918f32a2840a098f"
          ]
        },
        "id": "BtSogs_Cp-rV",
        "outputId": "de1e3d22-8824-4160-a433-6e713e4a7239"
      },
      "execution_count": null,
      "outputs": [
        {
          "output_type": "display_data",
          "data": {
            "text/plain": [
              "modules.json:   0%|          | 0.00/349 [00:00<?, ?B/s]"
            ],
            "application/vnd.jupyter.widget-view+json": {
              "version_major": 2,
              "version_minor": 0,
              "model_id": "a7b445c4bb0241919007b48dd6c86f8e"
            }
          },
          "metadata": {}
        },
        {
          "output_type": "display_data",
          "data": {
            "text/plain": [
              "config_sentence_transformers.json:   0%|          | 0.00/116 [00:00<?, ?B/s]"
            ],
            "application/vnd.jupyter.widget-view+json": {
              "version_major": 2,
              "version_minor": 0,
              "model_id": "4f386ddaa19a40c0ab179927fb18369d"
            }
          },
          "metadata": {}
        },
        {
          "output_type": "display_data",
          "data": {
            "text/plain": [
              "README.md: 0.00B [00:00, ?B/s]"
            ],
            "application/vnd.jupyter.widget-view+json": {
              "version_major": 2,
              "version_minor": 0,
              "model_id": "6f70acf3dbc242f694b6484afc261633"
            }
          },
          "metadata": {}
        },
        {
          "output_type": "display_data",
          "data": {
            "text/plain": [
              "sentence_bert_config.json:   0%|          | 0.00/53.0 [00:00<?, ?B/s]"
            ],
            "application/vnd.jupyter.widget-view+json": {
              "version_major": 2,
              "version_minor": 0,
              "model_id": "45acd84c4964457b9bcd19a95a266848"
            }
          },
          "metadata": {}
        },
        {
          "output_type": "display_data",
          "data": {
            "text/plain": [
              "config.json:   0%|          | 0.00/612 [00:00<?, ?B/s]"
            ],
            "application/vnd.jupyter.widget-view+json": {
              "version_major": 2,
              "version_minor": 0,
              "model_id": "1fcd648781694f7180518e878394e950"
            }
          },
          "metadata": {}
        },
        {
          "output_type": "display_data",
          "data": {
            "text/plain": [
              "model.safetensors:   0%|          | 0.00/90.9M [00:00<?, ?B/s]"
            ],
            "application/vnd.jupyter.widget-view+json": {
              "version_major": 2,
              "version_minor": 0,
              "model_id": "c9ae033fcec44c3780879654ffec81d4"
            }
          },
          "metadata": {}
        },
        {
          "output_type": "display_data",
          "data": {
            "text/plain": [
              "tokenizer_config.json:   0%|          | 0.00/350 [00:00<?, ?B/s]"
            ],
            "application/vnd.jupyter.widget-view+json": {
              "version_major": 2,
              "version_minor": 0,
              "model_id": "ee494ec7b5ef4aa48db1a8ea759364d5"
            }
          },
          "metadata": {}
        },
        {
          "output_type": "display_data",
          "data": {
            "text/plain": [
              "vocab.txt: 0.00B [00:00, ?B/s]"
            ],
            "application/vnd.jupyter.widget-view+json": {
              "version_major": 2,
              "version_minor": 0,
              "model_id": "ac3149dc7bcc47639b30d0bbbefb5280"
            }
          },
          "metadata": {}
        },
        {
          "output_type": "display_data",
          "data": {
            "text/plain": [
              "tokenizer.json: 0.00B [00:00, ?B/s]"
            ],
            "application/vnd.jupyter.widget-view+json": {
              "version_major": 2,
              "version_minor": 0,
              "model_id": "7943a1f70c4d44dc84a5226b8c6d7eb0"
            }
          },
          "metadata": {}
        },
        {
          "output_type": "display_data",
          "data": {
            "text/plain": [
              "special_tokens_map.json:   0%|          | 0.00/112 [00:00<?, ?B/s]"
            ],
            "application/vnd.jupyter.widget-view+json": {
              "version_major": 2,
              "version_minor": 0,
              "model_id": "b5a834527c2e4b49ac1048b151d10c9d"
            }
          },
          "metadata": {}
        },
        {
          "output_type": "display_data",
          "data": {
            "text/plain": [
              "config.json:   0%|          | 0.00/190 [00:00<?, ?B/s]"
            ],
            "application/vnd.jupyter.widget-view+json": {
              "version_major": 2,
              "version_minor": 0,
              "model_id": "e6b65bd2936343fcb5bb5dfef81f8c4a"
            }
          },
          "metadata": {}
        },
        {
          "output_type": "display_data",
          "data": {
            "text/plain": [
              "Batches:   0%|          | 0/377 [00:00<?, ?it/s]"
            ],
            "application/vnd.jupyter.widget-view+json": {
              "version_major": 2,
              "version_minor": 0,
              "model_id": "1f02e99884d54a398db575bfebe7a7cb"
            }
          },
          "metadata": {}
        }
      ]
    },
    {
      "cell_type": "markdown",
      "source": [
        "Prepare Train-Test Split"
      ],
      "metadata": {
        "id": "jlXx2HtgrSGe"
      }
    },
    {
      "cell_type": "code",
      "source": [
        "X = resume_embeddings\n",
        "y = df['Category'].values\n",
        "\n",
        "label_encoder = LabelEncoder()\n",
        "y_encoded = label_encoder.fit_transform(y)\n",
        "\n",
        "X_train, X_test, y_train, y_test = train_test_split(\n",
        "    X, y_encoded, test_size=0.2, stratify=y_encoded, random_state=42\n",
        ")\n",
        "\n",
        "print(\"Train size:\", X_train.shape[0], \"Test size:\", X_test.shape[0])"
      ],
      "metadata": {
        "colab": {
          "base_uri": "https://localhost:8080/"
        },
        "id": "Hdyb6JpaqF-l",
        "outputId": "a9c95939-9547-42a9-98f9-18610e4fbeb7"
      },
      "execution_count": null,
      "outputs": [
        {
          "output_type": "stream",
          "name": "stdout",
          "text": [
            "Train size: 9635 Test size: 2409\n"
          ]
        }
      ]
    },
    {
      "cell_type": "markdown",
      "source": [
        "Train Base Random Forest"
      ],
      "metadata": {
        "id": "qoHJYdYkrVZI"
      }
    },
    {
      "cell_type": "code",
      "source": [
        "rf_model = RandomForestClassifier(class_weight='balanced', random_state=42)\n",
        "rf_model.fit(X_train, y_train)\n",
        "y_pred_rf = rf_model.predict(X_test)\n",
        "rf_accuracy = accuracy_score(y_test, y_pred_rf)\n",
        "print(f\"✅ Base RF Accuracy: {rf_accuracy:.4f}\")\n"
      ],
      "metadata": {
        "colab": {
          "base_uri": "https://localhost:8080/"
        },
        "id": "olbWPlWAqItP",
        "outputId": "b576424e-fd51-448a-8767-c967aa23d0f2"
      },
      "execution_count": null,
      "outputs": [
        {
          "output_type": "stream",
          "name": "stdout",
          "text": [
            "✅ Base RF Accuracy: 0.6945\n"
          ]
        }
      ]
    },
    {
      "cell_type": "markdown",
      "source": [
        "Hyperparameter Tuning (Random Forest)"
      ],
      "metadata": {
        "id": "3PU1twE3rYTi"
      }
    },
    {
      "cell_type": "code",
      "source": [
        "param_dist_rf = {\n",
        "    'n_estimators': [100, 200, 300],\n",
        "    'max_depth': [10, 20, None],\n",
        "    'min_samples_split': [2, 5],\n",
        "    'min_samples_leaf': [1, 2],\n",
        "    'bootstrap': [True, False]\n",
        "}\n",
        "\n",
        "rf_random = RandomizedSearchCV(\n",
        "    estimator=RandomForestClassifier(class_weight='balanced', random_state=42),\n",
        "    param_distributions=param_dist_rf,\n",
        "    n_iter=10,\n",
        "    cv=3,\n",
        "    random_state=42,\n",
        "    verbose=2,\n",
        "    n_jobs=-1\n",
        ")\n",
        "\n",
        "rf_random.fit(X_train, y_train)\n",
        "print(\"Best Random Forest Params:\", rf_random.best_params_)\n"
      ],
      "metadata": {
        "colab": {
          "base_uri": "https://localhost:8080/"
        },
        "id": "0bhrP7BkqIva",
        "outputId": "872be1c1-4b04-4d91-8d95-d7847e46db5a"
      },
      "execution_count": null,
      "outputs": [
        {
          "output_type": "stream",
          "name": "stdout",
          "text": [
            "Fitting 3 folds for each of 10 candidates, totalling 30 fits\n",
            "Best Random Forest Params: {'n_estimators': 300, 'min_samples_split': 2, 'min_samples_leaf': 1, 'max_depth': None, 'bootstrap': False}\n"
          ]
        }
      ]
    },
    {
      "cell_type": "markdown",
      "source": [
        "Evaluate Tuned RF"
      ],
      "metadata": {
        "id": "rjl-KiQSrbcG"
      }
    },
    {
      "cell_type": "code",
      "source": [
        "best_rf_model = rf_random.best_estimator_\n",
        "y_pred_rf = best_rf_model.predict(X_test)\n",
        "rf_tuned_acc = accuracy_score(y_test, y_pred_rf)\n",
        "print(f\"🏆 Tuned RF Accuracy: {rf_tuned_acc:.4f}\")\n"
      ],
      "metadata": {
        "colab": {
          "base_uri": "https://localhost:8080/"
        },
        "id": "PPPd0u0gqIx4",
        "outputId": "5d5f4850-f6e0-4fad-ba72-9c8372b6727e"
      },
      "execution_count": null,
      "outputs": [
        {
          "output_type": "stream",
          "name": "stdout",
          "text": [
            "🏆 Tuned RF Accuracy: 0.7240\n"
          ]
        }
      ]
    },
    {
      "cell_type": "markdown",
      "source": [
        "Save RF Model"
      ],
      "metadata": {
        "id": "LqAOQZHcrd9f"
      }
    },
    {
      "cell_type": "code",
      "source": [
        "joblib.dump(best_rf_model, '/content/drive/MyDrive/RESUME_SEG/rf_tuned.pkl')\n"
      ],
      "metadata": {
        "colab": {
          "base_uri": "https://localhost:8080/"
        },
        "id": "QK_0qs82qI0H",
        "outputId": "ae7b4fe7-ccad-4033-c02f-856aca44e3db"
      },
      "execution_count": null,
      "outputs": [
        {
          "output_type": "execute_result",
          "data": {
            "text/plain": [
              "['/content/drive/MyDrive/RESUME_SEG/rf_tuned.pkl']"
            ]
          },
          "metadata": {},
          "execution_count": 13
        }
      ]
    },
    {
      "cell_type": "markdown",
      "source": [
        "Train XGBoost (Initial)"
      ],
      "metadata": {
        "id": "cc4n6gcrrgL9"
      }
    },
    {
      "cell_type": "code",
      "source": [
        "from xgboost import XGBClassifier\n",
        "\n",
        "xgb_model = XGBClassifier(\n",
        "    objective='multi:softprob',\n",
        "    num_class=len(np.unique(y_encoded)),\n",
        "    eval_metric='mlogloss',\n",
        "    use_label_encoder=False,\n",
        "    tree_method='gpu_hist',\n",
        "    predictor='gpu_predictor',\n",
        "    random_state=42\n",
        ")\n",
        "\n",
        "xgb_model.fit(X_train, y_train)\n",
        "y_pred_xgb = xgb_model.predict(X_test)\n",
        "xgb_acc = accuracy_score(y_test, y_pred_xgb)\n",
        "print(f\"✅ XGBoost Initial Accuracy: {xgb_acc:.4f}\")\n"
      ],
      "metadata": {
        "colab": {
          "base_uri": "https://localhost:8080/"
        },
        "id": "hcjvKYsUqI21",
        "outputId": "3df7a53a-1016-419c-9f08-9a97b2a1e975"
      },
      "execution_count": null,
      "outputs": [
        {
          "output_type": "stream",
          "name": "stdout",
          "text": [
            "✅ XGBoost Initial Accuracy: 0.6924\n"
          ]
        }
      ]
    },
    {
      "cell_type": "markdown",
      "source": [
        "XGBoost Hyperparameter Tuning"
      ],
      "metadata": {
        "id": "a8hw03cRrwaH"
      }
    },
    {
      "cell_type": "code",
      "source": [
        "param_dist_xgb = {\n",
        "    'n_estimators': [100, 200, 300],\n",
        "    'max_depth': [3, 5, 7],\n",
        "    'learning_rate': [0.01, 0.1, 0.2],\n",
        "    'subsample': [0.6, 0.8, 1.0],\n",
        "    'colsample_bytree': [0.6, 0.8, 1.0],\n",
        "    'gamma': [0, 0.1, 0.3]\n",
        "}\n",
        "\n",
        "xgb_random = RandomizedSearchCV(\n",
        "    estimator=XGBClassifier(\n",
        "        objective='multi:softprob',\n",
        "        num_class=len(np.unique(y_encoded)),\n",
        "        use_label_encoder=False,\n",
        "        eval_metric='mlogloss',\n",
        "        tree_method='gpu_hist',\n",
        "        predictor='gpu_predictor',\n",
        "        random_state=42\n",
        "    ),\n",
        "    param_distributions=param_dist_xgb,\n",
        "    n_iter=10,\n",
        "    scoring='accuracy',\n",
        "    cv=3,\n",
        "    verbose=2,\n",
        "    n_jobs=-1\n",
        ")\n",
        "\n",
        "xgb_random.fit(X_train, y_train)\n",
        "print(\"✅ Best XGBoost Params:\", xgb_random.best_params_)\n"
      ],
      "metadata": {
        "colab": {
          "base_uri": "https://localhost:8080/"
        },
        "id": "2UETg3nzqI5t",
        "outputId": "d6d75c8b-df3d-474b-f6ce-432332711735"
      },
      "execution_count": null,
      "outputs": [
        {
          "output_type": "stream",
          "name": "stdout",
          "text": [
            "Fitting 3 folds for each of 10 candidates, totalling 30 fits\n",
            "✅ Best XGBoost Params: {'subsample': 0.8, 'n_estimators': 300, 'max_depth': 5, 'learning_rate': 0.2, 'gamma': 0, 'colsample_bytree': 0.6}\n"
          ]
        }
      ]
    },
    {
      "cell_type": "markdown",
      "source": [
        "Evaluate Tuned XGBoost"
      ],
      "metadata": {
        "id": "-PaAFVonrzJW"
      }
    },
    {
      "cell_type": "code",
      "source": [
        "xgb_best_model = xgb_random.best_estimator_\n",
        "y_pred_best_xgb = xgb_best_model.predict(X_test)\n",
        "xgb_best_acc = accuracy_score(y_test, y_pred_best_xgb)\n",
        "print(f\"🏆 Tuned XGBoost Accuracy: {xgb_best_acc:.4f}\")\n"
      ],
      "metadata": {
        "colab": {
          "base_uri": "https://localhost:8080/"
        },
        "id": "QKEQZSgGqI8T",
        "outputId": "5deb3f1f-b12a-47b1-db0b-371416779572"
      },
      "execution_count": null,
      "outputs": [
        {
          "output_type": "stream",
          "name": "stdout",
          "text": [
            "🏆 Tuned XGBoost Accuracy: 0.7244\n"
          ]
        }
      ]
    },
    {
      "cell_type": "markdown",
      "source": [
        " Save Tuned XGBoost"
      ],
      "metadata": {
        "id": "srU-kaQ3r1Y1"
      }
    },
    {
      "cell_type": "code",
      "source": [
        "joblib.dump(xgb_best_model, '/content/drive/MyDrive/RESUME_SEG/xgb_model_tuned.pkl')\n"
      ],
      "metadata": {
        "colab": {
          "base_uri": "https://localhost:8080/"
        },
        "id": "fEb59mkDqI-i",
        "outputId": "44a50152-0279-4713-ecf5-6f5e63332394"
      },
      "execution_count": null,
      "outputs": [
        {
          "output_type": "execute_result",
          "data": {
            "text/plain": [
              "['/content/drive/MyDrive/RESUME_SEG/xgb_model_tuned.pkl']"
            ]
          },
          "metadata": {},
          "execution_count": 17
        }
      ]
    },
    {
      "cell_type": "markdown",
      "source": [
        "Logistic Regression Tuning"
      ],
      "metadata": {
        "id": "4RWByGh_r5Xd"
      }
    },
    {
      "cell_type": "code",
      "source": [
        "param_grid_lr = {\n",
        "    'C': [0.01, 0.1, 1, 10],\n",
        "    'penalty': ['l2'],\n",
        "    'solver': ['lbfgs', 'liblinear'],\n",
        "    'class_weight': ['balanced']\n",
        "}\n",
        "\n",
        "lr_grid = GridSearchCV(\n",
        "    estimator=LogisticRegression(max_iter=1000, random_state=42),\n",
        "    param_grid=param_grid_lr,\n",
        "    cv=3,\n",
        "    verbose=2,\n",
        "    n_jobs=-1\n",
        ")\n",
        "\n",
        "lr_grid.fit(X_train, y_train)\n",
        "print(\"Best Logistic Regression Params:\", lr_grid.best_params_)\n"
      ],
      "metadata": {
        "colab": {
          "base_uri": "https://localhost:8080/"
        },
        "id": "1VxVkz3eqJCJ",
        "outputId": "cb6bb468-27be-4d29-bc86-76ec76cafbbe"
      },
      "execution_count": null,
      "outputs": [
        {
          "output_type": "stream",
          "name": "stdout",
          "text": [
            "Fitting 3 folds for each of 8 candidates, totalling 24 fits\n",
            "Best Logistic Regression Params: {'C': 10, 'class_weight': 'balanced', 'penalty': 'l2', 'solver': 'liblinear'}\n"
          ]
        }
      ]
    },
    {
      "cell_type": "markdown",
      "source": [
        "Evaluate Logistic Regression"
      ],
      "metadata": {
        "id": "hnoaGeFur9Lf"
      }
    },
    {
      "cell_type": "code",
      "source": [
        "best_lr_model = lr_grid.best_estimator_\n",
        "y_pred_lr = best_lr_model.predict(X_test)\n",
        "lr_accuracy = accuracy_score(y_test, y_pred_lr)\n",
        "print(f\"✅ Tuned Logistic Regression Accuracy: {lr_accuracy:.4f}\")\n"
      ],
      "metadata": {
        "colab": {
          "base_uri": "https://localhost:8080/"
        },
        "id": "4h0jqRb1qWkB",
        "outputId": "0fb3f19a-d450-4702-e524-ebbf22f663da"
      },
      "execution_count": null,
      "outputs": [
        {
          "output_type": "stream",
          "name": "stdout",
          "text": [
            "✅ Tuned Logistic Regression Accuracy: 0.7518\n"
          ]
        }
      ]
    },
    {
      "cell_type": "markdown",
      "source": [
        "Save LR Model"
      ],
      "metadata": {
        "id": "E_EbQLyPr_Cv"
      }
    },
    {
      "cell_type": "code",
      "source": [
        "joblib.dump(best_lr_model, '/content/drive/MyDrive/RESUME_SEG/lr_model_tuned.pkl')\n"
      ],
      "metadata": {
        "colab": {
          "base_uri": "https://localhost:8080/"
        },
        "id": "S9Xc1QI2qWma",
        "outputId": "f2b2c7c0-2780-4dce-832a-4c2d568b7127"
      },
      "execution_count": null,
      "outputs": [
        {
          "output_type": "execute_result",
          "data": {
            "text/plain": [
              "['/content/drive/MyDrive/RESUME_SEG/lr_model_tuned.pkl']"
            ]
          },
          "metadata": {},
          "execution_count": 20
        }
      ]
    },
    {
      "cell_type": "markdown",
      "source": [
        "SVC Model"
      ],
      "metadata": {
        "id": "e4AMPrNWsB4s"
      }
    },
    {
      "cell_type": "code",
      "source": [
        "from sklearn.svm import SVC\n",
        "\n",
        "svc_model = SVC(kernel='linear', probability=True, class_weight='balanced', random_state=42)\n",
        "svc_model.fit(X_train, y_train)\n",
        "svc_acc = accuracy_score(y_test, svc_model.predict(X_test))\n",
        "print(f\"✅ SVC Accuracy: {svc_acc:.4f}\")\n"
      ],
      "metadata": {
        "colab": {
          "base_uri": "https://localhost:8080/"
        },
        "id": "l4ELympiqWou",
        "outputId": "62567277-6108-4786-9066-da709c13fdeb"
      },
      "execution_count": null,
      "outputs": [
        {
          "output_type": "stream",
          "name": "stdout",
          "text": [
            "✅ SVC Accuracy: 0.7364\n"
          ]
        }
      ]
    },
    {
      "cell_type": "markdown",
      "source": [
        "Model Comparison & Save Best"
      ],
      "metadata": {
        "id": "xJ9GctlOsGBk"
      }
    },
    {
      "cell_type": "code",
      "source": [
        "models = {\n",
        "    'Random Forest (Tuned)': (best_rf_model, rf_tuned_acc),\n",
        "    'XGBoost (Tuned)': (xgb_best_model, xgb_best_acc),\n",
        "    'Logistic Regression (Tuned)': (best_lr_model, lr_accuracy),\n",
        "    'SVC': (svc_model, svc_acc)\n",
        "}\n",
        "\n",
        "best_model_name, (best_model, best_accuracy) = max(models.items(), key=lambda x: x[1][1])\n",
        "\n",
        "print(f\"🏆 Best Model: {best_model_name} | Accuracy: {best_accuracy:.4f}\")\n"
      ],
      "metadata": {
        "colab": {
          "base_uri": "https://localhost:8080/"
        },
        "id": "vC67_kuhqWq_",
        "outputId": "db7c1927-25f7-433c-e1f3-eb81d76b1b03"
      },
      "execution_count": null,
      "outputs": [
        {
          "output_type": "stream",
          "name": "stdout",
          "text": [
            "🏆 Best Model: Logistic Regression (Tuned) | Accuracy: 0.7518\n"
          ]
        }
      ]
    },
    {
      "cell_type": "markdown",
      "source": [
        "Confusion Matrix + Save All"
      ],
      "metadata": {
        "id": "VvrGPt17sJe4"
      }
    },
    {
      "cell_type": "code",
      "source": [
        "best_predictions = best_model.predict(X_test)\n",
        "plt.figure(figsize=(12, 8))\n",
        "cm = confusion_matrix(y_test, best_predictions)\n",
        "sns.heatmap(cm, annot=True, fmt='d', cmap='Blues',\n",
        "            xticklabels=label_encoder.classes_,\n",
        "            yticklabels=label_encoder.classes_)\n",
        "plt.title(f'Confusion Matrix - {best_model_name}')\n",
        "plt.xlabel('Predicted')\n",
        "plt.ylabel('Actual')\n",
        "plt.tight_layout()\n",
        "plt.show()\n",
        "\n",
        "# Save model\n",
        "os.makedirs('models', exist_ok=True)\n",
        "joblib.dump(best_model, 'models/resume_classifier_tuned.pkl')\n",
        "joblib.dump(label_encoder, 'models/label_encoder.pkl')\n",
        "with open('models/sentence_model_name.txt', 'w') as f:\n",
        "    f.write('all-MiniLM-L6-v2')\n",
        "\n",
        "model_info = {\n",
        "    'model_type': best_model_name,\n",
        "    'accuracy': best_accuracy,\n",
        "    'embedding_dim': X.shape[1],\n",
        "    'num_classes': len(label_encoder.classes_),\n",
        "    'classes': label_encoder.classes_.tolist()\n",
        "}\n",
        "with open('models/model_info.json', 'w') as f:\n",
        "    json.dump(model_info, f, indent=2)\n"
      ],
      "metadata": {
        "colab": {
          "base_uri": "https://localhost:8080/",
          "height": 480
        },
        "id": "_Uk7y1hKqWtO",
        "outputId": "127a17d1-b85e-4ed4-aaa6-6f5a33fa81a1"
      },
      "execution_count": null,
      "outputs": [
        {
          "output_type": "display_data",
          "data": {
            "text/plain": [
              "<Figure size 1200x800 with 2 Axes>"
            ],
            "image/png": "[encoded data removed]"
          },
          "metadata": {}
        }
      ]
    },
    {
      "cell_type": "markdown",
      "source": [
        "Resume Prediction Function"
      ],
      "metadata": {
        "id": "4f4e9lRssNLU"
      }
    },
    {
      "cell_type": "code",
      "source": [
        "def predict_resume_category(resume_text, model_path='models/resume_classifier_tuned.pkl',\n",
        "                            label_encoder_path='models/label_encoder.pkl'):\n",
        "    classifier = joblib.load(model_path)\n",
        "    label_encoder = joblib.load(label_encoder_path)\n",
        "    cleaned_text = clean_resume_text(resume_text)\n",
        "    embedding = model.encode([cleaned_text])\n",
        "    prediction = classifier.predict(embedding)[0]\n",
        "    prediction_proba = classifier.predict_proba(embedding)[0]\n",
        "    predicted_category = label_encoder.inverse_transform([prediction])[0]\n",
        "    sorted_predictions = sorted(\n",
        "        {label_encoder.classes_[i]: prob for i, prob in enumerate(prediction_proba)}.items(),\n",
        "        key=lambda x: x[1], reverse=True\n",
        "    )\n",
        "    return {\n",
        "        'predicted_category': predicted_category,\n",
        "        'confidence': prediction_proba[prediction],\n",
        "        'top_3_predictions': sorted_predictions[:3],\n",
        "        'all_predictions': sorted_predictions\n",
        "    }\n"
      ],
      "metadata": {
        "id": "Wojn58DGqWwu"
      },
      "execution_count": null,
      "outputs": []
    },
    {
      "cell_type": "markdown",
      "source": [
        "Example Resume Prediction"
      ],
      "metadata": {
        "id": "ELTflHobsPUh"
      }
    },
    {
      "cell_type": "code",
      "source": [
        "custom_resume = \"\"\"\n",
        "Data Scientist with 3 years of experience in machine learning and data analysis.\n",
        "Skilled in Python, R, SQL, and various ML algorithms including Random Forest,\n",
        "SVM, and Neural Networks. Experience with data visualization tools like Tableau\n",
        "and matplotlib. Worked on predictive modeling projects and statistical analysis.\n",
        "Strong background in statistics and mathematics. Experience with cloud platforms\n",
        "like AWS and GCP.\n",
        "\"\"\"\n",
        "\n",
        "result = predict_resume_category(custom_resume)\n",
        "print(\"Predicted Category:\", result['predicted_category'])\n",
        "print(\"Confidence:\", result['confidence'])\n",
        "print(\"\\nTop 3 Predictions:\")\n",
        "for i, (cat, conf) in enumerate(result['top_3_predictions'], 1):\n",
        "    print(f\"{i}. {cat}: {conf:.4f}\")\n"
      ],
      "metadata": {
        "colab": {
          "base_uri": "https://localhost:8080/"
        },
        "id": "nxnmWx6BqilZ",
        "outputId": "53d168f6-b926-4b4c-c646-0fdfc7c8996e"
      },
      "execution_count": null,
      "outputs": [
        {
          "output_type": "stream",
          "name": "stdout",
          "text": [
            "Predicted Category: Data Science\n",
            "Confidence: 0.6696492754831201\n",
            "\n",
            "Top 3 Predictions:\n",
            "1. Data Science: 0.6696\n",
            "2. Python Developer: 0.2924\n",
            "3. ETL Developer: 0.0088\n"
          ]
        }
      ]
    }
  ]
}